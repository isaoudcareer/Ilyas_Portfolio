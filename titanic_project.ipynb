{
 "cells": [
  {
   "cell_type": "markdown",
   "id": "33d6d3fa",
   "metadata": {
    "_cell_guid": "27b5bfcd-1395-4c36-92f4-7458d0d9e97a",
    "_uuid": "0d9e8113-ec92-4b61-b672-9fc300015250",
    "papermill": {
     "duration": 0.00841,
     "end_time": "2022-10-20T01:11:24.382895",
     "exception": false,
     "start_time": "2022-10-20T01:11:24.374485",
     "status": "completed"
    },
    "tags": []
   },
   "source": [
    "# Titanic Project "
   ]
  },
  {
   "cell_type": "markdown",
   "id": "0e9c4cbf",
   "metadata": {
    "_cell_guid": "d03dc8b5-68b7-469d-8ce3-38d8eae74e23",
    "_uuid": "b43a07f1-6ffa-435d-a6aa-88e1f4174182",
    "papermill": {
     "duration": 0.00695,
     "end_time": "2022-10-20T01:11:24.397303",
     "exception": false,
     "start_time": "2022-10-20T01:11:24.390353",
     "status": "completed"
    },
    "tags": []
   },
   "source": [
    "## Some basic libraries!"
   ]
  },
  {
   "cell_type": "code",
   "execution_count": 1,
   "id": "218554cd",
   "metadata": {
    "_cell_guid": "f9e28814-3689-4a13-a417-037617212874",
    "_uuid": "005b9647-ece7-46a2-ba2d-418b41c2fec6",
    "collapsed": false,
    "execution": {
     "iopub.execute_input": "2022-10-20T01:11:24.414660Z",
     "iopub.status.busy": "2022-10-20T01:11:24.413223Z",
     "iopub.status.idle": "2022-10-20T01:11:25.617048Z",
     "shell.execute_reply": "2022-10-20T01:11:25.615851Z"
    },
    "jupyter": {
     "outputs_hidden": false
    },
    "papermill": {
     "duration": 1.215642,
     "end_time": "2022-10-20T01:11:25.620060",
     "exception": false,
     "start_time": "2022-10-20T01:11:24.404418",
     "status": "completed"
    },
    "tags": []
   },
   "outputs": [],
   "source": [
    "import seaborn as sns\n",
    "import numpy as np\n",
    "import pandas as pd\n",
    "import matplotlib.pyplot as plt\n",
    "pd.options.mode.chained_assignment = None  # default='warn'"
   ]
  },
  {
   "cell_type": "markdown",
   "id": "8f42a643",
   "metadata": {
    "_cell_guid": "ee9b9930-86b9-4913-bfae-db817be752fc",
    "_uuid": "bc1272e6-5559-41e3-9821-a19c7f0f29f7",
    "papermill": {
     "duration": 0.007174,
     "end_time": "2022-10-20T01:11:25.634894",
     "exception": false,
     "start_time": "2022-10-20T01:11:25.627720",
     "status": "completed"
    },
    "tags": []
   },
   "source": [
    "# The Data \n",
    "* The 'train' dataset is used to train and test our model accuarcy.\n",
    "* The 'test' dataset is used to predict and submit for evaluation."
   ]
  },
  {
   "cell_type": "code",
   "execution_count": 2,
   "id": "495e30d3",
   "metadata": {
    "_cell_guid": "b2ebf28b-c143-455e-bd2d-0ca26d5a531c",
    "_uuid": "153c6a01-7777-4d59-8b43-1d0974ae2e4c",
    "collapsed": false,
    "execution": {
     "iopub.execute_input": "2022-10-20T01:11:25.652276Z",
     "iopub.status.busy": "2022-10-20T01:11:25.651019Z",
     "iopub.status.idle": "2022-10-20T01:11:25.722142Z",
     "shell.execute_reply": "2022-10-20T01:11:25.721361Z"
    },
    "jupyter": {
     "outputs_hidden": false
    },
    "papermill": {
     "duration": 0.083083,
     "end_time": "2022-10-20T01:11:25.725314",
     "exception": false,
     "start_time": "2022-10-20T01:11:25.642231",
     "status": "completed"
    },
    "tags": []
   },
   "outputs": [
    {
     "data": {
      "text/html": [
       "<div>\n",
       "<style scoped>\n",
       "    .dataframe tbody tr th:only-of-type {\n",
       "        vertical-align: middle;\n",
       "    }\n",
       "\n",
       "    .dataframe tbody tr th {\n",
       "        vertical-align: top;\n",
       "    }\n",
       "\n",
       "    .dataframe thead th {\n",
       "        text-align: right;\n",
       "    }\n",
       "</style>\n",
       "<table border=\"1\" class=\"dataframe\">\n",
       "  <thead>\n",
       "    <tr style=\"text-align: right;\">\n",
       "      <th></th>\n",
       "      <th>PassengerId</th>\n",
       "      <th>Survived</th>\n",
       "      <th>Pclass</th>\n",
       "      <th>Name</th>\n",
       "      <th>Sex</th>\n",
       "      <th>Age</th>\n",
       "      <th>SibSp</th>\n",
       "      <th>Parch</th>\n",
       "      <th>Ticket</th>\n",
       "      <th>Fare</th>\n",
       "      <th>Cabin</th>\n",
       "      <th>Embarked</th>\n",
       "    </tr>\n",
       "  </thead>\n",
       "  <tbody>\n",
       "    <tr>\n",
       "      <th>0</th>\n",
       "      <td>1</td>\n",
       "      <td>0</td>\n",
       "      <td>3</td>\n",
       "      <td>Braund, Mr. Owen Harris</td>\n",
       "      <td>male</td>\n",
       "      <td>22.0</td>\n",
       "      <td>1</td>\n",
       "      <td>0</td>\n",
       "      <td>A/5 21171</td>\n",
       "      <td>7.2500</td>\n",
       "      <td>NaN</td>\n",
       "      <td>S</td>\n",
       "    </tr>\n",
       "    <tr>\n",
       "      <th>1</th>\n",
       "      <td>2</td>\n",
       "      <td>1</td>\n",
       "      <td>1</td>\n",
       "      <td>Cumings, Mrs. John Bradley (Florence Briggs Th...</td>\n",
       "      <td>female</td>\n",
       "      <td>38.0</td>\n",
       "      <td>1</td>\n",
       "      <td>0</td>\n",
       "      <td>PC 17599</td>\n",
       "      <td>71.2833</td>\n",
       "      <td>C85</td>\n",
       "      <td>C</td>\n",
       "    </tr>\n",
       "    <tr>\n",
       "      <th>2</th>\n",
       "      <td>3</td>\n",
       "      <td>1</td>\n",
       "      <td>3</td>\n",
       "      <td>Heikkinen, Miss. Laina</td>\n",
       "      <td>female</td>\n",
       "      <td>26.0</td>\n",
       "      <td>0</td>\n",
       "      <td>0</td>\n",
       "      <td>STON/O2. 3101282</td>\n",
       "      <td>7.9250</td>\n",
       "      <td>NaN</td>\n",
       "      <td>S</td>\n",
       "    </tr>\n",
       "    <tr>\n",
       "      <th>3</th>\n",
       "      <td>4</td>\n",
       "      <td>1</td>\n",
       "      <td>1</td>\n",
       "      <td>Futrelle, Mrs. Jacques Heath (Lily May Peel)</td>\n",
       "      <td>female</td>\n",
       "      <td>35.0</td>\n",
       "      <td>1</td>\n",
       "      <td>0</td>\n",
       "      <td>113803</td>\n",
       "      <td>53.1000</td>\n",
       "      <td>C123</td>\n",
       "      <td>S</td>\n",
       "    </tr>\n",
       "    <tr>\n",
       "      <th>4</th>\n",
       "      <td>5</td>\n",
       "      <td>0</td>\n",
       "      <td>3</td>\n",
       "      <td>Allen, Mr. William Henry</td>\n",
       "      <td>male</td>\n",
       "      <td>35.0</td>\n",
       "      <td>0</td>\n",
       "      <td>0</td>\n",
       "      <td>373450</td>\n",
       "      <td>8.0500</td>\n",
       "      <td>NaN</td>\n",
       "      <td>S</td>\n",
       "    </tr>\n",
       "    <tr>\n",
       "      <th>...</th>\n",
       "      <td>...</td>\n",
       "      <td>...</td>\n",
       "      <td>...</td>\n",
       "      <td>...</td>\n",
       "      <td>...</td>\n",
       "      <td>...</td>\n",
       "      <td>...</td>\n",
       "      <td>...</td>\n",
       "      <td>...</td>\n",
       "      <td>...</td>\n",
       "      <td>...</td>\n",
       "      <td>...</td>\n",
       "    </tr>\n",
       "    <tr>\n",
       "      <th>886</th>\n",
       "      <td>887</td>\n",
       "      <td>0</td>\n",
       "      <td>2</td>\n",
       "      <td>Montvila, Rev. Juozas</td>\n",
       "      <td>male</td>\n",
       "      <td>27.0</td>\n",
       "      <td>0</td>\n",
       "      <td>0</td>\n",
       "      <td>211536</td>\n",
       "      <td>13.0000</td>\n",
       "      <td>NaN</td>\n",
       "      <td>S</td>\n",
       "    </tr>\n",
       "    <tr>\n",
       "      <th>887</th>\n",
       "      <td>888</td>\n",
       "      <td>1</td>\n",
       "      <td>1</td>\n",
       "      <td>Graham, Miss. Margaret Edith</td>\n",
       "      <td>female</td>\n",
       "      <td>19.0</td>\n",
       "      <td>0</td>\n",
       "      <td>0</td>\n",
       "      <td>112053</td>\n",
       "      <td>30.0000</td>\n",
       "      <td>B42</td>\n",
       "      <td>S</td>\n",
       "    </tr>\n",
       "    <tr>\n",
       "      <th>888</th>\n",
       "      <td>889</td>\n",
       "      <td>0</td>\n",
       "      <td>3</td>\n",
       "      <td>Johnston, Miss. Catherine Helen \"Carrie\"</td>\n",
       "      <td>female</td>\n",
       "      <td>NaN</td>\n",
       "      <td>1</td>\n",
       "      <td>2</td>\n",
       "      <td>W./C. 6607</td>\n",
       "      <td>23.4500</td>\n",
       "      <td>NaN</td>\n",
       "      <td>S</td>\n",
       "    </tr>\n",
       "    <tr>\n",
       "      <th>889</th>\n",
       "      <td>890</td>\n",
       "      <td>1</td>\n",
       "      <td>1</td>\n",
       "      <td>Behr, Mr. Karl Howell</td>\n",
       "      <td>male</td>\n",
       "      <td>26.0</td>\n",
       "      <td>0</td>\n",
       "      <td>0</td>\n",
       "      <td>111369</td>\n",
       "      <td>30.0000</td>\n",
       "      <td>C148</td>\n",
       "      <td>C</td>\n",
       "    </tr>\n",
       "    <tr>\n",
       "      <th>890</th>\n",
       "      <td>891</td>\n",
       "      <td>0</td>\n",
       "      <td>3</td>\n",
       "      <td>Dooley, Mr. Patrick</td>\n",
       "      <td>male</td>\n",
       "      <td>32.0</td>\n",
       "      <td>0</td>\n",
       "      <td>0</td>\n",
       "      <td>370376</td>\n",
       "      <td>7.7500</td>\n",
       "      <td>NaN</td>\n",
       "      <td>Q</td>\n",
       "    </tr>\n",
       "  </tbody>\n",
       "</table>\n",
       "<p>891 rows × 12 columns</p>\n",
       "</div>"
      ],
      "text/plain": [
       "     PassengerId  Survived  Pclass  \\\n",
       "0              1         0       3   \n",
       "1              2         1       1   \n",
       "2              3         1       3   \n",
       "3              4         1       1   \n",
       "4              5         0       3   \n",
       "..           ...       ...     ...   \n",
       "886          887         0       2   \n",
       "887          888         1       1   \n",
       "888          889         0       3   \n",
       "889          890         1       1   \n",
       "890          891         0       3   \n",
       "\n",
       "                                                  Name     Sex   Age  SibSp  \\\n",
       "0                              Braund, Mr. Owen Harris    male  22.0      1   \n",
       "1    Cumings, Mrs. John Bradley (Florence Briggs Th...  female  38.0      1   \n",
       "2                               Heikkinen, Miss. Laina  female  26.0      0   \n",
       "3         Futrelle, Mrs. Jacques Heath (Lily May Peel)  female  35.0      1   \n",
       "4                             Allen, Mr. William Henry    male  35.0      0   \n",
       "..                                                 ...     ...   ...    ...   \n",
       "886                              Montvila, Rev. Juozas    male  27.0      0   \n",
       "887                       Graham, Miss. Margaret Edith  female  19.0      0   \n",
       "888           Johnston, Miss. Catherine Helen \"Carrie\"  female   NaN      1   \n",
       "889                              Behr, Mr. Karl Howell    male  26.0      0   \n",
       "890                                Dooley, Mr. Patrick    male  32.0      0   \n",
       "\n",
       "     Parch            Ticket     Fare Cabin Embarked  \n",
       "0        0         A/5 21171   7.2500   NaN        S  \n",
       "1        0          PC 17599  71.2833   C85        C  \n",
       "2        0  STON/O2. 3101282   7.9250   NaN        S  \n",
       "3        0            113803  53.1000  C123        S  \n",
       "4        0            373450   8.0500   NaN        S  \n",
       "..     ...               ...      ...   ...      ...  \n",
       "886      0            211536  13.0000   NaN        S  \n",
       "887      0            112053  30.0000   B42        S  \n",
       "888      2        W./C. 6607  23.4500   NaN        S  \n",
       "889      0            111369  30.0000  C148        C  \n",
       "890      0            370376   7.7500   NaN        Q  \n",
       "\n",
       "[891 rows x 12 columns]"
      ]
     },
     "execution_count": 2,
     "metadata": {},
     "output_type": "execute_result"
    }
   ],
   "source": [
    "train = df = pd.read_csv('../input/titanic/train.csv')\n",
    "test = df = pd.read_csv('../input/titanic/test.csv')\n",
    "acc_test = pd.read_csv('../input/titanic/gender_submission.csv')\n",
    "train"
   ]
  },
  {
   "cell_type": "markdown",
   "id": "6d9986a5",
   "metadata": {
    "_cell_guid": "38f2152f-321f-4335-8250-64ce4d37701e",
    "_uuid": "4dd3e9fd-cca4-4c87-bca9-ce57de0c6794",
    "papermill": {
     "duration": 0.008865,
     "end_time": "2022-10-20T01:11:25.741895",
     "exception": false,
     "start_time": "2022-10-20T01:11:25.733030",
     "status": "completed"
    },
    "tags": []
   },
   "source": [
    "## The description of each column\n",
    "\n",
    "* Survival: Survival              |\t0 = No, 1 = Yes\n",
    "* Pclass: Ticket class          | \t1 = 1st, 2 = 2nd, 3 = 3rd\n",
    "* Sex: Sex                   \t\n",
    "* Age: Age in years          \t\n",
    "* Sibsp: # of siblings / spouses aboard the Titanic \t\n",
    "* Parch: # of parents / children aboard the Titanic \t\n",
    "* Ticket: Ticket number         \t\n",
    "* Fare: Passenger fare        \n",
    "* Cabin: Cabin number        \n",
    "* Embarked: Port of Embarkation   | C = Cherbourg, Q = Queenstown, S = Southampton"
   ]
  },
  {
   "cell_type": "markdown",
   "id": "90e9dfbc",
   "metadata": {
    "_cell_guid": "7072d88f-f8ca-4852-8b9a-d243b044db10",
    "_uuid": "db8c92e4-2fe9-4aa9-a94c-5afefc9e7554",
    "papermill": {
     "duration": 0.007307,
     "end_time": "2022-10-20T01:11:25.756699",
     "exception": false,
     "start_time": "2022-10-20T01:11:25.749392",
     "status": "completed"
    },
    "tags": []
   },
   "source": [
    "## Let's see what data we're missing here."
   ]
  },
  {
   "cell_type": "code",
   "execution_count": 3,
   "id": "f793e2f4",
   "metadata": {
    "_cell_guid": "fd667e32-8b98-4f6f-8f9b-25279a4943af",
    "_uuid": "3c0b205b-1a31-4167-9cb6-27354397f9fd",
    "collapsed": false,
    "execution": {
     "iopub.execute_input": "2022-10-20T01:11:25.773952Z",
     "iopub.status.busy": "2022-10-20T01:11:25.773318Z",
     "iopub.status.idle": "2022-10-20T01:11:25.782982Z",
     "shell.execute_reply": "2022-10-20T01:11:25.781278Z"
    },
    "jupyter": {
     "outputs_hidden": false
    },
    "papermill": {
     "duration": 0.021614,
     "end_time": "2022-10-20T01:11:25.785913",
     "exception": false,
     "start_time": "2022-10-20T01:11:25.764299",
     "status": "completed"
    },
    "tags": []
   },
   "outputs": [
    {
     "name": "stdout",
     "output_type": "stream",
     "text": [
      "             Sum of NaN\n"
     ]
    },
    {
     "data": {
      "text/plain": [
       "PassengerId      0\n",
       "Survived         0\n",
       "Pclass           0\n",
       "Name             0\n",
       "Sex              0\n",
       "Age            177\n",
       "SibSp            0\n",
       "Parch            0\n",
       "Ticket           0\n",
       "Fare             0\n",
       "Cabin          687\n",
       "Embarked         2\n",
       "dtype: int64"
      ]
     },
     "execution_count": 3,
     "metadata": {},
     "output_type": "execute_result"
    }
   ],
   "source": [
    "print(\"             Sum of NaN\")\n",
    "train.isnull().sum()"
   ]
  },
  {
   "cell_type": "markdown",
   "id": "a8ba762a",
   "metadata": {
    "_cell_guid": "2b21ab52-ca24-44c1-b777-d2036f04276d",
    "_uuid": "423784e8-1110-4e22-b254-f777136c3af1",
    "papermill": {
     "duration": 0.007523,
     "end_time": "2022-10-20T01:11:25.802518",
     "exception": false,
     "start_time": "2022-10-20T01:11:25.794995",
     "status": "completed"
    },
    "tags": []
   },
   "source": [
    "## Action:\n",
    "* Let's first drop our two rows with NaN in our 'Embarked' column. It's only two rows so that won't hurt us.\n",
    "* Then we're going to fill our 'Age' column values that has 'NaN' with the Age mean value using SimpleImputer."
   ]
  },
  {
   "cell_type": "code",
   "execution_count": 4,
   "id": "87edd23b",
   "metadata": {
    "_cell_guid": "4a05a035-459d-4b9e-a25b-bfba3e7b1a22",
    "_uuid": "bae12624-c545-46a8-b0da-d9fb0a5e3dac",
    "collapsed": false,
    "execution": {
     "iopub.execute_input": "2022-10-20T01:11:25.821129Z",
     "iopub.status.busy": "2022-10-20T01:11:25.820117Z",
     "iopub.status.idle": "2022-10-20T01:11:25.833928Z",
     "shell.execute_reply": "2022-10-20T01:11:25.832732Z"
    },
    "jupyter": {
     "outputs_hidden": false
    },
    "papermill": {
     "duration": 0.026118,
     "end_time": "2022-10-20T01:11:25.836939",
     "exception": false,
     "start_time": "2022-10-20T01:11:25.810821",
     "status": "completed"
    },
    "tags": []
   },
   "outputs": [],
   "source": [
    "train.dropna(inplace=True,axis=0,subset=['Embarked'])\n",
    "test.dropna(inplace=True,axis=0,subset=['Embarked'])"
   ]
  },
  {
   "cell_type": "code",
   "execution_count": 5,
   "id": "b7721a86",
   "metadata": {
    "_cell_guid": "3480ac4b-f967-42e1-b85b-4d33afe46632",
    "_uuid": "de6b294e-f41a-4517-b602-a8772c80d75b",
    "collapsed": false,
    "execution": {
     "iopub.execute_input": "2022-10-20T01:11:25.854769Z",
     "iopub.status.busy": "2022-10-20T01:11:25.854342Z",
     "iopub.status.idle": "2022-10-20T01:11:26.229370Z",
     "shell.execute_reply": "2022-10-20T01:11:26.227814Z"
    },
    "jupyter": {
     "outputs_hidden": false
    },
    "papermill": {
     "duration": 0.387667,
     "end_time": "2022-10-20T01:11:26.232581",
     "exception": false,
     "start_time": "2022-10-20T01:11:25.844914",
     "status": "completed"
    },
    "tags": []
   },
   "outputs": [
    {
     "name": "stdout",
     "output_type": "stream",
     "text": [
      "             Sum of NaN\n"
     ]
    },
    {
     "data": {
      "text/plain": [
       "PassengerId      0\n",
       "Survived         0\n",
       "Pclass           0\n",
       "Name             0\n",
       "Sex              0\n",
       "Age              0\n",
       "SibSp            0\n",
       "Parch            0\n",
       "Ticket           0\n",
       "Fare             0\n",
       "Cabin          687\n",
       "Embarked         0\n",
       "dtype: int64"
      ]
     },
     "execution_count": 5,
     "metadata": {},
     "output_type": "execute_result"
    }
   ],
   "source": [
    "from sklearn.impute import SimpleImputer\n",
    "\n",
    "imputer = SimpleImputer(missing_values=np.nan , strategy='mean')\n",
    "train[['Age']] = imputer.fit_transform(train[['Age']])\n",
    "test[['Age','Fare']] = imputer.fit_transform(test[['Age','Fare']])\n",
    "\n",
    "print(\"             Sum of NaN\")\n",
    "train.isnull().sum()"
   ]
  },
  {
   "cell_type": "markdown",
   "id": "f70022f3",
   "metadata": {
    "_cell_guid": "74df2f0c-b042-4bb2-8eb3-5c9d386ad6ff",
    "_uuid": "0a060119-d9de-41b4-9b43-f1ad5ba905bd",
    "papermill": {
     "duration": 0.007931,
     "end_time": "2022-10-20T01:11:26.249053",
     "exception": false,
     "start_time": "2022-10-20T01:11:26.241122",
     "status": "completed"
    },
    "tags": []
   },
   "source": [
    "Much better.. and we're not using 'Cabin' here because the data column is almost all empty."
   ]
  },
  {
   "cell_type": "markdown",
   "id": "3fedb94d",
   "metadata": {
    "_cell_guid": "2c31e9be-dfbe-4079-9de7-f82ab3434901",
    "_uuid": "904bb062-0fa9-4bce-a2dc-2dfb515a59f7",
    "papermill": {
     "duration": 0.008115,
     "end_time": "2022-10-20T01:11:26.265701",
     "exception": false,
     "start_time": "2022-10-20T01:11:26.257586",
     "status": "completed"
    },
    "tags": []
   },
   "source": [
    "# Feature Engineering"
   ]
  },
  {
   "cell_type": "markdown",
   "id": "93649060",
   "metadata": {
    "_cell_guid": "153ecaa3-e063-4d39-8d23-1ec4c31a0a22",
    "_uuid": "2a434635-61f6-403b-948d-384145ac77a6",
    "papermill": {
     "duration": 0.007638,
     "end_time": "2022-10-20T01:11:26.282254",
     "exception": false,
     "start_time": "2022-10-20T01:11:26.274616",
     "status": "completed"
    },
    "tags": []
   },
   "source": [
    "* Let's add **Title**, & **Family_Size.**"
   ]
  },
  {
   "cell_type": "code",
   "execution_count": 6,
   "id": "a9725cbc",
   "metadata": {
    "_cell_guid": "7820e430-3242-49ed-a0cd-cb03f58053c5",
    "_uuid": "569d4db6-d110-43b4-a716-ee951f710e65",
    "collapsed": false,
    "execution": {
     "iopub.execute_input": "2022-10-20T01:11:26.300579Z",
     "iopub.status.busy": "2022-10-20T01:11:26.300181Z",
     "iopub.status.idle": "2022-10-20T01:11:26.317997Z",
     "shell.execute_reply": "2022-10-20T01:11:26.316988Z"
    },
    "jupyter": {
     "outputs_hidden": false
    },
    "papermill": {
     "duration": 0.029823,
     "end_time": "2022-10-20T01:11:26.320124",
     "exception": false,
     "start_time": "2022-10-20T01:11:26.290301",
     "status": "completed"
    },
    "tags": []
   },
   "outputs": [],
   "source": [
    "def variables(df):\n",
    "    df['Title'] = df['Name'].apply(lambda x : x.split(' ')[1].strip('123,./!?'))\n",
    "    df.drop('Name', axis = 1 , inplace = True)\n",
    "    df['Title'] = df['Title'].apply(lambda x : x if x in ['Mr','Miss','Mrs','Master'] else 'NoTitle')\n",
    "    df['Family_Size'] = df['SibSp'] + df['Parch'] + 1\n",
    "    df['Title'] = df['Title'].map({'NoTitle' : 0 , 'Miss': 1, 'Mrs' : 2,'Mr' :3 ,'Master' : 4})\n",
    "variables(train)\n",
    "variables(test)"
   ]
  },
  {
   "cell_type": "code",
   "execution_count": 7,
   "id": "480e4669",
   "metadata": {
    "_cell_guid": "5a272cb3-e580-418c-9267-25974b743676",
    "_uuid": "0c766b74-30cf-494f-a5f7-099d89dc9315",
    "collapsed": false,
    "execution": {
     "iopub.execute_input": "2022-10-20T01:11:26.340409Z",
     "iopub.status.busy": "2022-10-20T01:11:26.339423Z",
     "iopub.status.idle": "2022-10-20T01:11:26.348255Z",
     "shell.execute_reply": "2022-10-20T01:11:26.347312Z"
    },
    "jupyter": {
     "outputs_hidden": false
    },
    "papermill": {
     "duration": 0.021614,
     "end_time": "2022-10-20T01:11:26.350840",
     "exception": false,
     "start_time": "2022-10-20T01:11:26.329226",
     "status": "completed"
    },
    "tags": []
   },
   "outputs": [],
   "source": [
    "# Columns we're keeping: Pclass,Sex,Age,SibSp,Parch,Fare,Embarked,Family_Size,Title\n",
    "train = train[['Survived','Pclass','Sex','Age','SibSp','Parch','Fare','Embarked','Family_Size','Title']]\n",
    "test = test[['PassengerId','Pclass','Sex','Age','SibSp','Parch','Fare','Embarked','Family_Size','Title']]"
   ]
  },
  {
   "cell_type": "code",
   "execution_count": 8,
   "id": "e8b4fa1f",
   "metadata": {
    "_cell_guid": "034db9dd-3c17-4cc6-ac46-2442ad20ab6e",
    "_uuid": "aab560b8-7c1e-4b3d-8b5c-cb3abecf079b",
    "collapsed": false,
    "execution": {
     "iopub.execute_input": "2022-10-20T01:11:26.369526Z",
     "iopub.status.busy": "2022-10-20T01:11:26.368884Z",
     "iopub.status.idle": "2022-10-20T01:11:26.387021Z",
     "shell.execute_reply": "2022-10-20T01:11:26.386051Z"
    },
    "jupyter": {
     "outputs_hidden": false
    },
    "papermill": {
     "duration": 0.030471,
     "end_time": "2022-10-20T01:11:26.389544",
     "exception": false,
     "start_time": "2022-10-20T01:11:26.359073",
     "status": "completed"
    },
    "tags": []
   },
   "outputs": [
    {
     "data": {
      "text/html": [
       "<div>\n",
       "<style scoped>\n",
       "    .dataframe tbody tr th:only-of-type {\n",
       "        vertical-align: middle;\n",
       "    }\n",
       "\n",
       "    .dataframe tbody tr th {\n",
       "        vertical-align: top;\n",
       "    }\n",
       "\n",
       "    .dataframe thead th {\n",
       "        text-align: right;\n",
       "    }\n",
       "</style>\n",
       "<table border=\"1\" class=\"dataframe\">\n",
       "  <thead>\n",
       "    <tr style=\"text-align: right;\">\n",
       "      <th></th>\n",
       "      <th>Survived</th>\n",
       "      <th>Pclass</th>\n",
       "      <th>Sex</th>\n",
       "      <th>Age</th>\n",
       "      <th>SibSp</th>\n",
       "      <th>Parch</th>\n",
       "      <th>Fare</th>\n",
       "      <th>Embarked</th>\n",
       "      <th>Family_Size</th>\n",
       "      <th>Title</th>\n",
       "    </tr>\n",
       "  </thead>\n",
       "  <tbody>\n",
       "    <tr>\n",
       "      <th>0</th>\n",
       "      <td>0</td>\n",
       "      <td>3</td>\n",
       "      <td>male</td>\n",
       "      <td>22.0</td>\n",
       "      <td>1</td>\n",
       "      <td>0</td>\n",
       "      <td>7.2500</td>\n",
       "      <td>S</td>\n",
       "      <td>2</td>\n",
       "      <td>3</td>\n",
       "    </tr>\n",
       "    <tr>\n",
       "      <th>1</th>\n",
       "      <td>1</td>\n",
       "      <td>1</td>\n",
       "      <td>female</td>\n",
       "      <td>38.0</td>\n",
       "      <td>1</td>\n",
       "      <td>0</td>\n",
       "      <td>71.2833</td>\n",
       "      <td>C</td>\n",
       "      <td>2</td>\n",
       "      <td>2</td>\n",
       "    </tr>\n",
       "    <tr>\n",
       "      <th>2</th>\n",
       "      <td>1</td>\n",
       "      <td>3</td>\n",
       "      <td>female</td>\n",
       "      <td>26.0</td>\n",
       "      <td>0</td>\n",
       "      <td>0</td>\n",
       "      <td>7.9250</td>\n",
       "      <td>S</td>\n",
       "      <td>1</td>\n",
       "      <td>1</td>\n",
       "    </tr>\n",
       "    <tr>\n",
       "      <th>3</th>\n",
       "      <td>1</td>\n",
       "      <td>1</td>\n",
       "      <td>female</td>\n",
       "      <td>35.0</td>\n",
       "      <td>1</td>\n",
       "      <td>0</td>\n",
       "      <td>53.1000</td>\n",
       "      <td>S</td>\n",
       "      <td>2</td>\n",
       "      <td>2</td>\n",
       "    </tr>\n",
       "    <tr>\n",
       "      <th>4</th>\n",
       "      <td>0</td>\n",
       "      <td>3</td>\n",
       "      <td>male</td>\n",
       "      <td>35.0</td>\n",
       "      <td>0</td>\n",
       "      <td>0</td>\n",
       "      <td>8.0500</td>\n",
       "      <td>S</td>\n",
       "      <td>1</td>\n",
       "      <td>3</td>\n",
       "    </tr>\n",
       "  </tbody>\n",
       "</table>\n",
       "</div>"
      ],
      "text/plain": [
       "   Survived  Pclass     Sex   Age  SibSp  Parch     Fare Embarked  \\\n",
       "0         0       3    male  22.0      1      0   7.2500        S   \n",
       "1         1       1  female  38.0      1      0  71.2833        C   \n",
       "2         1       3  female  26.0      0      0   7.9250        S   \n",
       "3         1       1  female  35.0      1      0  53.1000        S   \n",
       "4         0       3    male  35.0      0      0   8.0500        S   \n",
       "\n",
       "   Family_Size  Title  \n",
       "0            2      3  \n",
       "1            2      2  \n",
       "2            1      1  \n",
       "3            2      2  \n",
       "4            1      3  "
      ]
     },
     "execution_count": 8,
     "metadata": {},
     "output_type": "execute_result"
    }
   ],
   "source": [
    "train.head()"
   ]
  },
  {
   "cell_type": "markdown",
   "id": "5a18c6f9",
   "metadata": {
    "_cell_guid": "df9d2644-2222-436c-bab4-1e060ae74cdf",
    "_uuid": "cabafb3a-3bfb-4d1e-bb52-02c5a840953f",
    "papermill": {
     "duration": 0.008036,
     "end_time": "2022-10-20T01:11:26.406658",
     "exception": false,
     "start_time": "2022-10-20T01:11:26.398622",
     "status": "completed"
    },
    "tags": []
   },
   "source": [
    "## Some Cool yet useful *Visuals*"
   ]
  },
  {
   "cell_type": "code",
   "execution_count": 9,
   "id": "8c3855d2",
   "metadata": {
    "_cell_guid": "37a9600a-0a31-4a5e-8b90-699b821d5f0d",
    "_uuid": "78665eae-f68c-448e-b0d8-bdb63e60a595",
    "collapsed": false,
    "execution": {
     "iopub.execute_input": "2022-10-20T01:11:26.425780Z",
     "iopub.status.busy": "2022-10-20T01:11:26.425030Z",
     "iopub.status.idle": "2022-10-20T01:11:26.855501Z",
     "shell.execute_reply": "2022-10-20T01:11:26.854237Z"
    },
    "jupyter": {
     "outputs_hidden": false
    },
    "papermill": {
     "duration": 0.443241,
     "end_time": "2022-10-20T01:11:26.858330",
     "exception": false,
     "start_time": "2022-10-20T01:11:26.415089",
     "status": "completed"
    },
    "tags": []
   },
   "outputs": [
    {
     "data": {
      "text/plain": [
       "[Text(0, 0, '161'),\n",
       " Text(0, 0, '89'),\n",
       " Text(0, 0, '59'),\n",
       " Text(0, 0, '21'),\n",
       " Text(0, 0, '3'),\n",
       " Text(0, 0, '3'),\n",
       " Text(0, 0, '4'),\n",
       " Text(0, 0, ''),\n",
       " Text(0, 0, '')]"
      ]
     },
     "execution_count": 9,
     "metadata": {},
     "output_type": "execute_result"
    },
    {
     "data": {
      "image/png": "[encoded data removed]",
      "text/plain": [
       "<Figure size 432x288 with 1 Axes>"
      ]
     },
     "metadata": {
      "needs_background": "light"
     },
     "output_type": "display_data"
    }
   ],
   "source": [
    "ax = sns.countplot(x='Family_Size', hue='Survived', data=train)\n",
    "ax.bar_label(ax.containers[0])\n",
    "ax.bar_label(ax.containers[1])"
   ]
  },
  {
   "cell_type": "code",
   "execution_count": 10,
   "id": "829d3a93",
   "metadata": {
    "_cell_guid": "4cec37b1-9827-4e82-b191-837f722734dd",
    "_uuid": "779ef330-7794-411b-96d9-d786100a9f47",
    "collapsed": false,
    "execution": {
     "iopub.execute_input": "2022-10-20T01:11:26.877782Z",
     "iopub.status.busy": "2022-10-20T01:11:26.877337Z",
     "iopub.status.idle": "2022-10-20T01:11:28.210684Z",
     "shell.execute_reply": "2022-10-20T01:11:28.209219Z"
    },
    "jupyter": {
     "outputs_hidden": false
    },
    "papermill": {
     "duration": 1.346085,
     "end_time": "2022-10-20T01:11:28.213316",
     "exception": false,
     "start_time": "2022-10-20T01:11:26.867231",
     "status": "completed"
    },
    "tags": []
   },
   "outputs": [
    {
     "data": {
      "image/png": "[encoded data removed]",
      "text/plain": [
       "<Figure size 509.975x648 with 6 Axes>"
      ]
     },
     "metadata": {},
     "output_type": "display_data"
    }
   ],
   "source": [
    "sns.set_theme(style=\"darkgrid\")\n",
    "disp = sns.displot(\n",
    "    train, x=\"Sex\", col=\"Survived\", row=\"Pclass\",\n",
    "    binwidth=10, height=3, facet_kws=dict(margin_titles=True),\n",
    "    stat = \"count\",hue = \"Sex\"\n",
    ");"
   ]
  },
  {
   "cell_type": "markdown",
   "id": "8036e7a6",
   "metadata": {
    "_cell_guid": "d16bc83f-4062-46dc-8666-7aacf5f2d8f9",
    "_uuid": "987820ad-876e-4942-9753-eaf39015df8f",
    "papermill": {
     "duration": 0.009644,
     "end_time": "2022-10-20T01:11:28.232945",
     "exception": false,
     "start_time": "2022-10-20T01:11:28.223301",
     "status": "completed"
    },
    "tags": []
   },
   "source": [
    "## One-hot Encoding (PreProcessing)"
   ]
  },
  {
   "cell_type": "markdown",
   "id": "b91f4e52",
   "metadata": {
    "_cell_guid": "9c4a6ac9-db06-4359-bb7f-e1dadf5b34be",
    "_uuid": "b5dfae65-7581-4b2e-83f9-51fced5640c0",
    "execution": {
     "iopub.execute_input": "2022-10-13T01:33:59.692879Z",
     "iopub.status.busy": "2022-10-13T01:33:59.692217Z",
     "iopub.status.idle": "2022-10-13T01:33:59.697767Z",
     "shell.execute_reply": "2022-10-13T01:33:59.696452Z",
     "shell.execute_reply.started": "2022-10-13T01:33:59.692824Z"
    },
    "papermill": {
     "duration": 0.008957,
     "end_time": "2022-10-20T01:11:28.251349",
     "exception": false,
     "start_time": "2022-10-20T01:11:28.242392",
     "status": "completed"
    },
    "tags": []
   },
   "source": [
    "* **numerical:** Age,Fare,SibSp,Parch \n",
    "* **nominal variables:** Sex,Embarked,Is_Married \n",
    "* **ordinal:** Pclass,Family_Size"
   ]
  },
  {
   "cell_type": "markdown",
   "id": "6d8929ef",
   "metadata": {
    "_cell_guid": "e0118236-83fc-4f8a-a8b3-903972b6b661",
    "_uuid": "04bcf1e5-336c-479c-863e-37c52830ce03",
    "papermill": {
     "duration": 0.009215,
     "end_time": "2022-10-20T01:11:28.269715",
     "exception": false,
     "start_time": "2022-10-20T01:11:28.260500",
     "status": "completed"
    },
    "tags": []
   },
   "source": [
    "Here we will transform the **nominal variables** into integers. Since these columns are not **ordinal**, we will turn them into matrices but we will drop the first column to lower the correlation.\n",
    "\n",
    "* **Note1:** We can't say that Embarked Q > Embarked S therefore they must be transformed into matrices. On the other hand, Pclass 1 > Pclass 2.\n",
    "\n",
    "* **Note2:** If using any other algorithm besides Decision Trees and Random Forests, you must **normalize** or **standarize** your values. I'll discuss this more in another notebook."
   ]
  },
  {
   "cell_type": "code",
   "execution_count": 11,
   "id": "3d72b84d",
   "metadata": {
    "_cell_guid": "92abf59c-7f5a-4bfe-b126-a0dc753fae22",
    "_uuid": "460874e9-1b4c-400f-9cd9-04ad78589daa",
    "collapsed": false,
    "execution": {
     "iopub.execute_input": "2022-10-20T01:11:28.291479Z",
     "iopub.status.busy": "2022-10-20T01:11:28.290245Z",
     "iopub.status.idle": "2022-10-20T01:11:28.321303Z",
     "shell.execute_reply": "2022-10-20T01:11:28.320449Z"
    },
    "jupyter": {
     "outputs_hidden": false
    },
    "papermill": {
     "duration": 0.044258,
     "end_time": "2022-10-20T01:11:28.323682",
     "exception": false,
     "start_time": "2022-10-20T01:11:28.279424",
     "status": "completed"
    },
    "tags": []
   },
   "outputs": [
    {
     "data": {
      "text/html": [
       "<div>\n",
       "<style scoped>\n",
       "    .dataframe tbody tr th:only-of-type {\n",
       "        vertical-align: middle;\n",
       "    }\n",
       "\n",
       "    .dataframe tbody tr th {\n",
       "        vertical-align: top;\n",
       "    }\n",
       "\n",
       "    .dataframe thead th {\n",
       "        text-align: right;\n",
       "    }\n",
       "</style>\n",
       "<table border=\"1\" class=\"dataframe\">\n",
       "  <thead>\n",
       "    <tr style=\"text-align: right;\">\n",
       "      <th></th>\n",
       "      <th>Survived</th>\n",
       "      <th>Pclass</th>\n",
       "      <th>Age</th>\n",
       "      <th>SibSp</th>\n",
       "      <th>Parch</th>\n",
       "      <th>Fare</th>\n",
       "      <th>Family_Size</th>\n",
       "      <th>Title</th>\n",
       "      <th>Sex_male</th>\n",
       "      <th>Embarked_Q</th>\n",
       "      <th>Embarked_S</th>\n",
       "    </tr>\n",
       "  </thead>\n",
       "  <tbody>\n",
       "    <tr>\n",
       "      <th>0</th>\n",
       "      <td>0</td>\n",
       "      <td>3</td>\n",
       "      <td>22.0</td>\n",
       "      <td>1</td>\n",
       "      <td>0</td>\n",
       "      <td>7.2500</td>\n",
       "      <td>2</td>\n",
       "      <td>3</td>\n",
       "      <td>1</td>\n",
       "      <td>0</td>\n",
       "      <td>1</td>\n",
       "    </tr>\n",
       "    <tr>\n",
       "      <th>1</th>\n",
       "      <td>1</td>\n",
       "      <td>1</td>\n",
       "      <td>38.0</td>\n",
       "      <td>1</td>\n",
       "      <td>0</td>\n",
       "      <td>71.2833</td>\n",
       "      <td>2</td>\n",
       "      <td>2</td>\n",
       "      <td>0</td>\n",
       "      <td>0</td>\n",
       "      <td>0</td>\n",
       "    </tr>\n",
       "    <tr>\n",
       "      <th>2</th>\n",
       "      <td>1</td>\n",
       "      <td>3</td>\n",
       "      <td>26.0</td>\n",
       "      <td>0</td>\n",
       "      <td>0</td>\n",
       "      <td>7.9250</td>\n",
       "      <td>1</td>\n",
       "      <td>1</td>\n",
       "      <td>0</td>\n",
       "      <td>0</td>\n",
       "      <td>1</td>\n",
       "    </tr>\n",
       "    <tr>\n",
       "      <th>3</th>\n",
       "      <td>1</td>\n",
       "      <td>1</td>\n",
       "      <td>35.0</td>\n",
       "      <td>1</td>\n",
       "      <td>0</td>\n",
       "      <td>53.1000</td>\n",
       "      <td>2</td>\n",
       "      <td>2</td>\n",
       "      <td>0</td>\n",
       "      <td>0</td>\n",
       "      <td>1</td>\n",
       "    </tr>\n",
       "    <tr>\n",
       "      <th>4</th>\n",
       "      <td>0</td>\n",
       "      <td>3</td>\n",
       "      <td>35.0</td>\n",
       "      <td>0</td>\n",
       "      <td>0</td>\n",
       "      <td>8.0500</td>\n",
       "      <td>1</td>\n",
       "      <td>3</td>\n",
       "      <td>1</td>\n",
       "      <td>0</td>\n",
       "      <td>1</td>\n",
       "    </tr>\n",
       "  </tbody>\n",
       "</table>\n",
       "</div>"
      ],
      "text/plain": [
       "   Survived  Pclass   Age  SibSp  Parch     Fare  Family_Size  Title  \\\n",
       "0         0       3  22.0      1      0   7.2500            2      3   \n",
       "1         1       1  38.0      1      0  71.2833            2      2   \n",
       "2         1       3  26.0      0      0   7.9250            1      1   \n",
       "3         1       1  35.0      1      0  53.1000            2      2   \n",
       "4         0       3  35.0      0      0   8.0500            1      3   \n",
       "\n",
       "   Sex_male  Embarked_Q  Embarked_S  \n",
       "0         1           0           1  \n",
       "1         0           0           0  \n",
       "2         0           0           1  \n",
       "3         0           0           1  \n",
       "4         1           0           1  "
      ]
     },
     "execution_count": 11,
     "metadata": {},
     "output_type": "execute_result"
    }
   ],
   "source": [
    "#Getdummies:\n",
    "train = pd.get_dummies(train[['Survived','Pclass','Sex','Age','SibSp','Parch','Fare','Embarked','Family_Size','Title']],drop_first=True)\n",
    "test = pd.get_dummies(test[['PassengerId','Pclass','Sex','Age','SibSp','Parch','Fare','Embarked','Family_Size','Title']],drop_first=True)\n",
    "train.head()"
   ]
  },
  {
   "cell_type": "markdown",
   "id": "13703b6c",
   "metadata": {
    "_cell_guid": "9696dfdb-f249-40eb-9b9f-e5ec5d8ba810",
    "_uuid": "402feb81-d991-4ef4-a839-21462b22d744",
    "papermill": {
     "duration": 0.009125,
     "end_time": "2022-10-20T01:11:28.342345",
     "exception": false,
     "start_time": "2022-10-20T01:11:28.333220",
     "status": "completed"
    },
    "tags": []
   },
   "source": [
    "# Data Split"
   ]
  },
  {
   "cell_type": "markdown",
   "id": "9d0a6542",
   "metadata": {
    "_cell_guid": "7220b893-fbfc-4258-9276-079a8cdb151b",
    "_uuid": "0a1049f5-b02b-4eca-aa26-c4a29ff5f46b",
    "papermill": {
     "duration": 0.009248,
     "end_time": "2022-10-20T01:11:28.361066",
     "exception": false,
     "start_time": "2022-10-20T01:11:28.351818",
     "status": "completed"
    },
    "tags": []
   },
   "source": [
    "* Here we use sklearn.model_selection to split our train/test data 70% / 30% respectively."
   ]
  },
  {
   "cell_type": "code",
   "execution_count": 12,
   "id": "93f20cbc",
   "metadata": {
    "_cell_guid": "ac9edac3-9837-484d-988f-27e81de507aa",
    "_uuid": "44509c31-13ea-4625-bce0-6c3d5e2e8000",
    "collapsed": false,
    "execution": {
     "iopub.execute_input": "2022-10-20T01:11:28.382588Z",
     "iopub.status.busy": "2022-10-20T01:11:28.381426Z",
     "iopub.status.idle": "2022-10-20T01:11:28.393102Z",
     "shell.execute_reply": "2022-10-20T01:11:28.391941Z"
    },
    "jupyter": {
     "outputs_hidden": false
    },
    "papermill": {
     "duration": 0.025137,
     "end_time": "2022-10-20T01:11:28.395741",
     "exception": false,
     "start_time": "2022-10-20T01:11:28.370604",
     "status": "completed"
    },
    "tags": []
   },
   "outputs": [],
   "source": [
    "from sklearn.model_selection import train_test_split\n",
    "\n",
    "X,y = train.iloc[:,1:].values, train.iloc[:,0].values\n",
    "X_train,X_test,y_train,y_test = train_test_split(X,y,\n",
    "                                                test_size = 0.3,\n",
    "                                                random_state=0,\n",
    "                                                stratify=y)\n",
    "X_sub = test.iloc[:,1:].values"
   ]
  },
  {
   "cell_type": "markdown",
   "id": "d42c36fe",
   "metadata": {
    "_cell_guid": "6afad3d5-1e50-4721-8c4d-420c359a0655",
    "_uuid": "6b2efc6f-6e13-43a4-af11-4dfa115bfb0c",
    "papermill": {
     "duration": 0.009246,
     "end_time": "2022-10-20T01:11:28.414534",
     "exception": false,
     "start_time": "2022-10-20T01:11:28.405288",
     "status": "completed"
    },
    "tags": []
   },
   "source": [
    "# Random Forest Classifier"
   ]
  },
  {
   "cell_type": "code",
   "execution_count": 13,
   "id": "a435519f",
   "metadata": {
    "_cell_guid": "b32da292-80de-4a9d-b760-f0014a87f359",
    "_uuid": "2a0d03ee-e31a-4844-b834-7a28de980e74",
    "collapsed": false,
    "execution": {
     "iopub.execute_input": "2022-10-20T01:11:28.435689Z",
     "iopub.status.busy": "2022-10-20T01:11:28.435305Z",
     "iopub.status.idle": "2022-10-20T01:11:28.801988Z",
     "shell.execute_reply": "2022-10-20T01:11:28.800475Z"
    },
    "jupyter": {
     "outputs_hidden": false
    },
    "papermill": {
     "duration": 0.380475,
     "end_time": "2022-10-20T01:11:28.804841",
     "exception": false,
     "start_time": "2022-10-20T01:11:28.424366",
     "status": "completed"
    },
    "tags": []
   },
   "outputs": [
    {
     "name": "stdout",
     "output_type": "stream",
     "text": [
      "Accuracy score for Random Forest: 0.8689\n"
     ]
    }
   ],
   "source": [
    "from sklearn.ensemble import RandomForestClassifier\n",
    "from sklearn.datasets import make_classification\n",
    "from sklearn.metrics import accuracy_score\n",
    "\n",
    "rf = RandomForestClassifier(max_depth=6,\n",
    "                            random_state=5)\n",
    "rf.fit(X_train, y_train)\n",
    "\n",
    "pred_rf = rf.predict(X_test)\n",
    "print(\"Accuracy score for Random Forest:\",round(accuracy_score(y_test, pred_rf),4))"
   ]
  },
  {
   "cell_type": "code",
   "execution_count": 14,
   "id": "be87e67a",
   "metadata": {
    "_cell_guid": "23f04bfe-dd57-4f51-9dc6-e402f2e36dff",
    "_uuid": "6528baf6-cb65-4ceb-af08-0891183b85c6",
    "collapsed": false,
    "execution": {
     "iopub.execute_input": "2022-10-20T01:11:28.827316Z",
     "iopub.status.busy": "2022-10-20T01:11:28.826904Z",
     "iopub.status.idle": "2022-10-20T01:11:28.858326Z",
     "shell.execute_reply": "2022-10-20T01:11:28.857032Z"
    },
    "jupyter": {
     "outputs_hidden": false
    },
    "papermill": {
     "duration": 0.046125,
     "end_time": "2022-10-20T01:11:28.861146",
     "exception": false,
     "start_time": "2022-10-20T01:11:28.815021",
     "status": "completed"
    },
    "tags": []
   },
   "outputs": [],
   "source": [
    "sub_pred = rf.predict(X_sub)\n",
    "\n",
    "sub= pd.DataFrame(test[\"PassengerId\"])\n",
    "sub[\"Survived\"] = pd.DataFrame(sub_pred)\n",
    "sub.fillna(0,inplace=True)\n",
    "sub[\"Survived\"] = sub[\"Survived\"].astype(int)\n",
    "submission = sub\n",
    "submission.to_csv('submission.csv', index=False)"
   ]
  }
 ],
 "metadata": {
  "kernelspec": {
   "display_name": "Python 3",
   "language": "python",
   "name": "python3"
  },
  "language_info": {
   "codemirror_mode": {
    "name": "ipython",
    "version": 3
   },
   "file_extension": ".py",
   "mimetype": "text/x-python",
   "name": "python",
   "nbconvert_exporter": "python",
   "pygments_lexer": "ipython3",
   "version": "3.7.12"
  },
  "papermill": {
   "default_parameters": {},
   "duration": 14.990994,
   "end_time": "2022-10-20T01:11:29.694418",
   "environment_variables": {},
   "exception": null,
   "input_path": "__notebook__.ipynb",
   "output_path": "__notebook__.ipynb",
   "parameters": {},
   "start_time": "2022-10-20T01:11:14.703424",
   "version": "2.3.4"
  }
 },
 "nbformat": 4,
 "nbformat_minor": 5
}

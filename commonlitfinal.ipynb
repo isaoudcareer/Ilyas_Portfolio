{
 "cells": [
  {
   "cell_type": "code",
   "execution_count": 1,
   "id": "89671a69",
   "metadata": {
    "execution": {
     "iopub.execute_input": "2023-08-24T19:10:51.241313Z",
     "iopub.status.busy": "2023-08-24T19:10:51.240607Z",
     "iopub.status.idle": "2023-08-24T19:11:07.346994Z",
     "shell.execute_reply": "2023-08-24T19:11:07.345976Z"
    },
    "papermill": {
     "duration": 16.11828,
     "end_time": "2023-08-24T19:11:07.349705",
     "exception": false,
     "start_time": "2023-08-24T19:10:51.231425",
     "status": "completed"
    },
    "tags": []
   },
   "outputs": [
    {
     "name": "stderr",
     "output_type": "stream",
     "text": [
      "/opt/conda/lib/python3.10/site-packages/scipy/__init__.py:146: UserWarning: A NumPy version >=1.16.5 and <1.23.0 is required for this version of SciPy (detected version 1.23.5\n",
      "  warnings.warn(f\"A NumPy version >={np_minversion} and <{np_maxversion}\"\n",
      "/opt/conda/lib/python3.10/site-packages/tensorflow_io/python/ops/__init__.py:98: UserWarning: unable to load libtensorflow_io_plugins.so: unable to open file: libtensorflow_io_plugins.so, from paths: ['/opt/conda/lib/python3.10/site-packages/tensorflow_io/python/ops/libtensorflow_io_plugins.so']\n",
      "caused by: ['/opt/conda/lib/python3.10/site-packages/tensorflow_io/python/ops/libtensorflow_io_plugins.so: undefined symbol: _ZN3tsl6StatusC1EN10tensorflow5error4CodeESt17basic_string_viewIcSt11char_traitsIcEENS_14SourceLocationE']\n",
      "  warnings.warn(f\"unable to load libtensorflow_io_plugins.so: {e}\")\n",
      "/opt/conda/lib/python3.10/site-packages/tensorflow_io/python/ops/__init__.py:104: UserWarning: file system plugins are not loaded: unable to open file: libtensorflow_io.so, from paths: ['/opt/conda/lib/python3.10/site-packages/tensorflow_io/python/ops/libtensorflow_io.so']\n",
      "caused by: ['/opt/conda/lib/python3.10/site-packages/tensorflow_io/python/ops/libtensorflow_io.so: undefined symbol: _ZTVN10tensorflow13GcsFileSystemE']\n",
      "  warnings.warn(f\"file system plugins are not loaded: {e}\")\n"
     ]
    }
   ],
   "source": [
    "import pandas as pd\n",
    "import numpy as np\n",
    "import tensorflow as tf\n",
    "import matplotlib.pyplot as plt\n",
    "import transformers\n",
    "from sklearn.model_selection import train_test_split\n",
    "from tensorflow.keras.layers import Dense, Input, Concatenate, Dropout\n",
    "from tensorflow.keras.models import Model\n",
    "from tensorflow.keras.callbacks import EarlyStopping, ModelCheckpoint\n",
    "from sklearn import preprocessing\n",
    "from tqdm import tqdm\n",
    "from transformers import RobertaTokenizer, TFRobertaModel\n",
    "import keras\n",
    "from sklearn.model_selection import KFold"
   ]
  },
  {
   "cell_type": "code",
   "execution_count": 2,
   "id": "75e24714",
   "metadata": {
    "execution": {
     "iopub.execute_input": "2023-08-24T19:11:07.369555Z",
     "iopub.status.busy": "2023-08-24T19:11:07.367362Z",
     "iopub.status.idle": "2023-08-24T19:11:07.373888Z",
     "shell.execute_reply": "2023-08-24T19:11:07.372924Z"
    },
    "papermill": {
     "duration": 0.018335,
     "end_time": "2023-08-24T19:11:07.376193",
     "exception": false,
     "start_time": "2023-08-24T19:11:07.357858",
     "status": "completed"
    },
    "tags": []
   },
   "outputs": [],
   "source": [
    "seed = 23\n",
    "def set_seeds(seed_value):\n",
    "    tf.random.set_seed(seed_value)\n",
    "    np.random.seed(seed_value)\n",
    "\n",
    "set_seeds(seed)"
   ]
  },
  {
   "cell_type": "code",
   "execution_count": 3,
   "id": "c3e1b13f",
   "metadata": {
    "execution": {
     "iopub.execute_input": "2023-08-24T19:11:07.394498Z",
     "iopub.status.busy": "2023-08-24T19:11:07.394207Z",
     "iopub.status.idle": "2023-08-24T19:11:07.578291Z",
     "shell.execute_reply": "2023-08-24T19:11:07.576963Z"
    },
    "papermill": {
     "duration": 0.197659,
     "end_time": "2023-08-24T19:11:07.581441",
     "exception": false,
     "start_time": "2023-08-24T19:11:07.383782",
     "status": "completed"
    },
    "tags": []
   },
   "outputs": [],
   "source": [
    "prompts_train = pd.read_csv(\"/kaggle/input/commonlit-evaluate-student-summaries/prompts_train.csv\")\n",
    "summaries_train = pd.read_csv(\"/kaggle/input/commonlit-evaluate-student-summaries/summaries_train.csv\")\n",
    "\n",
    "prompts_test = pd.read_csv(\"/kaggle/input/commonlit-evaluate-student-summaries/prompts_test.csv\")\n",
    "summaries_test = pd.read_csv(\"/kaggle/input/commonlit-evaluate-student-summaries/summaries_test.csv\")"
   ]
  },
  {
   "cell_type": "code",
   "execution_count": 4,
   "id": "54d7f708",
   "metadata": {
    "execution": {
     "iopub.execute_input": "2023-08-24T19:11:07.604838Z",
     "iopub.status.busy": "2023-08-24T19:11:07.604108Z",
     "iopub.status.idle": "2023-08-24T19:11:07.793371Z",
     "shell.execute_reply": "2023-08-24T19:11:07.792100Z"
    },
    "papermill": {
     "duration": 0.203632,
     "end_time": "2023-08-24T19:11:07.796153",
     "exception": false,
     "start_time": "2023-08-24T19:11:07.592521",
     "status": "completed"
    },
    "tags": []
   },
   "outputs": [],
   "source": [
    "merged_test_data = summaries_test.merge(prompts_test, how= 'left', on='prompt_id')\n",
    "merged_test_data[['prompt_question', 'prompt_text', 'text']] = merged_test_data[['prompt_question', 'prompt_text', 'text']].applymap(lambda x: x.replace('\\r', '').replace('\\n', ''))\n",
    "\n",
    "merged_data = summaries_train.merge(prompts_train, how= 'left', on='prompt_id')\n",
    "merged_data[['prompt_question', 'prompt_text', 'text']] = merged_data[['prompt_question', 'prompt_text', 'text']].applymap(lambda x: x.replace('\\r', '').replace('\\n', ''))"
   ]
  },
  {
   "cell_type": "code",
   "execution_count": 5,
   "id": "9f1070a6",
   "metadata": {
    "execution": {
     "iopub.execute_input": "2023-08-24T19:11:07.820997Z",
     "iopub.status.busy": "2023-08-24T19:11:07.820530Z",
     "iopub.status.idle": "2023-08-24T19:11:07.827627Z",
     "shell.execute_reply": "2023-08-24T19:11:07.826884Z"
    },
    "papermill": {
     "duration": 0.021925,
     "end_time": "2023-08-24T19:11:07.830527",
     "exception": false,
     "start_time": "2023-08-24T19:11:07.808602",
     "status": "completed"
    },
    "tags": []
   },
   "outputs": [],
   "source": [
    "data = merged_data\n",
    "submission_test_data = merged_test_data"
   ]
  },
  {
   "cell_type": "code",
   "execution_count": 6,
   "id": "da2ae236",
   "metadata": {
    "execution": {
     "iopub.execute_input": "2023-08-24T19:11:07.852798Z",
     "iopub.status.busy": "2023-08-24T19:11:07.852330Z",
     "iopub.status.idle": "2023-08-24T19:11:07.886027Z",
     "shell.execute_reply": "2023-08-24T19:11:07.885095Z"
    },
    "papermill": {
     "duration": 0.047986,
     "end_time": "2023-08-24T19:11:07.888923",
     "exception": false,
     "start_time": "2023-08-24T19:11:07.840937",
     "status": "completed"
    },
    "tags": []
   },
   "outputs": [
    {
     "data": {
      "text/html": [
       "<div>\n",
       "<style scoped>\n",
       "    .dataframe tbody tr th:only-of-type {\n",
       "        vertical-align: middle;\n",
       "    }\n",
       "\n",
       "    .dataframe tbody tr th {\n",
       "        vertical-align: top;\n",
       "    }\n",
       "\n",
       "    .dataframe thead th {\n",
       "        text-align: right;\n",
       "    }\n",
       "</style>\n",
       "<table border=\"1\" class=\"dataframe\">\n",
       "  <thead>\n",
       "    <tr style=\"text-align: right;\">\n",
       "      <th></th>\n",
       "      <th>student_id</th>\n",
       "      <th>prompt_id</th>\n",
       "      <th>text</th>\n",
       "      <th>content</th>\n",
       "      <th>wording</th>\n",
       "      <th>prompt_question</th>\n",
       "      <th>prompt_title</th>\n",
       "      <th>prompt_text</th>\n",
       "    </tr>\n",
       "  </thead>\n",
       "  <tbody>\n",
       "    <tr>\n",
       "      <th>0</th>\n",
       "      <td>000e8c3c7ddb</td>\n",
       "      <td>814d6b</td>\n",
       "      <td>The third wave was an experimentto see how peo...</td>\n",
       "      <td>0.205683</td>\n",
       "      <td>0.380538</td>\n",
       "      <td>Summarize how the Third Wave developed over su...</td>\n",
       "      <td>The Third Wave</td>\n",
       "      <td>Background The Third Wave experiment took plac...</td>\n",
       "    </tr>\n",
       "    <tr>\n",
       "      <th>1</th>\n",
       "      <td>0020ae56ffbf</td>\n",
       "      <td>ebad26</td>\n",
       "      <td>They would rub it up with soda to make the sme...</td>\n",
       "      <td>-0.548304</td>\n",
       "      <td>0.506755</td>\n",
       "      <td>Summarize the various ways the factory would u...</td>\n",
       "      <td>Excerpt from The Jungle</td>\n",
       "      <td>With one member trimming beef in a cannery, an...</td>\n",
       "    </tr>\n",
       "    <tr>\n",
       "      <th>2</th>\n",
       "      <td>004e978e639e</td>\n",
       "      <td>3b9047</td>\n",
       "      <td>In Egypt, there were many occupations and soci...</td>\n",
       "      <td>3.128928</td>\n",
       "      <td>4.231226</td>\n",
       "      <td>In complete sentences, summarize the structure...</td>\n",
       "      <td>Egyptian Social Structure</td>\n",
       "      <td>Egyptian society was structured like a pyramid...</td>\n",
       "    </tr>\n",
       "    <tr>\n",
       "      <th>3</th>\n",
       "      <td>005ab0199905</td>\n",
       "      <td>3b9047</td>\n",
       "      <td>The highest class was Pharaohs these people we...</td>\n",
       "      <td>-0.210614</td>\n",
       "      <td>-0.471415</td>\n",
       "      <td>In complete sentences, summarize the structure...</td>\n",
       "      <td>Egyptian Social Structure</td>\n",
       "      <td>Egyptian society was structured like a pyramid...</td>\n",
       "    </tr>\n",
       "    <tr>\n",
       "      <th>4</th>\n",
       "      <td>0070c9e7af47</td>\n",
       "      <td>814d6b</td>\n",
       "      <td>The Third Wave developed  rapidly because the ...</td>\n",
       "      <td>3.272894</td>\n",
       "      <td>3.219757</td>\n",
       "      <td>Summarize how the Third Wave developed over su...</td>\n",
       "      <td>The Third Wave</td>\n",
       "      <td>Background The Third Wave experiment took plac...</td>\n",
       "    </tr>\n",
       "    <tr>\n",
       "      <th>...</th>\n",
       "      <td>...</td>\n",
       "      <td>...</td>\n",
       "      <td>...</td>\n",
       "      <td>...</td>\n",
       "      <td>...</td>\n",
       "      <td>...</td>\n",
       "      <td>...</td>\n",
       "      <td>...</td>\n",
       "    </tr>\n",
       "    <tr>\n",
       "      <th>7160</th>\n",
       "      <td>ff7c7e70df07</td>\n",
       "      <td>ebad26</td>\n",
       "      <td>They used all sorts of chemical concoctions to...</td>\n",
       "      <td>0.205683</td>\n",
       "      <td>0.380538</td>\n",
       "      <td>Summarize the various ways the factory would u...</td>\n",
       "      <td>Excerpt from The Jungle</td>\n",
       "      <td>With one member trimming beef in a cannery, an...</td>\n",
       "    </tr>\n",
       "    <tr>\n",
       "      <th>7161</th>\n",
       "      <td>ffc34d056498</td>\n",
       "      <td>3b9047</td>\n",
       "      <td>The lowest classes are slaves and farmers slav...</td>\n",
       "      <td>-0.308448</td>\n",
       "      <td>0.048171</td>\n",
       "      <td>In complete sentences, summarize the structure...</td>\n",
       "      <td>Egyptian Social Structure</td>\n",
       "      <td>Egyptian society was structured like a pyramid...</td>\n",
       "    </tr>\n",
       "    <tr>\n",
       "      <th>7162</th>\n",
       "      <td>ffd1576d2e1b</td>\n",
       "      <td>3b9047</td>\n",
       "      <td>they sorta made people start workin...</td>\n",
       "      <td>-1.408180</td>\n",
       "      <td>-0.493603</td>\n",
       "      <td>In complete sentences, summarize the structure...</td>\n",
       "      <td>Egyptian Social Structure</td>\n",
       "      <td>Egyptian society was structured like a pyramid...</td>\n",
       "    </tr>\n",
       "    <tr>\n",
       "      <th>7163</th>\n",
       "      <td>ffe4a98093b2</td>\n",
       "      <td>39c16e</td>\n",
       "      <td>An ideal tragety has three elements that make ...</td>\n",
       "      <td>-0.393310</td>\n",
       "      <td>0.627128</td>\n",
       "      <td>Summarize at least 3 elements of an ideal trag...</td>\n",
       "      <td>On Tragedy</td>\n",
       "      <td>Chapter 13 As the sequel to what has already b...</td>\n",
       "    </tr>\n",
       "    <tr>\n",
       "      <th>7164</th>\n",
       "      <td>fffbccfd8a08</td>\n",
       "      <td>ebad26</td>\n",
       "      <td>The meat would smell sour but the would \"rub i...</td>\n",
       "      <td>1.771596</td>\n",
       "      <td>0.547742</td>\n",
       "      <td>Summarize the various ways the factory would u...</td>\n",
       "      <td>Excerpt from The Jungle</td>\n",
       "      <td>With one member trimming beef in a cannery, an...</td>\n",
       "    </tr>\n",
       "  </tbody>\n",
       "</table>\n",
       "<p>7165 rows × 8 columns</p>\n",
       "</div>"
      ],
      "text/plain": [
       "        student_id prompt_id  \\\n",
       "0     000e8c3c7ddb    814d6b   \n",
       "1     0020ae56ffbf    ebad26   \n",
       "2     004e978e639e    3b9047   \n",
       "3     005ab0199905    3b9047   \n",
       "4     0070c9e7af47    814d6b   \n",
       "...            ...       ...   \n",
       "7160  ff7c7e70df07    ebad26   \n",
       "7161  ffc34d056498    3b9047   \n",
       "7162  ffd1576d2e1b    3b9047   \n",
       "7163  ffe4a98093b2    39c16e   \n",
       "7164  fffbccfd8a08    ebad26   \n",
       "\n",
       "                                                   text   content   wording  \\\n",
       "0     The third wave was an experimentto see how peo...  0.205683  0.380538   \n",
       "1     They would rub it up with soda to make the sme... -0.548304  0.506755   \n",
       "2     In Egypt, there were many occupations and soci...  3.128928  4.231226   \n",
       "3     The highest class was Pharaohs these people we... -0.210614 -0.471415   \n",
       "4     The Third Wave developed  rapidly because the ...  3.272894  3.219757   \n",
       "...                                                 ...       ...       ...   \n",
       "7160  They used all sorts of chemical concoctions to...  0.205683  0.380538   \n",
       "7161  The lowest classes are slaves and farmers slav... -0.308448  0.048171   \n",
       "7162             they sorta made people start workin... -1.408180 -0.493603   \n",
       "7163  An ideal tragety has three elements that make ... -0.393310  0.627128   \n",
       "7164  The meat would smell sour but the would \"rub i...  1.771596  0.547742   \n",
       "\n",
       "                                        prompt_question  \\\n",
       "0     Summarize how the Third Wave developed over su...   \n",
       "1     Summarize the various ways the factory would u...   \n",
       "2     In complete sentences, summarize the structure...   \n",
       "3     In complete sentences, summarize the structure...   \n",
       "4     Summarize how the Third Wave developed over su...   \n",
       "...                                                 ...   \n",
       "7160  Summarize the various ways the factory would u...   \n",
       "7161  In complete sentences, summarize the structure...   \n",
       "7162  In complete sentences, summarize the structure...   \n",
       "7163  Summarize at least 3 elements of an ideal trag...   \n",
       "7164  Summarize the various ways the factory would u...   \n",
       "\n",
       "                   prompt_title  \\\n",
       "0                The Third Wave   \n",
       "1       Excerpt from The Jungle   \n",
       "2     Egyptian Social Structure   \n",
       "3     Egyptian Social Structure   \n",
       "4                The Third Wave   \n",
       "...                         ...   \n",
       "7160    Excerpt from The Jungle   \n",
       "7161  Egyptian Social Structure   \n",
       "7162  Egyptian Social Structure   \n",
       "7163                 On Tragedy   \n",
       "7164    Excerpt from The Jungle   \n",
       "\n",
       "                                            prompt_text  \n",
       "0     Background The Third Wave experiment took plac...  \n",
       "1     With one member trimming beef in a cannery, an...  \n",
       "2     Egyptian society was structured like a pyramid...  \n",
       "3     Egyptian society was structured like a pyramid...  \n",
       "4     Background The Third Wave experiment took plac...  \n",
       "...                                                 ...  \n",
       "7160  With one member trimming beef in a cannery, an...  \n",
       "7161  Egyptian society was structured like a pyramid...  \n",
       "7162  Egyptian society was structured like a pyramid...  \n",
       "7163  Chapter 13 As the sequel to what has already b...  \n",
       "7164  With one member trimming beef in a cannery, an...  \n",
       "\n",
       "[7165 rows x 8 columns]"
      ]
     },
     "execution_count": 6,
     "metadata": {},
     "output_type": "execute_result"
    }
   ],
   "source": [
    "data"
   ]
  },
  {
   "cell_type": "code",
   "execution_count": 7,
   "id": "87a856be",
   "metadata": {
    "execution": {
     "iopub.execute_input": "2023-08-24T19:11:07.916104Z",
     "iopub.status.busy": "2023-08-24T19:11:07.915752Z",
     "iopub.status.idle": "2023-08-24T19:11:07.924049Z",
     "shell.execute_reply": "2023-08-24T19:11:07.923088Z"
    },
    "papermill": {
     "duration": 0.025167,
     "end_time": "2023-08-24T19:11:07.926965",
     "exception": false,
     "start_time": "2023-08-24T19:11:07.901798",
     "status": "completed"
    },
    "tags": []
   },
   "outputs": [],
   "source": [
    "#PromptText ChatGPT Summarization\n",
    "summary_dict = {\n",
    "    \"39c16e\" : \"The poet crafting tragedy should avoid simple plots. The change in fortune should affect a character who isn't entirely virtuous or wicked but faces downfall due to error. The best tragedy ends in misfortune. Double-thread plots are weaker, more fitting for comedy.\",\n",
    "    \"3b9047\": \"Egyptian society resembled a pyramid, with gods atop, followed by pharaohs and nobles. Pharaohs held great power, responsible for protection, laws, and taxes. Viziers aided them, scribes managed records, nobles and priests held influence, soldiers maintained order, craftsmen and merchants formed the middle class, while slaves and farmers were at the bottom. Social mobility existed, allowing some to rise through education and bureaucracy.\",\n",
    "    \"814d6b\": \"In 1967, history teacher Ron Jones conducted the Third Wave experiment at a California high school. Creating a disciplined movement called 'The Third Wave' he showed how people easily follow authority and adopt superiority. The experiment revealed the potential for justifying harmful actions through blind obedience.\",\n",
    "    \"ebad26\": \"In a family with firsthand experience of Packingtown's meat industry, the Third Wave experiment reveals how spoiled meat is repurposed for consumption. With horrifying details, the text exposes unsanitary practices in processing, including mixing tainted meat, chemically altering odors, and using contaminated materials. The shocking narrative underscores the industry's disregard for safety.\"\n",
    "}"
   ]
  },
  {
   "cell_type": "code",
   "execution_count": 8,
   "id": "1ff061c7",
   "metadata": {
    "execution": {
     "iopub.execute_input": "2023-08-24T19:11:07.952336Z",
     "iopub.status.busy": "2023-08-24T19:11:07.951918Z",
     "iopub.status.idle": "2023-08-24T19:11:07.964218Z",
     "shell.execute_reply": "2023-08-24T19:11:07.963280Z"
    },
    "papermill": {
     "duration": 0.028648,
     "end_time": "2023-08-24T19:11:07.967436",
     "exception": false,
     "start_time": "2023-08-24T19:11:07.938788",
     "status": "completed"
    },
    "tags": []
   },
   "outputs": [],
   "source": [
    "data['chatgpt_summary'] = data['prompt_id'].map(summary_dict)\n",
    "submission_test_data['chatgpt_summary'] = submission_test_data['prompt_id'].map(summary_dict)"
   ]
  },
  {
   "cell_type": "code",
   "execution_count": 9,
   "id": "c0d474bf",
   "metadata": {
    "execution": {
     "iopub.execute_input": "2023-08-24T19:11:07.993417Z",
     "iopub.status.busy": "2023-08-24T19:11:07.993066Z",
     "iopub.status.idle": "2023-08-24T19:11:08.027931Z",
     "shell.execute_reply": "2023-08-24T19:11:08.021576Z"
    },
    "papermill": {
     "duration": 0.051236,
     "end_time": "2023-08-24T19:11:08.030757",
     "exception": false,
     "start_time": "2023-08-24T19:11:07.979521",
     "status": "completed"
    },
    "tags": []
   },
   "outputs": [
    {
     "data": {
      "text/html": [
       "<div>\n",
       "<style scoped>\n",
       "    .dataframe tbody tr th:only-of-type {\n",
       "        vertical-align: middle;\n",
       "    }\n",
       "\n",
       "    .dataframe tbody tr th {\n",
       "        vertical-align: top;\n",
       "    }\n",
       "\n",
       "    .dataframe thead th {\n",
       "        text-align: right;\n",
       "    }\n",
       "</style>\n",
       "<table border=\"1\" class=\"dataframe\">\n",
       "  <thead>\n",
       "    <tr style=\"text-align: right;\">\n",
       "      <th></th>\n",
       "      <th>student_id</th>\n",
       "      <th>prompt_id</th>\n",
       "      <th>text</th>\n",
       "      <th>content</th>\n",
       "      <th>wording</th>\n",
       "      <th>prompt_question</th>\n",
       "      <th>prompt_title</th>\n",
       "      <th>prompt_text</th>\n",
       "      <th>chatgpt_summary</th>\n",
       "    </tr>\n",
       "  </thead>\n",
       "  <tbody>\n",
       "    <tr>\n",
       "      <th>0</th>\n",
       "      <td>000e8c3c7ddb</td>\n",
       "      <td>814d6b</td>\n",
       "      <td>The third wave was an experimentto see how peo...</td>\n",
       "      <td>0.205683</td>\n",
       "      <td>0.380538</td>\n",
       "      <td>Summarize how the Third Wave developed over su...</td>\n",
       "      <td>The Third Wave</td>\n",
       "      <td>Background The Third Wave experiment took plac...</td>\n",
       "      <td>In 1967, history teacher Ron Jones conducted t...</td>\n",
       "    </tr>\n",
       "    <tr>\n",
       "      <th>1</th>\n",
       "      <td>0020ae56ffbf</td>\n",
       "      <td>ebad26</td>\n",
       "      <td>They would rub it up with soda to make the sme...</td>\n",
       "      <td>-0.548304</td>\n",
       "      <td>0.506755</td>\n",
       "      <td>Summarize the various ways the factory would u...</td>\n",
       "      <td>Excerpt from The Jungle</td>\n",
       "      <td>With one member trimming beef in a cannery, an...</td>\n",
       "      <td>In a family with firsthand experience of Packi...</td>\n",
       "    </tr>\n",
       "    <tr>\n",
       "      <th>2</th>\n",
       "      <td>004e978e639e</td>\n",
       "      <td>3b9047</td>\n",
       "      <td>In Egypt, there were many occupations and soci...</td>\n",
       "      <td>3.128928</td>\n",
       "      <td>4.231226</td>\n",
       "      <td>In complete sentences, summarize the structure...</td>\n",
       "      <td>Egyptian Social Structure</td>\n",
       "      <td>Egyptian society was structured like a pyramid...</td>\n",
       "      <td>Egyptian society resembled a pyramid, with god...</td>\n",
       "    </tr>\n",
       "    <tr>\n",
       "      <th>3</th>\n",
       "      <td>005ab0199905</td>\n",
       "      <td>3b9047</td>\n",
       "      <td>The highest class was Pharaohs these people we...</td>\n",
       "      <td>-0.210614</td>\n",
       "      <td>-0.471415</td>\n",
       "      <td>In complete sentences, summarize the structure...</td>\n",
       "      <td>Egyptian Social Structure</td>\n",
       "      <td>Egyptian society was structured like a pyramid...</td>\n",
       "      <td>Egyptian society resembled a pyramid, with god...</td>\n",
       "    </tr>\n",
       "    <tr>\n",
       "      <th>4</th>\n",
       "      <td>0070c9e7af47</td>\n",
       "      <td>814d6b</td>\n",
       "      <td>The Third Wave developed  rapidly because the ...</td>\n",
       "      <td>3.272894</td>\n",
       "      <td>3.219757</td>\n",
       "      <td>Summarize how the Third Wave developed over su...</td>\n",
       "      <td>The Third Wave</td>\n",
       "      <td>Background The Third Wave experiment took plac...</td>\n",
       "      <td>In 1967, history teacher Ron Jones conducted t...</td>\n",
       "    </tr>\n",
       "    <tr>\n",
       "      <th>...</th>\n",
       "      <td>...</td>\n",
       "      <td>...</td>\n",
       "      <td>...</td>\n",
       "      <td>...</td>\n",
       "      <td>...</td>\n",
       "      <td>...</td>\n",
       "      <td>...</td>\n",
       "      <td>...</td>\n",
       "      <td>...</td>\n",
       "    </tr>\n",
       "    <tr>\n",
       "      <th>7160</th>\n",
       "      <td>ff7c7e70df07</td>\n",
       "      <td>ebad26</td>\n",
       "      <td>They used all sorts of chemical concoctions to...</td>\n",
       "      <td>0.205683</td>\n",
       "      <td>0.380538</td>\n",
       "      <td>Summarize the various ways the factory would u...</td>\n",
       "      <td>Excerpt from The Jungle</td>\n",
       "      <td>With one member trimming beef in a cannery, an...</td>\n",
       "      <td>In a family with firsthand experience of Packi...</td>\n",
       "    </tr>\n",
       "    <tr>\n",
       "      <th>7161</th>\n",
       "      <td>ffc34d056498</td>\n",
       "      <td>3b9047</td>\n",
       "      <td>The lowest classes are slaves and farmers slav...</td>\n",
       "      <td>-0.308448</td>\n",
       "      <td>0.048171</td>\n",
       "      <td>In complete sentences, summarize the structure...</td>\n",
       "      <td>Egyptian Social Structure</td>\n",
       "      <td>Egyptian society was structured like a pyramid...</td>\n",
       "      <td>Egyptian society resembled a pyramid, with god...</td>\n",
       "    </tr>\n",
       "    <tr>\n",
       "      <th>7162</th>\n",
       "      <td>ffd1576d2e1b</td>\n",
       "      <td>3b9047</td>\n",
       "      <td>they sorta made people start workin...</td>\n",
       "      <td>-1.408180</td>\n",
       "      <td>-0.493603</td>\n",
       "      <td>In complete sentences, summarize the structure...</td>\n",
       "      <td>Egyptian Social Structure</td>\n",
       "      <td>Egyptian society was structured like a pyramid...</td>\n",
       "      <td>Egyptian society resembled a pyramid, with god...</td>\n",
       "    </tr>\n",
       "    <tr>\n",
       "      <th>7163</th>\n",
       "      <td>ffe4a98093b2</td>\n",
       "      <td>39c16e</td>\n",
       "      <td>An ideal tragety has three elements that make ...</td>\n",
       "      <td>-0.393310</td>\n",
       "      <td>0.627128</td>\n",
       "      <td>Summarize at least 3 elements of an ideal trag...</td>\n",
       "      <td>On Tragedy</td>\n",
       "      <td>Chapter 13 As the sequel to what has already b...</td>\n",
       "      <td>The poet crafting tragedy should avoid simple ...</td>\n",
       "    </tr>\n",
       "    <tr>\n",
       "      <th>7164</th>\n",
       "      <td>fffbccfd8a08</td>\n",
       "      <td>ebad26</td>\n",
       "      <td>The meat would smell sour but the would \"rub i...</td>\n",
       "      <td>1.771596</td>\n",
       "      <td>0.547742</td>\n",
       "      <td>Summarize the various ways the factory would u...</td>\n",
       "      <td>Excerpt from The Jungle</td>\n",
       "      <td>With one member trimming beef in a cannery, an...</td>\n",
       "      <td>In a family with firsthand experience of Packi...</td>\n",
       "    </tr>\n",
       "  </tbody>\n",
       "</table>\n",
       "<p>7165 rows × 9 columns</p>\n",
       "</div>"
      ],
      "text/plain": [
       "        student_id prompt_id  \\\n",
       "0     000e8c3c7ddb    814d6b   \n",
       "1     0020ae56ffbf    ebad26   \n",
       "2     004e978e639e    3b9047   \n",
       "3     005ab0199905    3b9047   \n",
       "4     0070c9e7af47    814d6b   \n",
       "...            ...       ...   \n",
       "7160  ff7c7e70df07    ebad26   \n",
       "7161  ffc34d056498    3b9047   \n",
       "7162  ffd1576d2e1b    3b9047   \n",
       "7163  ffe4a98093b2    39c16e   \n",
       "7164  fffbccfd8a08    ebad26   \n",
       "\n",
       "                                                   text   content   wording  \\\n",
       "0     The third wave was an experimentto see how peo...  0.205683  0.380538   \n",
       "1     They would rub it up with soda to make the sme... -0.548304  0.506755   \n",
       "2     In Egypt, there were many occupations and soci...  3.128928  4.231226   \n",
       "3     The highest class was Pharaohs these people we... -0.210614 -0.471415   \n",
       "4     The Third Wave developed  rapidly because the ...  3.272894  3.219757   \n",
       "...                                                 ...       ...       ...   \n",
       "7160  They used all sorts of chemical concoctions to...  0.205683  0.380538   \n",
       "7161  The lowest classes are slaves and farmers slav... -0.308448  0.048171   \n",
       "7162             they sorta made people start workin... -1.408180 -0.493603   \n",
       "7163  An ideal tragety has three elements that make ... -0.393310  0.627128   \n",
       "7164  The meat would smell sour but the would \"rub i...  1.771596  0.547742   \n",
       "\n",
       "                                        prompt_question  \\\n",
       "0     Summarize how the Third Wave developed over su...   \n",
       "1     Summarize the various ways the factory would u...   \n",
       "2     In complete sentences, summarize the structure...   \n",
       "3     In complete sentences, summarize the structure...   \n",
       "4     Summarize how the Third Wave developed over su...   \n",
       "...                                                 ...   \n",
       "7160  Summarize the various ways the factory would u...   \n",
       "7161  In complete sentences, summarize the structure...   \n",
       "7162  In complete sentences, summarize the structure...   \n",
       "7163  Summarize at least 3 elements of an ideal trag...   \n",
       "7164  Summarize the various ways the factory would u...   \n",
       "\n",
       "                   prompt_title  \\\n",
       "0                The Third Wave   \n",
       "1       Excerpt from The Jungle   \n",
       "2     Egyptian Social Structure   \n",
       "3     Egyptian Social Structure   \n",
       "4                The Third Wave   \n",
       "...                         ...   \n",
       "7160    Excerpt from The Jungle   \n",
       "7161  Egyptian Social Structure   \n",
       "7162  Egyptian Social Structure   \n",
       "7163                 On Tragedy   \n",
       "7164    Excerpt from The Jungle   \n",
       "\n",
       "                                            prompt_text  \\\n",
       "0     Background The Third Wave experiment took plac...   \n",
       "1     With one member trimming beef in a cannery, an...   \n",
       "2     Egyptian society was structured like a pyramid...   \n",
       "3     Egyptian society was structured like a pyramid...   \n",
       "4     Background The Third Wave experiment took plac...   \n",
       "...                                                 ...   \n",
       "7160  With one member trimming beef in a cannery, an...   \n",
       "7161  Egyptian society was structured like a pyramid...   \n",
       "7162  Egyptian society was structured like a pyramid...   \n",
       "7163  Chapter 13 As the sequel to what has already b...   \n",
       "7164  With one member trimming beef in a cannery, an...   \n",
       "\n",
       "                                        chatgpt_summary  \n",
       "0     In 1967, history teacher Ron Jones conducted t...  \n",
       "1     In a family with firsthand experience of Packi...  \n",
       "2     Egyptian society resembled a pyramid, with god...  \n",
       "3     Egyptian society resembled a pyramid, with god...  \n",
       "4     In 1967, history teacher Ron Jones conducted t...  \n",
       "...                                                 ...  \n",
       "7160  In a family with firsthand experience of Packi...  \n",
       "7161  Egyptian society resembled a pyramid, with god...  \n",
       "7162  Egyptian society resembled a pyramid, with god...  \n",
       "7163  The poet crafting tragedy should avoid simple ...  \n",
       "7164  In a family with firsthand experience of Packi...  \n",
       "\n",
       "[7165 rows x 9 columns]"
      ]
     },
     "execution_count": 9,
     "metadata": {},
     "output_type": "execute_result"
    }
   ],
   "source": [
    "data"
   ]
  },
  {
   "cell_type": "code",
   "execution_count": 10,
   "id": "7a10e59b",
   "metadata": {
    "execution": {
     "iopub.execute_input": "2023-08-24T19:11:08.066798Z",
     "iopub.status.busy": "2023-08-24T19:11:08.066508Z",
     "iopub.status.idle": "2023-08-24T19:11:08.076119Z",
     "shell.execute_reply": "2023-08-24T19:11:08.073150Z"
    },
    "papermill": {
     "duration": 0.024604,
     "end_time": "2023-08-24T19:11:08.078176",
     "exception": false,
     "start_time": "2023-08-24T19:11:08.053572",
     "status": "completed"
    },
    "tags": []
   },
   "outputs": [],
   "source": [
    "def encoder(text):\n",
    "    tokenizer = RobertaTokenizer.from_pretrained(\"../input/roberta-base/\")\n",
    "    max_len = 190\n",
    "    encoded = tokenizer(\n",
    "        text,\n",
    "        add_special_tokens = True,\n",
    "        max_length = max_len,\n",
    "        padding = 'max_length',\n",
    "        truncation= True,\n",
    "        return_attention_mask=True\n",
    "    )\n",
    "    \n",
    "    input_ids = np.array(encoded['input_ids'], dtype = \"int32\")\n",
    "    attention_masks = np.array(encoded['attention_mask'], dtype = \"int32\")\n",
    "    \n",
    "    return {\"input_ids\": input_ids, \"attention_masks\": attention_masks}\n"
   ]
  },
  {
   "cell_type": "code",
   "execution_count": 11,
   "id": "510426f4",
   "metadata": {
    "execution": {
     "iopub.execute_input": "2023-08-24T19:11:08.100520Z",
     "iopub.status.busy": "2023-08-24T19:11:08.100137Z",
     "iopub.status.idle": "2023-08-24T19:11:08.106598Z",
     "shell.execute_reply": "2023-08-24T19:11:08.105540Z"
    },
    "papermill": {
     "duration": 0.023798,
     "end_time": "2023-08-24T19:11:08.110292",
     "exception": false,
     "start_time": "2023-08-24T19:11:08.086494",
     "status": "completed"
    },
    "tags": []
   },
   "outputs": [],
   "source": [
    "#DEF CUSTOM LOSS?"
   ]
  },
  {
   "cell_type": "code",
   "execution_count": 12,
   "id": "c79c4c56",
   "metadata": {
    "execution": {
     "iopub.execute_input": "2023-08-24T19:11:08.136238Z",
     "iopub.status.busy": "2023-08-24T19:11:08.135853Z",
     "iopub.status.idle": "2023-08-24T19:11:08.147209Z",
     "shell.execute_reply": "2023-08-24T19:11:08.146372Z"
    },
    "papermill": {
     "duration": 0.028878,
     "end_time": "2023-08-24T19:11:08.149876",
     "exception": false,
     "start_time": "2023-08-24T19:11:08.120998",
     "status": "completed"
    },
    "tags": []
   },
   "outputs": [],
   "source": [
    "def build_model():\n",
    "    #units = hp.Int(name=\"units\", min_value=10, max_value=250, step=30)\n",
    "    #units2 = hp.Int(name=\"units2\", min_value=5, max_value=250, step=30)\n",
    "    #activation = hp.Choice(name=\"activation\", values=[\"relu\", \"linear\"])\n",
    "    #activation2 = hp.Choice(name=\"activation2\", values=[\"relu\", \"linear\"])\n",
    "    #max_len = hp.Int(name=\"max_len\", min_value=100, max_value=200, step=10)\n",
    "    max_len = 190\n",
    "    model = TFRobertaModel.from_pretrained(\"../input/roberta-base/\")\n",
    "    model_ids = Input(shape=(max_len,), dtype='int32')\n",
    "    model_masks = Input(shape=(max_len,), dtype='int32')\n",
    "    x = model(input_ids=model_ids, \n",
    "              attention_mask=model_masks)\n",
    "    x_content = tf.keras.layers.GlobalAveragePooling1D()(x.last_hidden_state)\n",
    "    x_wording = tf.keras.layers.GlobalAveragePooling1D()(x.last_hidden_state) \n",
    "    content_output = Dense(1, name='content_output')(x_content)\n",
    "    wording_output = Dense(1, name='wording_output')(x_wording)\n",
    "    \n",
    "    model = tf.keras.Model(inputs = [model_ids, model_masks], outputs = [content_output, wording_output])\n",
    "    model.compile(\n",
    "        optimizer = tf.keras.optimizers.Adam(),\n",
    "        loss = \"mse\",\n",
    "        metrics=[\"mse\"])\n",
    "    return model"
   ]
  },
  {
   "cell_type": "code",
   "execution_count": 13,
   "id": "cfc1b802",
   "metadata": {
    "execution": {
     "iopub.execute_input": "2023-08-24T19:11:08.175716Z",
     "iopub.status.busy": "2023-08-24T19:11:08.175360Z",
     "iopub.status.idle": "2023-08-24T19:11:15.712756Z",
     "shell.execute_reply": "2023-08-24T19:11:15.711592Z"
    },
    "papermill": {
     "duration": 7.553825,
     "end_time": "2023-08-24T19:11:15.715562",
     "exception": false,
     "start_time": "2023-08-24T19:11:08.161737",
     "status": "completed"
    },
    "tags": []
   },
   "outputs": [],
   "source": [
    "X_train = encoder(list(data[\"text\"]))\n",
    "y_train = data[[\"content\", \"wording\"]].values.tolist()\n",
    "\n",
    "#y_train = []\n",
    "#y_train.append(list(data[[\"content\", \"wording\"]]))\n",
    "#y_train.append(list(data[\"wording\"]))"
   ]
  },
  {
   "cell_type": "code",
   "execution_count": 14,
   "id": "aebf8871",
   "metadata": {
    "execution": {
     "iopub.execute_input": "2023-08-24T19:11:15.734174Z",
     "iopub.status.busy": "2023-08-24T19:11:15.733859Z",
     "iopub.status.idle": "2023-08-24T19:11:15.738966Z",
     "shell.execute_reply": "2023-08-24T19:11:15.737976Z"
    },
    "papermill": {
     "duration": 0.016644,
     "end_time": "2023-08-24T19:11:15.741165",
     "exception": false,
     "start_time": "2023-08-24T19:11:15.724521",
     "status": "completed"
    },
    "tags": []
   },
   "outputs": [],
   "source": [
    "def scheduler(epoch):\n",
    "    learning_rate = 2e-5\n",
    "    if epoch <= 1:\n",
    "        return learning_rate * 0.05\n",
    "    else:\n",
    "        return learning_rate * (0.9**epoch)\n",
    "    \n",
    "callback_lr = tf.keras.callbacks.LearningRateScheduler(scheduler)"
   ]
  },
  {
   "cell_type": "code",
   "execution_count": 15,
   "id": "da1dfd6a",
   "metadata": {
    "execution": {
     "iopub.execute_input": "2023-08-24T19:11:15.758747Z",
     "iopub.status.busy": "2023-08-24T19:11:15.758471Z",
     "iopub.status.idle": "2023-08-24T19:11:15.764993Z",
     "shell.execute_reply": "2023-08-24T19:11:15.764095Z"
    },
    "papermill": {
     "duration": 0.017859,
     "end_time": "2023-08-24T19:11:15.767131",
     "exception": false,
     "start_time": "2023-08-24T19:11:15.749272",
     "status": "completed"
    },
    "tags": []
   },
   "outputs": [
    {
     "data": {
      "text/plain": [
       "'\\'\\'\\n\\n#Keras Auto Tuner\\nimport keras_tuner as kt\\n\\ntuner = kt.BayesianOptimization(\\n    build_model,\\n    objective = \\'loss\\',\\n    max_trials = 20,\\n    executions_per_trial = 2,\\n    directory = \"kt_test\",\\n    overwrite = False\\n)\\n'"
      ]
     },
     "execution_count": 15,
     "metadata": {},
     "output_type": "execute_result"
    }
   ],
   "source": [
    "'''''\n",
    "\n",
    "#Keras Auto Tuner\n",
    "import keras_tuner as kt\n",
    "\n",
    "tuner = kt.BayesianOptimization(\n",
    "    build_model,\n",
    "    objective = 'loss',\n",
    "    max_trials = 20,\n",
    "    executions_per_trial = 2,\n",
    "    directory = \"kt_test\",\n",
    "    overwrite = False\n",
    ")\n",
    "'''''\n"
   ]
  },
  {
   "cell_type": "code",
   "execution_count": 16,
   "id": "61c365d2",
   "metadata": {
    "execution": {
     "iopub.execute_input": "2023-08-24T19:11:15.784565Z",
     "iopub.status.busy": "2023-08-24T19:11:15.784305Z",
     "iopub.status.idle": "2023-08-24T19:11:15.789851Z",
     "shell.execute_reply": "2023-08-24T19:11:15.788910Z"
    },
    "papermill": {
     "duration": 0.016496,
     "end_time": "2023-08-24T19:11:15.791807",
     "exception": false,
     "start_time": "2023-08-24T19:11:15.775311",
     "status": "completed"
    },
    "tags": []
   },
   "outputs": [
    {
     "data": {
      "text/plain": [
       "\"''\\n\\ntuner.search_space_summary()\\n\\n\""
      ]
     },
     "execution_count": 16,
     "metadata": {},
     "output_type": "execute_result"
    }
   ],
   "source": [
    "'''''\n",
    "\n",
    "tuner.search_space_summary()\n",
    "\n",
    "'''''\n"
   ]
  },
  {
   "cell_type": "code",
   "execution_count": 17,
   "id": "7c5bfaed",
   "metadata": {
    "execution": {
     "iopub.execute_input": "2023-08-24T19:11:15.810525Z",
     "iopub.status.busy": "2023-08-24T19:11:15.809776Z",
     "iopub.status.idle": "2023-08-24T19:11:15.816389Z",
     "shell.execute_reply": "2023-08-24T19:11:15.815405Z"
    },
    "papermill": {
     "duration": 0.01813,
     "end_time": "2023-08-24T19:11:15.818522",
     "exception": false,
     "start_time": "2023-08-24T19:11:15.800392",
     "status": "completed"
    },
    "tags": []
   },
   "outputs": [
    {
     "data": {
      "text/plain": [
       "\"''\\ntuner.search(\\n    X_train, y_train,\\n    batch_size = 20,\\n    epochs = 12,\\n    validation_split=0.2,\\n    callbacks=[\\n            EarlyStopping(\\n                monitor='val_loss', patience=3, restore_best_weights=True\\n            ),\\n            ModelCheckpoint(\\n                'roberta_uspppm.h5',\\n                monitor='val_loss',\\n                save_best_only=True,\\n                save_weights_only=True\\n            ),\\n            callback_lr\\n        ],\\n    shuffle=True\\n)\\n\""
      ]
     },
     "execution_count": 17,
     "metadata": {},
     "output_type": "execute_result"
    }
   ],
   "source": [
    "'''''\n",
    "tuner.search(\n",
    "    X_train, y_train,\n",
    "    batch_size = 20,\n",
    "    epochs = 12,\n",
    "    validation_split=0.2,\n",
    "    callbacks=[\n",
    "            EarlyStopping(\n",
    "                monitor='val_loss', patience=3, restore_best_weights=True\n",
    "            ),\n",
    "            ModelCheckpoint(\n",
    "                'roberta_uspppm.h5',\n",
    "                monitor='val_loss',\n",
    "                save_best_only=True,\n",
    "                save_weights_only=True\n",
    "            ),\n",
    "            callback_lr\n",
    "        ],\n",
    "    shuffle=True\n",
    ")\n",
    "'''''\n"
   ]
  },
  {
   "cell_type": "code",
   "execution_count": 18,
   "id": "6433e878",
   "metadata": {
    "execution": {
     "iopub.execute_input": "2023-08-24T19:11:15.836499Z",
     "iopub.status.busy": "2023-08-24T19:11:15.836244Z",
     "iopub.status.idle": "2023-08-24T19:11:15.841998Z",
     "shell.execute_reply": "2023-08-24T19:11:15.841092Z"
    },
    "papermill": {
     "duration": 0.017139,
     "end_time": "2023-08-24T19:11:15.843989",
     "exception": false,
     "start_time": "2023-08-24T19:11:15.826850",
     "status": "completed"
    },
    "tags": []
   },
   "outputs": [
    {
     "data": {
      "text/plain": [
       "'\\'\\'\\n\\ntop_n = 5\\nbest_hps = tuner.get_best_hyperparameters(top_n)\\n\\nfor hp in best_hps:\\n    print(\"Hyperparameters:\")\\n    for key, value in hp.values.items():\\n        print(f\"{key}: {value}\")\\n    print(\"\\n\")\\n    \\n'"
      ]
     },
     "execution_count": 18,
     "metadata": {},
     "output_type": "execute_result"
    }
   ],
   "source": [
    "'''''\n",
    "\n",
    "top_n = 5\n",
    "best_hps = tuner.get_best_hyperparameters(top_n)\n",
    "\n",
    "for hp in best_hps:\n",
    "    print(\"Hyperparameters:\")\n",
    "    for key, value in hp.values.items():\n",
    "        print(f\"{key}: {value}\")\n",
    "    print(\"\\n\")\n",
    "    \n",
    "'''''\n",
    "\n"
   ]
  },
  {
   "cell_type": "code",
   "execution_count": 19,
   "id": "645eb7c8",
   "metadata": {
    "execution": {
     "iopub.execute_input": "2023-08-24T19:11:15.862813Z",
     "iopub.status.busy": "2023-08-24T19:11:15.861964Z",
     "iopub.status.idle": "2023-08-24T19:11:15.868810Z",
     "shell.execute_reply": "2023-08-24T19:11:15.867942Z"
    },
    "papermill": {
     "duration": 0.018452,
     "end_time": "2023-08-24T19:11:15.870921",
     "exception": false,
     "start_time": "2023-08-24T19:11:15.852469",
     "status": "completed"
    },
    "tags": []
   },
   "outputs": [],
   "source": [
    "def train_model(train_col, X_train_input_ids, X_train_attention_masks):\n",
    "    model = build_model()\n",
    "\n",
    "    model.fit(\n",
    "        (np.array(X_train_input_ids), np.array(X_train_attention_masks)),\n",
    "        np.array(train_col),\n",
    "        epochs=12,\n",
    "        shuffle=True,\n",
    "        callbacks=[\n",
    "            EarlyStopping(\n",
    "                monitor='val_loss', patience=3, restore_best_weights=True\n",
    "            ),\n",
    "            ModelCheckpoint(\n",
    "                'roberta_uspppm.h5',\n",
    "                monitor='val_loss',\n",
    "                save_best_only=True,\n",
    "                save_weights_only=True\n",
    "            ),\n",
    "            callback_lr\n",
    "        ],\n",
    "        batch_size=20,\n",
    "        validation_split=0.2\n",
    "    )\n",
    "    \n",
    "    return model"
   ]
  },
  {
   "cell_type": "code",
   "execution_count": 20,
   "id": "ca8e7231",
   "metadata": {
    "execution": {
     "iopub.execute_input": "2023-08-24T19:11:15.890208Z",
     "iopub.status.busy": "2023-08-24T19:11:15.889191Z",
     "iopub.status.idle": "2023-08-24T19:11:15.894628Z",
     "shell.execute_reply": "2023-08-24T19:11:15.893648Z"
    },
    "papermill": {
     "duration": 0.017307,
     "end_time": "2023-08-24T19:11:15.896862",
     "exception": false,
     "start_time": "2023-08-24T19:11:15.879555",
     "status": "completed"
    },
    "tags": []
   },
   "outputs": [],
   "source": [
    "k = 5\n",
    "kf = KFold(n_splits=k, shuffle=True, random_state=seed)"
   ]
  },
  {
   "cell_type": "code",
   "execution_count": 21,
   "id": "7141b5e5",
   "metadata": {
    "execution": {
     "iopub.execute_input": "2023-08-24T19:11:15.918737Z",
     "iopub.status.busy": "2023-08-24T19:11:15.917864Z",
     "iopub.status.idle": "2023-08-24T21:28:24.360571Z",
     "shell.execute_reply": "2023-08-24T21:28:24.359280Z"
    },
    "papermill": {
     "duration": 8228.456647,
     "end_time": "2023-08-24T21:28:24.363572",
     "exception": false,
     "start_time": "2023-08-24T19:11:15.906925",
     "status": "completed"
    },
    "tags": []
   },
   "outputs": [
    {
     "name": "stdout",
     "output_type": "stream",
     "text": [
      "Training Fold 1/5\n"
     ]
    },
    {
     "name": "stderr",
     "output_type": "stream",
     "text": [
      "Some layers from the model checkpoint at ../input/roberta-base/ were not used when initializing TFRobertaModel: ['lm_head']\n",
      "- This IS expected if you are initializing TFRobertaModel from the checkpoint of a model trained on another task or with another architecture (e.g. initializing a BertForSequenceClassification model from a BertForPreTraining model).\n",
      "- This IS NOT expected if you are initializing TFRobertaModel from the checkpoint of a model that you expect to be exactly identical (initializing a BertForSequenceClassification model from a BertForSequenceClassification model).\n",
      "All the layers of TFRobertaModel were initialized from the model checkpoint at ../input/roberta-base/.\n",
      "If your task is similar to the task the model of the checkpoint was trained on, you can already use TFRobertaModel for predictions without further training.\n"
     ]
    },
    {
     "name": "stdout",
     "output_type": "stream",
     "text": [
      "Epoch 1/12\n",
      "230/230 [==============================] - 249s 872ms/step - loss: 1.2151 - content_output_loss: 0.6489 - wording_output_loss: 0.5662 - content_output_mse: 0.6489 - wording_output_mse: 0.5662 - val_loss: 0.8763 - val_content_output_loss: 0.4376 - val_wording_output_loss: 0.4386 - val_content_output_mse: 0.4376 - val_wording_output_mse: 0.4386 - lr: 1.0000e-06\n",
      "Epoch 2/12\n",
      "230/230 [==============================] - 204s 889ms/step - loss: 0.8020 - content_output_loss: 0.4015 - wording_output_loss: 0.4005 - content_output_mse: 0.4015 - wording_output_mse: 0.4005 - val_loss: 0.7988 - val_content_output_loss: 0.3982 - val_wording_output_loss: 0.4006 - val_content_output_mse: 0.3982 - val_wording_output_mse: 0.4006 - lr: 1.0000e-06\n",
      "Epoch 3/12\n",
      "230/230 [==============================] - 203s 883ms/step - loss: 0.7457 - content_output_loss: 0.3745 - wording_output_loss: 0.3712 - content_output_mse: 0.3745 - wording_output_mse: 0.3712 - val_loss: 0.6460 - val_content_output_loss: 0.3224 - val_wording_output_loss: 0.3236 - val_content_output_mse: 0.3224 - val_wording_output_mse: 0.3236 - lr: 1.6200e-05\n",
      "Epoch 4/12\n",
      "230/230 [==============================] - 201s 875ms/step - loss: 0.6144 - content_output_loss: 0.3088 - wording_output_loss: 0.3055 - content_output_mse: 0.3088 - wording_output_mse: 0.3055 - val_loss: 0.7021 - val_content_output_loss: 0.3498 - val_wording_output_loss: 0.3523 - val_content_output_mse: 0.3498 - val_wording_output_mse: 0.3523 - lr: 1.4580e-05\n",
      "Epoch 5/12\n",
      "230/230 [==============================] - 202s 878ms/step - loss: 0.5267 - content_output_loss: 0.2639 - wording_output_loss: 0.2628 - content_output_mse: 0.2639 - wording_output_mse: 0.2628 - val_loss: 0.6504 - val_content_output_loss: 0.3292 - val_wording_output_loss: 0.3212 - val_content_output_mse: 0.3292 - val_wording_output_mse: 0.3212 - lr: 1.3122e-05\n",
      "Epoch 6/12\n",
      "230/230 [==============================] - 202s 879ms/step - loss: 0.4947 - content_output_loss: 0.2479 - wording_output_loss: 0.2468 - content_output_mse: 0.2479 - wording_output_mse: 0.2468 - val_loss: 0.6684 - val_content_output_loss: 0.3323 - val_wording_output_loss: 0.3361 - val_content_output_mse: 0.3323 - val_wording_output_mse: 0.3361 - lr: 1.1810e-05\n",
      "Training Fold 2/5\n"
     ]
    },
    {
     "name": "stderr",
     "output_type": "stream",
     "text": [
      "Some layers from the model checkpoint at ../input/roberta-base/ were not used when initializing TFRobertaModel: ['lm_head']\n",
      "- This IS expected if you are initializing TFRobertaModel from the checkpoint of a model trained on another task or with another architecture (e.g. initializing a BertForSequenceClassification model from a BertForPreTraining model).\n",
      "- This IS NOT expected if you are initializing TFRobertaModel from the checkpoint of a model that you expect to be exactly identical (initializing a BertForSequenceClassification model from a BertForSequenceClassification model).\n",
      "All the layers of TFRobertaModel were initialized from the model checkpoint at ../input/roberta-base/.\n",
      "If your task is similar to the task the model of the checkpoint was trained on, you can already use TFRobertaModel for predictions without further training.\n"
     ]
    },
    {
     "name": "stdout",
     "output_type": "stream",
     "text": [
      "Epoch 1/12\n",
      "230/230 [==============================] - 250s 891ms/step - loss: 1.4295 - content_output_loss: 0.7341 - wording_output_loss: 0.6954 - content_output_mse: 0.7341 - wording_output_mse: 0.6954 - val_loss: 0.8977 - val_content_output_loss: 0.4358 - val_wording_output_loss: 0.4619 - val_content_output_mse: 0.4358 - val_wording_output_mse: 0.4619 - lr: 1.0000e-06\n",
      "Epoch 2/12\n",
      "230/230 [==============================] - 204s 889ms/step - loss: 0.8284 - content_output_loss: 0.4137 - wording_output_loss: 0.4147 - content_output_mse: 0.4137 - wording_output_mse: 0.4147 - val_loss: 0.7995 - val_content_output_loss: 0.4034 - val_wording_output_loss: 0.3960 - val_content_output_mse: 0.4034 - val_wording_output_mse: 0.3960 - lr: 1.0000e-06\n",
      "Epoch 3/12\n",
      "230/230 [==============================] - 203s 884ms/step - loss: 0.7609 - content_output_loss: 0.3838 - wording_output_loss: 0.3771 - content_output_mse: 0.3838 - wording_output_mse: 0.3771 - val_loss: 0.6683 - val_content_output_loss: 0.3352 - val_wording_output_loss: 0.3331 - val_content_output_mse: 0.3352 - val_wording_output_mse: 0.3331 - lr: 1.6200e-05\n",
      "Epoch 4/12\n",
      "230/230 [==============================] - 201s 874ms/step - loss: 0.6079 - content_output_loss: 0.3044 - wording_output_loss: 0.3035 - content_output_mse: 0.3044 - wording_output_mse: 0.3035 - val_loss: 0.7283 - val_content_output_loss: 0.3662 - val_wording_output_loss: 0.3621 - val_content_output_mse: 0.3662 - val_wording_output_mse: 0.3621 - lr: 1.4580e-05\n",
      "Epoch 5/12\n",
      "230/230 [==============================] - 203s 884ms/step - loss: 0.5374 - content_output_loss: 0.2691 - wording_output_loss: 0.2684 - content_output_mse: 0.2691 - wording_output_mse: 0.2684 - val_loss: 0.6475 - val_content_output_loss: 0.3270 - val_wording_output_loss: 0.3205 - val_content_output_mse: 0.3270 - val_wording_output_mse: 0.3205 - lr: 1.3122e-05\n",
      "Epoch 6/12\n",
      "230/230 [==============================] - 201s 874ms/step - loss: 0.4932 - content_output_loss: 0.2463 - wording_output_loss: 0.2469 - content_output_mse: 0.2463 - wording_output_mse: 0.2469 - val_loss: 0.8747 - val_content_output_loss: 0.4363 - val_wording_output_loss: 0.4383 - val_content_output_mse: 0.4363 - val_wording_output_mse: 0.4383 - lr: 1.1810e-05\n",
      "Epoch 7/12\n",
      "230/230 [==============================] - 201s 876ms/step - loss: 0.4559 - content_output_loss: 0.2277 - wording_output_loss: 0.2282 - content_output_mse: 0.2277 - wording_output_mse: 0.2282 - val_loss: 0.6734 - val_content_output_loss: 0.3443 - val_wording_output_loss: 0.3292 - val_content_output_mse: 0.3443 - val_wording_output_mse: 0.3292 - lr: 1.0629e-05\n",
      "Epoch 8/12\n",
      "230/230 [==============================] - 201s 876ms/step - loss: 0.4115 - content_output_loss: 0.2062 - wording_output_loss: 0.2053 - content_output_mse: 0.2062 - wording_output_mse: 0.2053 - val_loss: 0.6528 - val_content_output_loss: 0.3263 - val_wording_output_loss: 0.3266 - val_content_output_mse: 0.3263 - val_wording_output_mse: 0.3266 - lr: 9.5659e-06\n",
      "Training Fold 3/5\n"
     ]
    },
    {
     "name": "stderr",
     "output_type": "stream",
     "text": [
      "Some layers from the model checkpoint at ../input/roberta-base/ were not used when initializing TFRobertaModel: ['lm_head']\n",
      "- This IS expected if you are initializing TFRobertaModel from the checkpoint of a model trained on another task or with another architecture (e.g. initializing a BertForSequenceClassification model from a BertForPreTraining model).\n",
      "- This IS NOT expected if you are initializing TFRobertaModel from the checkpoint of a model that you expect to be exactly identical (initializing a BertForSequenceClassification model from a BertForSequenceClassification model).\n",
      "All the layers of TFRobertaModel were initialized from the model checkpoint at ../input/roberta-base/.\n",
      "If your task is similar to the task the model of the checkpoint was trained on, you can already use TFRobertaModel for predictions without further training.\n"
     ]
    },
    {
     "name": "stdout",
     "output_type": "stream",
     "text": [
      "Epoch 1/12\n",
      "230/230 [==============================] - 256s 911ms/step - loss: 1.3558 - content_output_loss: 0.6488 - wording_output_loss: 0.7070 - content_output_mse: 0.6488 - wording_output_mse: 0.7070 - val_loss: 0.8568 - val_content_output_loss: 0.4386 - val_wording_output_loss: 0.4182 - val_content_output_mse: 0.4386 - val_wording_output_mse: 0.4182 - lr: 1.0000e-06\n",
      "Epoch 2/12\n",
      "230/230 [==============================] - 203s 884ms/step - loss: 0.7963 - content_output_loss: 0.4001 - wording_output_loss: 0.3962 - content_output_mse: 0.4001 - wording_output_mse: 0.3962 - val_loss: 0.7883 - val_content_output_loss: 0.3995 - val_wording_output_loss: 0.3888 - val_content_output_mse: 0.3995 - val_wording_output_mse: 0.3888 - lr: 1.0000e-06\n",
      "Epoch 3/12\n",
      "230/230 [==============================] - 198s 861ms/step - loss: 0.7552 - content_output_loss: 0.3771 - wording_output_loss: 0.3781 - content_output_mse: 0.3771 - wording_output_mse: 0.3781 - val_loss: 0.7060 - val_content_output_loss: 0.3565 - val_wording_output_loss: 0.3496 - val_content_output_mse: 0.3565 - val_wording_output_mse: 0.3496 - lr: 1.6200e-05\n",
      "Epoch 4/12\n",
      "230/230 [==============================] - 201s 874ms/step - loss: 0.6045 - content_output_loss: 0.3027 - wording_output_loss: 0.3017 - content_output_mse: 0.3027 - wording_output_mse: 0.3017 - val_loss: 0.7117 - val_content_output_loss: 0.3558 - val_wording_output_loss: 0.3559 - val_content_output_mse: 0.3558 - val_wording_output_mse: 0.3559 - lr: 1.4580e-05\n",
      "Epoch 5/12\n",
      "230/230 [==============================] - 203s 882ms/step - loss: 0.5348 - content_output_loss: 0.2680 - wording_output_loss: 0.2668 - content_output_mse: 0.2680 - wording_output_mse: 0.2668 - val_loss: 0.6367 - val_content_output_loss: 0.3171 - val_wording_output_loss: 0.3195 - val_content_output_mse: 0.3171 - val_wording_output_mse: 0.3195 - lr: 1.3122e-05\n",
      "Epoch 6/12\n",
      "230/230 [==============================] - 201s 876ms/step - loss: 0.4964 - content_output_loss: 0.2481 - wording_output_loss: 0.2483 - content_output_mse: 0.2481 - wording_output_mse: 0.2483 - val_loss: 0.7351 - val_content_output_loss: 0.3696 - val_wording_output_loss: 0.3655 - val_content_output_mse: 0.3696 - val_wording_output_mse: 0.3655 - lr: 1.1810e-05\n",
      "Epoch 7/12\n",
      "230/230 [==============================] - 201s 873ms/step - loss: 0.4507 - content_output_loss: 0.2259 - wording_output_loss: 0.2248 - content_output_mse: 0.2259 - wording_output_mse: 0.2248 - val_loss: 0.6968 - val_content_output_loss: 0.3461 - val_wording_output_loss: 0.3507 - val_content_output_mse: 0.3461 - val_wording_output_mse: 0.3507 - lr: 1.0629e-05\n",
      "Epoch 8/12\n",
      "230/230 [==============================] - 196s 853ms/step - loss: 0.4209 - content_output_loss: 0.2102 - wording_output_loss: 0.2106 - content_output_mse: 0.2102 - wording_output_mse: 0.2106 - val_loss: 0.6839 - val_content_output_loss: 0.3432 - val_wording_output_loss: 0.3408 - val_content_output_mse: 0.3432 - val_wording_output_mse: 0.3408 - lr: 9.5659e-06\n",
      "Training Fold 4/5\n"
     ]
    },
    {
     "name": "stderr",
     "output_type": "stream",
     "text": [
      "Some layers from the model checkpoint at ../input/roberta-base/ were not used when initializing TFRobertaModel: ['lm_head']\n",
      "- This IS expected if you are initializing TFRobertaModel from the checkpoint of a model trained on another task or with another architecture (e.g. initializing a BertForSequenceClassification model from a BertForPreTraining model).\n",
      "- This IS NOT expected if you are initializing TFRobertaModel from the checkpoint of a model that you expect to be exactly identical (initializing a BertForSequenceClassification model from a BertForSequenceClassification model).\n",
      "All the layers of TFRobertaModel were initialized from the model checkpoint at ../input/roberta-base/.\n",
      "If your task is similar to the task the model of the checkpoint was trained on, you can already use TFRobertaModel for predictions without further training.\n"
     ]
    },
    {
     "name": "stdout",
     "output_type": "stream",
     "text": [
      "Epoch 1/12\n",
      "230/230 [==============================] - 251s 893ms/step - loss: 1.4369 - content_output_loss: 0.6260 - wording_output_loss: 0.8110 - content_output_mse: 0.6260 - wording_output_mse: 0.8110 - val_loss: 0.7959 - val_content_output_loss: 0.3935 - val_wording_output_loss: 0.4024 - val_content_output_mse: 0.3935 - val_wording_output_mse: 0.4024 - lr: 1.0000e-06\n",
      "Epoch 2/12\n",
      "230/230 [==============================] - 204s 887ms/step - loss: 0.8045 - content_output_loss: 0.4025 - wording_output_loss: 0.4020 - content_output_mse: 0.4025 - wording_output_mse: 0.4020 - val_loss: 0.7328 - val_content_output_loss: 0.3634 - val_wording_output_loss: 0.3694 - val_content_output_mse: 0.3634 - val_wording_output_mse: 0.3694 - lr: 1.0000e-06\n",
      "Epoch 3/12\n",
      "230/230 [==============================] - 202s 877ms/step - loss: 0.7287 - content_output_loss: 0.3648 - wording_output_loss: 0.3638 - content_output_mse: 0.3648 - wording_output_mse: 0.3638 - val_loss: 0.8216 - val_content_output_loss: 0.4078 - val_wording_output_loss: 0.4137 - val_content_output_mse: 0.4078 - val_wording_output_mse: 0.4137 - lr: 1.6200e-05\n",
      "Epoch 4/12\n",
      "230/230 [==============================] - 204s 885ms/step - loss: 0.6137 - content_output_loss: 0.3068 - wording_output_loss: 0.3069 - content_output_mse: 0.3068 - wording_output_mse: 0.3069 - val_loss: 0.6497 - val_content_output_loss: 0.3233 - val_wording_output_loss: 0.3263 - val_content_output_mse: 0.3233 - val_wording_output_mse: 0.3263 - lr: 1.4580e-05\n",
      "Epoch 5/12\n",
      "230/230 [==============================] - 196s 854ms/step - loss: 0.5347 - content_output_loss: 0.2677 - wording_output_loss: 0.2670 - content_output_mse: 0.2677 - wording_output_mse: 0.2670 - val_loss: 0.8031 - val_content_output_loss: 0.3852 - val_wording_output_loss: 0.4179 - val_content_output_mse: 0.3852 - val_wording_output_mse: 0.4179 - lr: 1.3122e-05\n",
      "Epoch 6/12\n",
      "230/230 [==============================] - 204s 886ms/step - loss: 0.4789 - content_output_loss: 0.2392 - wording_output_loss: 0.2396 - content_output_mse: 0.2392 - wording_output_mse: 0.2396 - val_loss: 0.6323 - val_content_output_loss: 0.3124 - val_wording_output_loss: 0.3200 - val_content_output_mse: 0.3124 - val_wording_output_mse: 0.3200 - lr: 1.1810e-05\n",
      "Epoch 7/12\n",
      "230/230 [==============================] - 201s 876ms/step - loss: 0.4415 - content_output_loss: 0.2211 - wording_output_loss: 0.2204 - content_output_mse: 0.2211 - wording_output_mse: 0.2204 - val_loss: 0.6884 - val_content_output_loss: 0.3441 - val_wording_output_loss: 0.3443 - val_content_output_mse: 0.3441 - val_wording_output_mse: 0.3443 - lr: 1.0629e-05\n",
      "Epoch 8/12\n",
      "230/230 [==============================] - 201s 876ms/step - loss: 0.4042 - content_output_loss: 0.2024 - wording_output_loss: 0.2018 - content_output_mse: 0.2024 - wording_output_mse: 0.2018 - val_loss: 0.6420 - val_content_output_loss: 0.3153 - val_wording_output_loss: 0.3266 - val_content_output_mse: 0.3153 - val_wording_output_mse: 0.3266 - lr: 9.5659e-06\n",
      "Epoch 9/12\n",
      "230/230 [==============================] - 202s 877ms/step - loss: 0.3841 - content_output_loss: 0.1922 - wording_output_loss: 0.1919 - content_output_mse: 0.1922 - wording_output_mse: 0.1919 - val_loss: 0.7188 - val_content_output_loss: 0.3583 - val_wording_output_loss: 0.3605 - val_content_output_mse: 0.3583 - val_wording_output_mse: 0.3605 - lr: 8.6093e-06\n",
      "Training Fold 5/5\n"
     ]
    },
    {
     "name": "stderr",
     "output_type": "stream",
     "text": [
      "Some layers from the model checkpoint at ../input/roberta-base/ were not used when initializing TFRobertaModel: ['lm_head']\n",
      "- This IS expected if you are initializing TFRobertaModel from the checkpoint of a model trained on another task or with another architecture (e.g. initializing a BertForSequenceClassification model from a BertForPreTraining model).\n",
      "- This IS NOT expected if you are initializing TFRobertaModel from the checkpoint of a model that you expect to be exactly identical (initializing a BertForSequenceClassification model from a BertForSequenceClassification model).\n",
      "All the layers of TFRobertaModel were initialized from the model checkpoint at ../input/roberta-base/.\n",
      "If your task is similar to the task the model of the checkpoint was trained on, you can already use TFRobertaModel for predictions without further training.\n"
     ]
    },
    {
     "name": "stdout",
     "output_type": "stream",
     "text": [
      "Epoch 1/12\n",
      "230/230 [==============================] - 252s 893ms/step - loss: 1.5278 - content_output_loss: 0.7175 - wording_output_loss: 0.8103 - content_output_mse: 0.7175 - wording_output_mse: 0.8103 - val_loss: 0.8932 - val_content_output_loss: 0.4364 - val_wording_output_loss: 0.4568 - val_content_output_mse: 0.4364 - val_wording_output_mse: 0.4568 - lr: 1.0000e-06\n",
      "Epoch 2/12\n",
      "230/230 [==============================] - 204s 889ms/step - loss: 0.8177 - content_output_loss: 0.4017 - wording_output_loss: 0.4159 - content_output_mse: 0.4017 - wording_output_mse: 0.4159 - val_loss: 0.8106 - val_content_output_loss: 0.4045 - val_wording_output_loss: 0.4061 - val_content_output_mse: 0.4045 - val_wording_output_mse: 0.4061 - lr: 1.0000e-06\n",
      "Epoch 3/12\n",
      "230/230 [==============================] - 201s 875ms/step - loss: 0.7510 - content_output_loss: 0.3764 - wording_output_loss: 0.3746 - content_output_mse: 0.3764 - wording_output_mse: 0.3746 - val_loss: 1.0437 - val_content_output_loss: 0.5490 - val_wording_output_loss: 0.4946 - val_content_output_mse: 0.5490 - val_wording_output_mse: 0.4946 - lr: 1.6200e-05\n",
      "Epoch 4/12\n",
      "230/230 [==============================] - 203s 882ms/step - loss: 0.6055 - content_output_loss: 0.3029 - wording_output_loss: 0.3026 - content_output_mse: 0.3029 - wording_output_mse: 0.3026 - val_loss: 0.7205 - val_content_output_loss: 0.3650 - val_wording_output_loss: 0.3556 - val_content_output_mse: 0.3650 - val_wording_output_mse: 0.3556 - lr: 1.4580e-05\n",
      "Epoch 5/12\n",
      "230/230 [==============================] - 203s 884ms/step - loss: 0.5274 - content_output_loss: 0.2638 - wording_output_loss: 0.2636 - content_output_mse: 0.2638 - wording_output_mse: 0.2636 - val_loss: 0.6499 - val_content_output_loss: 0.3269 - val_wording_output_loss: 0.3229 - val_content_output_mse: 0.3269 - val_wording_output_mse: 0.3229 - lr: 1.3122e-05\n",
      "Epoch 6/12\n",
      "230/230 [==============================] - 201s 875ms/step - loss: 0.4870 - content_output_loss: 0.2434 - wording_output_loss: 0.2436 - content_output_mse: 0.2434 - wording_output_mse: 0.2436 - val_loss: 0.7497 - val_content_output_loss: 0.3793 - val_wording_output_loss: 0.3704 - val_content_output_mse: 0.3793 - val_wording_output_mse: 0.3704 - lr: 1.1810e-05\n",
      "Epoch 7/12\n",
      "230/230 [==============================] - 201s 876ms/step - loss: 0.4441 - content_output_loss: 0.2218 - wording_output_loss: 0.2223 - content_output_mse: 0.2218 - wording_output_mse: 0.2223 - val_loss: 0.6639 - val_content_output_loss: 0.3324 - val_wording_output_loss: 0.3316 - val_content_output_mse: 0.3324 - val_wording_output_mse: 0.3316 - lr: 1.0629e-05\n",
      "Epoch 8/12\n",
      "230/230 [==============================] - 201s 876ms/step - loss: 0.4213 - content_output_loss: 0.2110 - wording_output_loss: 0.2102 - content_output_mse: 0.2110 - wording_output_mse: 0.2102 - val_loss: 0.6619 - val_content_output_loss: 0.3323 - val_wording_output_loss: 0.3296 - val_content_output_mse: 0.3323 - val_wording_output_mse: 0.3296 - lr: 9.5659e-06\n"
     ]
    }
   ],
   "source": [
    "#target_cols = [\"content\", \"wording\"]\n",
    "\n",
    "best_val_metrics = float('inf')\n",
    "best_model = None\n",
    "\n",
    "for fold_index, (train_index, val_index) in enumerate(kf.split(X_train['input_ids'])):\n",
    "    print(f\"Training Fold {fold_index + 1}/{k}\")\n",
    "    \n",
    "    X_train_input_ids_fold = X_train['input_ids'][train_index]\n",
    "    X_train_attention_masks_fold = X_train['attention_masks'][train_index]\n",
    "    \n",
    "    y_train_fold = [y_train[i] for i in train_index]\n",
    "    y_val_fold = [y_train[i] for i in val_index]\n",
    "    \n",
    "    model = train_model(y_train_fold, X_train_input_ids_fold, X_train_attention_masks_fold)\n",
    "    history = model.history\n",
    "    \n",
    "    val_content_mse = history.history['val_content_output_mse'][-1]\n",
    "    val_wording_mse = history.history['val_wording_output_mse'][-1]\n",
    "    average_val_mse = (val_content_mse + val_wording_mse) / 2       \n",
    "    \n",
    "    if average_val_mse < best_val_metrics:\n",
    "        best_val_metrics = average_val_mse\n",
    "        best_model = model\n",
    "        \n",
    "if best_model is not None:\n",
    "    best_model.save(\"best_model.h5\")"
   ]
  },
  {
   "cell_type": "code",
   "execution_count": 22,
   "id": "bb62aa09",
   "metadata": {
    "execution": {
     "iopub.execute_input": "2023-08-24T21:28:27.639967Z",
     "iopub.status.busy": "2023-08-24T21:28:27.639429Z",
     "iopub.status.idle": "2023-08-24T21:29:19.179426Z",
     "shell.execute_reply": "2023-08-24T21:29:19.178191Z"
    },
    "papermill": {
     "duration": 52.271973,
     "end_time": "2023-08-24T21:29:19.181871",
     "exception": false,
     "start_time": "2023-08-24T21:28:26.909898",
     "status": "completed"
    },
    "tags": []
   },
   "outputs": [],
   "source": [
    "X_test = encoder(list(submission_test_data[\"text\"]))"
   ]
  },
  {
   "cell_type": "code",
   "execution_count": 23,
   "id": "c9e7f79f",
   "metadata": {
    "execution": {
     "iopub.execute_input": "2023-08-24T21:29:20.713850Z",
     "iopub.status.busy": "2023-08-24T21:29:20.713489Z",
     "iopub.status.idle": "2023-08-24T21:29:23.783058Z",
     "shell.execute_reply": "2023-08-24T21:29:23.781942Z"
    },
    "papermill": {
     "duration": 3.870046,
     "end_time": "2023-08-24T21:29:23.785250",
     "exception": false,
     "start_time": "2023-08-24T21:29:19.915204",
     "status": "completed"
    },
    "tags": []
   },
   "outputs": [
    {
     "name": "stdout",
     "output_type": "stream",
     "text": [
      "1/1 [==============================] - 3s 3s/step\n"
     ]
    },
    {
     "data": {
      "text/plain": [
       "[array([[-1.604908 ],\n",
       "        [-1.6225681],\n",
       "        [-1.5408701],\n",
       "        [-1.5581026]], dtype=float32),\n",
       " array([[-1.7013865],\n",
       "        [-1.7837478],\n",
       "        [-1.7538958],\n",
       "        [-1.7708409]], dtype=float32)]"
      ]
     },
     "execution_count": 23,
     "metadata": {},
     "output_type": "execute_result"
    }
   ],
   "source": [
    "pred = best_model.predict((np.array(X_test['input_ids']), np.array(X_test['attention_masks'])))\n",
    "pred"
   ]
  },
  {
   "cell_type": "code",
   "execution_count": 24,
   "id": "0321b124",
   "metadata": {
    "execution": {
     "iopub.execute_input": "2023-08-24T21:29:25.260846Z",
     "iopub.status.busy": "2023-08-24T21:29:25.260419Z",
     "iopub.status.idle": "2023-08-24T21:29:25.277701Z",
     "shell.execute_reply": "2023-08-24T21:29:25.276750Z"
    },
    "papermill": {
     "duration": 0.755843,
     "end_time": "2023-08-24T21:29:25.279828",
     "exception": false,
     "start_time": "2023-08-24T21:29:24.523985",
     "status": "completed"
    },
    "tags": []
   },
   "outputs": [],
   "source": [
    "sample_submission = pd.read_csv(\"/kaggle/input/commonlit-evaluate-student-summaries/sample_submission.csv\")\n",
    "\n",
    "target_cols = [\"content\", \"wording\"]\n",
    "for col_index, col_name in enumerate(target_cols):\n",
    "    sample_submission[col_name] = pred[col_index]\n"
   ]
  },
  {
   "cell_type": "code",
   "execution_count": 25,
   "id": "c62f0702",
   "metadata": {
    "execution": {
     "iopub.execute_input": "2023-08-24T21:29:26.848138Z",
     "iopub.status.busy": "2023-08-24T21:29:26.847760Z",
     "iopub.status.idle": "2023-08-24T21:29:26.856997Z",
     "shell.execute_reply": "2023-08-24T21:29:26.856040Z"
    },
    "papermill": {
     "duration": 0.792185,
     "end_time": "2023-08-24T21:29:26.859240",
     "exception": false,
     "start_time": "2023-08-24T21:29:26.067055",
     "status": "completed"
    },
    "tags": []
   },
   "outputs": [],
   "source": [
    "sample_submission.to_csv(\"submission.csv\", index = False)"
   ]
  },
  {
   "cell_type": "code",
   "execution_count": 26,
   "id": "e0ab8689",
   "metadata": {
    "execution": {
     "iopub.execute_input": "2023-08-24T21:29:28.327634Z",
     "iopub.status.busy": "2023-08-24T21:29:28.326902Z",
     "iopub.status.idle": "2023-08-24T21:29:28.337498Z",
     "shell.execute_reply": "2023-08-24T21:29:28.336496Z"
    },
    "papermill": {
     "duration": 0.739377,
     "end_time": "2023-08-24T21:29:28.339704",
     "exception": false,
     "start_time": "2023-08-24T21:29:27.600327",
     "status": "completed"
    },
    "tags": []
   },
   "outputs": [
    {
     "data": {
      "text/html": [
       "<div>\n",
       "<style scoped>\n",
       "    .dataframe tbody tr th:only-of-type {\n",
       "        vertical-align: middle;\n",
       "    }\n",
       "\n",
       "    .dataframe tbody tr th {\n",
       "        vertical-align: top;\n",
       "    }\n",
       "\n",
       "    .dataframe thead th {\n",
       "        text-align: right;\n",
       "    }\n",
       "</style>\n",
       "<table border=\"1\" class=\"dataframe\">\n",
       "  <thead>\n",
       "    <tr style=\"text-align: right;\">\n",
       "      <th></th>\n",
       "      <th>student_id</th>\n",
       "      <th>content</th>\n",
       "      <th>wording</th>\n",
       "    </tr>\n",
       "  </thead>\n",
       "  <tbody>\n",
       "    <tr>\n",
       "      <th>0</th>\n",
       "      <td>000000ffffff</td>\n",
       "      <td>-1.604908</td>\n",
       "      <td>-1.701386</td>\n",
       "    </tr>\n",
       "    <tr>\n",
       "      <th>1</th>\n",
       "      <td>111111eeeeee</td>\n",
       "      <td>-1.622568</td>\n",
       "      <td>-1.783748</td>\n",
       "    </tr>\n",
       "    <tr>\n",
       "      <th>2</th>\n",
       "      <td>222222cccccc</td>\n",
       "      <td>-1.540870</td>\n",
       "      <td>-1.753896</td>\n",
       "    </tr>\n",
       "    <tr>\n",
       "      <th>3</th>\n",
       "      <td>333333dddddd</td>\n",
       "      <td>-1.558103</td>\n",
       "      <td>-1.770841</td>\n",
       "    </tr>\n",
       "  </tbody>\n",
       "</table>\n",
       "</div>"
      ],
      "text/plain": [
       "     student_id   content   wording\n",
       "0  000000ffffff -1.604908 -1.701386\n",
       "1  111111eeeeee -1.622568 -1.783748\n",
       "2  222222cccccc -1.540870 -1.753896\n",
       "3  333333dddddd -1.558103 -1.770841"
      ]
     },
     "execution_count": 26,
     "metadata": {},
     "output_type": "execute_result"
    }
   ],
   "source": [
    "sample_submission"
   ]
  }
 ],
 "metadata": {
  "kernelspec": {
   "display_name": "Python 3",
   "language": "python",
   "name": "python3"
  },
  "language_info": {
   "codemirror_mode": {
    "name": "ipython",
    "version": 3
   },
   "file_extension": ".py",
   "mimetype": "text/x-python",
   "name": "python",
   "nbconvert_exporter": "python",
   "pygments_lexer": "ipython3",
   "version": "3.10.12"
  },
  "papermill": {
   "default_parameters": {},
   "duration": 8332.470584,
   "end_time": "2023-08-24T21:29:32.777242",
   "environment_variables": {},
   "exception": null,
   "input_path": "__notebook__.ipynb",
   "output_path": "__notebook__.ipynb",
   "parameters": {},
   "start_time": "2023-08-24T19:10:40.306658",
   "version": "2.4.0"
  }
 },
 "nbformat": 4,
 "nbformat_minor": 5
}

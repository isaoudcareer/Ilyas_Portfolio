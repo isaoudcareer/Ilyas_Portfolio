{
 "cells": [
  {
   "cell_type": "markdown",
   "id": "d4881fc8",
   "metadata": {
    "papermill": {
     "duration": 0.011453,
     "end_time": "2022-12-01T17:57:21.155380",
     "exception": false,
     "start_time": "2022-12-01T17:57:21.143927",
     "status": "completed"
    },
    "tags": []
   },
   "source": [
    "# Project Two - NLP Disaster Tweets Classification \n",
    "#### Ilyas Saoud\n",
    "#### ASU - DAT 402\n",
    "#### Professor Marko Samara"
   ]
  },
  {
   "cell_type": "markdown",
   "id": "eeabe1cc",
   "metadata": {
    "papermill": {
     "duration": 0.011187,
     "end_time": "2022-12-01T17:57:21.176739",
     "exception": false,
     "start_time": "2022-12-01T17:57:21.165552",
     "status": "completed"
    },
    "tags": []
   },
   "source": [
    "**In this project, we will be using twitter to identify if a user is tweeting about a disaster or not. This could potentially help report emergencies with a certain accuracy. The data was taken once again from Kaggle: https://www.kaggle.com/competitions/nlp-getting-started. \n",
    "Warning: The text in our data contains offensive and profane language.**"
   ]
  },
  {
   "cell_type": "markdown",
   "id": "fdfb0ef0",
   "metadata": {
    "papermill": {
     "duration": 0.009605,
     "end_time": "2022-12-01T17:57:21.196120",
     "exception": false,
     "start_time": "2022-12-01T17:57:21.186515",
     "status": "completed"
    },
    "tags": []
   },
   "source": [
    "# Importing Libraries"
   ]
  },
  {
   "cell_type": "code",
   "execution_count": 1,
   "id": "96c8898f",
   "metadata": {
    "_cell_guid": "b1076dfc-b9ad-4769-8c92-a6c4dae69d19",
    "_uuid": "8f2839f25d086af736a60e9eeb907d3b93b6e0e5",
    "execution": {
     "iopub.execute_input": "2022-12-01T17:57:21.218383Z",
     "iopub.status.busy": "2022-12-01T17:57:21.217186Z",
     "iopub.status.idle": "2022-12-01T17:57:27.020020Z",
     "shell.execute_reply": "2022-12-01T17:57:27.018939Z"
    },
    "papermill": {
     "duration": 5.817003,
     "end_time": "2022-12-01T17:57:27.022974",
     "exception": false,
     "start_time": "2022-12-01T17:57:21.205971",
     "status": "completed"
    },
    "tags": []
   },
   "outputs": [],
   "source": [
    "import pandas as pd\n",
    "import numpy as np\n",
    "import string\n",
    "import re\n",
    "import matplotlib.pyplot as plt\n",
    "import seaborn as sns\n",
    "from matplotlib import rcParams\n",
    "pd.options.mode.chained_assignment = None  # default='warn'\n",
    "from sklearn.model_selection import train_test_split\n",
    "from tensorflow import keras\n",
    "from tensorflow.keras import layers\n",
    "import tensorflow as tf\n",
    "from tensorflow.keras.layers.experimental.preprocessing import TextVectorization"
   ]
  },
  {
   "cell_type": "code",
   "execution_count": 2,
   "id": "82afb163",
   "metadata": {
    "execution": {
     "iopub.execute_input": "2022-12-01T17:57:27.072818Z",
     "iopub.status.busy": "2022-12-01T17:57:27.071851Z",
     "iopub.status.idle": "2022-12-01T17:57:27.165852Z",
     "shell.execute_reply": "2022-12-01T17:57:27.164909Z"
    },
    "papermill": {
     "duration": 0.119532,
     "end_time": "2022-12-01T17:57:27.168574",
     "exception": false,
     "start_time": "2022-12-01T17:57:27.049042",
     "status": "completed"
    },
    "tags": []
   },
   "outputs": [
    {
     "data": {
      "text/html": [
       "<div>\n",
       "<style scoped>\n",
       "    .dataframe tbody tr th:only-of-type {\n",
       "        vertical-align: middle;\n",
       "    }\n",
       "\n",
       "    .dataframe tbody tr th {\n",
       "        vertical-align: top;\n",
       "    }\n",
       "\n",
       "    .dataframe thead th {\n",
       "        text-align: right;\n",
       "    }\n",
       "</style>\n",
       "<table border=\"1\" class=\"dataframe\">\n",
       "  <thead>\n",
       "    <tr style=\"text-align: right;\">\n",
       "      <th></th>\n",
       "      <th>id</th>\n",
       "      <th>keyword</th>\n",
       "      <th>location</th>\n",
       "      <th>text</th>\n",
       "      <th>target</th>\n",
       "    </tr>\n",
       "  </thead>\n",
       "  <tbody>\n",
       "    <tr>\n",
       "      <th>0</th>\n",
       "      <td>1</td>\n",
       "      <td>NaN</td>\n",
       "      <td>NaN</td>\n",
       "      <td>Our Deeds are the Reason of this #earthquake M...</td>\n",
       "      <td>1</td>\n",
       "    </tr>\n",
       "    <tr>\n",
       "      <th>1</th>\n",
       "      <td>4</td>\n",
       "      <td>NaN</td>\n",
       "      <td>NaN</td>\n",
       "      <td>Forest fire near La Ronge Sask. Canada</td>\n",
       "      <td>1</td>\n",
       "    </tr>\n",
       "    <tr>\n",
       "      <th>2</th>\n",
       "      <td>5</td>\n",
       "      <td>NaN</td>\n",
       "      <td>NaN</td>\n",
       "      <td>All residents asked to 'shelter in place' are ...</td>\n",
       "      <td>1</td>\n",
       "    </tr>\n",
       "    <tr>\n",
       "      <th>3</th>\n",
       "      <td>6</td>\n",
       "      <td>NaN</td>\n",
       "      <td>NaN</td>\n",
       "      <td>13,000 people receive #wildfires evacuation or...</td>\n",
       "      <td>1</td>\n",
       "    </tr>\n",
       "    <tr>\n",
       "      <th>4</th>\n",
       "      <td>7</td>\n",
       "      <td>NaN</td>\n",
       "      <td>NaN</td>\n",
       "      <td>Just got sent this photo from Ruby #Alaska as ...</td>\n",
       "      <td>1</td>\n",
       "    </tr>\n",
       "  </tbody>\n",
       "</table>\n",
       "</div>"
      ],
      "text/plain": [
       "   id keyword location                                               text  \\\n",
       "0   1     NaN      NaN  Our Deeds are the Reason of this #earthquake M...   \n",
       "1   4     NaN      NaN             Forest fire near La Ronge Sask. Canada   \n",
       "2   5     NaN      NaN  All residents asked to 'shelter in place' are ...   \n",
       "3   6     NaN      NaN  13,000 people receive #wildfires evacuation or...   \n",
       "4   7     NaN      NaN  Just got sent this photo from Ruby #Alaska as ...   \n",
       "\n",
       "   target  \n",
       "0       1  \n",
       "1       1  \n",
       "2       1  \n",
       "3       1  \n",
       "4       1  "
      ]
     },
     "execution_count": 2,
     "metadata": {},
     "output_type": "execute_result"
    }
   ],
   "source": [
    "train = pd.read_csv('/kaggle/input/nlp-getting-started/train.csv')\n",
    "test = pd.read_csv('/kaggle/input/nlp-getting-started/test.csv')\n",
    "train.head()"
   ]
  },
  {
   "cell_type": "markdown",
   "id": "1e7b5549",
   "metadata": {
    "papermill": {
     "duration": 0.014836,
     "end_time": "2022-12-01T17:57:27.199408",
     "exception": false,
     "start_time": "2022-12-01T17:57:27.184572",
     "status": "completed"
    },
    "tags": []
   },
   "source": [
    "# Exploratory Data Analysis"
   ]
  },
  {
   "cell_type": "markdown",
   "id": "31af4f14",
   "metadata": {
    "papermill": {
     "duration": 0.013525,
     "end_time": "2022-12-01T17:57:27.227874",
     "exception": false,
     "start_time": "2022-12-01T17:57:27.214349",
     "status": "completed"
    },
    "tags": []
   },
   "source": [
    "**0 = Tweet is about a disaster**\n",
    "\n",
    "**1 = Tweet is not about a disaster**"
   ]
  },
  {
   "cell_type": "code",
   "execution_count": 3,
   "id": "87928859",
   "metadata": {
    "execution": {
     "iopub.execute_input": "2022-12-01T17:57:27.261937Z",
     "iopub.status.busy": "2022-12-01T17:57:27.261541Z",
     "iopub.status.idle": "2022-12-01T17:57:27.272675Z",
     "shell.execute_reply": "2022-12-01T17:57:27.271814Z"
    },
    "papermill": {
     "duration": 0.034616,
     "end_time": "2022-12-01T17:57:27.276551",
     "exception": false,
     "start_time": "2022-12-01T17:57:27.241935",
     "status": "completed"
    },
    "tags": []
   },
   "outputs": [
    {
     "name": "stdout",
     "output_type": "stream",
     "text": [
      "0    4342\n",
      "1    3271\n",
      "Name: target, dtype: int64\n"
     ]
    }
   ],
   "source": [
    "print(train.target.value_counts())"
   ]
  },
  {
   "cell_type": "markdown",
   "id": "b5532ef3",
   "metadata": {
    "papermill": {
     "duration": 0.016597,
     "end_time": "2022-12-01T17:57:27.308638",
     "exception": false,
     "start_time": "2022-12-01T17:57:27.292041",
     "status": "completed"
    },
    "tags": []
   },
   "source": [
    "## Pie Chart"
   ]
  },
  {
   "cell_type": "code",
   "execution_count": 4,
   "id": "baa17c01",
   "metadata": {
    "execution": {
     "iopub.execute_input": "2022-12-01T17:57:27.339502Z",
     "iopub.status.busy": "2022-12-01T17:57:27.339142Z",
     "iopub.status.idle": "2022-12-01T17:57:27.516408Z",
     "shell.execute_reply": "2022-12-01T17:57:27.515469Z"
    },
    "papermill": {
     "duration": 0.196029,
     "end_time": "2022-12-01T17:57:27.519457",
     "exception": false,
     "start_time": "2022-12-01T17:57:27.323428",
     "status": "completed"
    },
    "tags": []
   },
   "outputs": [
    {
     "data": {
      "image/png": "[encoded data removed]",
      "text/plain": [
       "<Figure size 432x288 with 1 Axes>"
      ]
     },
     "metadata": {},
     "output_type": "display_data"
    }
   ],
   "source": [
    "labels = ['Disaster Tweet','Not a Disaster Tweet']\n",
    "\n",
    "plt.pie(train.target.value_counts(),explode = (0,0.02), labels = labels,autopct='%.0f%%',\n",
    "        shadow=False,startangle=40,colors=('tab:red', 'tab:blue'))\n",
    "\n",
    "rcParams['figure.figsize'] = 10.7,7.27\n",
    "\n",
    "plt.show()"
   ]
  },
  {
   "cell_type": "markdown",
   "id": "9b46cc90",
   "metadata": {
    "papermill": {
     "duration": 0.03142,
     "end_time": "2022-12-01T17:57:27.580857",
     "exception": false,
     "start_time": "2022-12-01T17:57:27.549437",
     "status": "completed"
    },
    "tags": []
   },
   "source": [
    "**Disaster Tweet dominates here, but not by much! Our data is fair enough to work with.**"
   ]
  },
  {
   "cell_type": "code",
   "execution_count": 5,
   "id": "d779e45d",
   "metadata": {
    "execution": {
     "iopub.execute_input": "2022-12-01T17:57:27.613480Z",
     "iopub.status.busy": "2022-12-01T17:57:27.613112Z",
     "iopub.status.idle": "2022-12-01T17:57:27.625972Z",
     "shell.execute_reply": "2022-12-01T17:57:27.625183Z"
    },
    "papermill": {
     "duration": 0.03175,
     "end_time": "2022-12-01T17:57:27.628460",
     "exception": false,
     "start_time": "2022-12-01T17:57:27.596710",
     "status": "completed"
    },
    "tags": []
   },
   "outputs": [],
   "source": [
    "train[\"text_len\"] = train.text.str.len()"
   ]
  },
  {
   "cell_type": "markdown",
   "id": "22b4395c",
   "metadata": {
    "papermill": {
     "duration": 0.016298,
     "end_time": "2022-12-01T17:57:27.661410",
     "exception": false,
     "start_time": "2022-12-01T17:57:27.645112",
     "status": "completed"
    },
    "tags": []
   },
   "source": [
    "## Histogram of Text Length (Number of words in each tweet)"
   ]
  },
  {
   "cell_type": "code",
   "execution_count": 6,
   "id": "aa07b148",
   "metadata": {
    "execution": {
     "iopub.execute_input": "2022-12-01T17:57:27.697785Z",
     "iopub.status.busy": "2022-12-01T17:57:27.697427Z",
     "iopub.status.idle": "2022-12-01T17:57:28.180176Z",
     "shell.execute_reply": "2022-12-01T17:57:28.179353Z"
    },
    "papermill": {
     "duration": 0.504866,
     "end_time": "2022-12-01T17:57:28.182847",
     "exception": false,
     "start_time": "2022-12-01T17:57:27.677981",
     "status": "completed"
    },
    "tags": []
   },
   "outputs": [
    {
     "data": {
      "text/plain": [
       "<matplotlib.legend.Legend at 0x7fc3be8fc390>"
      ]
     },
     "execution_count": 6,
     "metadata": {},
     "output_type": "execute_result"
    },
    {
     "data": {
      "image/png": "[encoded data removed]",
      "text/plain": [
       "<Figure size 770.4x523.44 with 1 Axes>"
      ]
     },
     "metadata": {
      "needs_background": "light"
     },
     "output_type": "display_data"
    }
   ],
   "source": [
    "sns.histplot(data=train.text_len)\n",
    "plt.axvline(x=train.text_len.mean(),\n",
    "            color='red',label=\"Mean\")\n",
    "plt.axvline(x=train.text_len.median(),\n",
    "            color='blue',linestyle='--',label=\"Median\")\n",
    "plt.xlabel(\"Text Length\"), plt.ylabel(\"Frequency\")\n",
    "plt.title(\"Histogram of Text Length\")\n",
    "plt.legend()"
   ]
  },
  {
   "cell_type": "code",
   "execution_count": 7,
   "id": "e4acafe2",
   "metadata": {
    "execution": {
     "iopub.execute_input": "2022-12-01T17:57:28.221086Z",
     "iopub.status.busy": "2022-12-01T17:57:28.220790Z",
     "iopub.status.idle": "2022-12-01T17:57:28.226071Z",
     "shell.execute_reply": "2022-12-01T17:57:28.225096Z"
    },
    "papermill": {
     "duration": 0.027999,
     "end_time": "2022-12-01T17:57:28.228383",
     "exception": false,
     "start_time": "2022-12-01T17:57:28.200384",
     "status": "completed"
    },
    "tags": []
   },
   "outputs": [
    {
     "name": "stdout",
     "output_type": "stream",
     "text": [
      "Mean:  101.03743596479706\n"
     ]
    }
   ],
   "source": [
    "print(\"Mean: \",train.text_len.mean())"
   ]
  },
  {
   "cell_type": "markdown",
   "id": "6793c52d",
   "metadata": {
    "papermill": {
     "duration": 0.011237,
     "end_time": "2022-12-01T17:57:28.251199",
     "exception": false,
     "start_time": "2022-12-01T17:57:28.239962",
     "status": "completed"
    },
    "tags": []
   },
   "source": [
    "**A mean of 101 is a lot of words! We can expect to large amount of features moving forward.**"
   ]
  },
  {
   "cell_type": "markdown",
   "id": "f5f1cdee",
   "metadata": {
    "papermill": {
     "duration": 0.011107,
     "end_time": "2022-12-01T17:57:28.273899",
     "exception": false,
     "start_time": "2022-12-01T17:57:28.262792",
     "status": "completed"
    },
    "tags": []
   },
   "source": [
    "# Vectorization"
   ]
  },
  {
   "cell_type": "markdown",
   "id": "7fa70d32",
   "metadata": {
    "papermill": {
     "duration": 0.010366,
     "end_time": "2022-12-01T17:57:28.294856",
     "exception": false,
     "start_time": "2022-12-01T17:57:28.284490",
     "status": "completed"
    },
    "tags": []
   },
   "source": [
    "## Let's look at the big picture"
   ]
  },
  {
   "cell_type": "markdown",
   "id": "3433d516",
   "metadata": {
    "papermill": {
     "duration": 0.010614,
     "end_time": "2022-12-01T17:57:28.316035",
     "exception": false,
     "start_time": "2022-12-01T17:57:28.305421",
     "status": "completed"
    },
    "tags": []
   },
   "source": [
    "**This is an NLP project, and so we're going to be working with text data, but since computers can't understand words or language, we need a way to transform our text into numbers that make sense. So here is the big picture:**\n",
    "\n",
    "* Text\n",
    "> Text = \"That big house is AWESOME! Plus, it has a red door\"\n",
    "* Standarize: We remove any punctuations, and lower() our text\n",
    "> Standarized text = \"that big house is awesome plus it has a red door\"\n",
    "* Create Tokens\n",
    "> Tokens = \"that\", \"big', \"house\", \"is\", \"awesome\", \"plus\", \"it\", \"has\", \"a\", \"red\",\"door\"\n",
    "\n",
    "**There are multiple methods we can use to tokenize our text, this will be discussed later.**\n",
    "* Token indices\n",
    "> Indices = 4,34,76,85,3,25,8,3,3,64,2\n",
    "\n",
    "**Once we have our indices, there are multiple methods we can use to handle them, from encoding to embedding and more. We will discuss these methods later.** "
   ]
  },
  {
   "cell_type": "markdown",
   "id": "9019e5dd",
   "metadata": {
    "papermill": {
     "duration": 0.010631,
     "end_time": "2022-12-01T17:57:28.337370",
     "exception": false,
     "start_time": "2022-12-01T17:57:28.326739",
     "status": "completed"
    },
    "tags": []
   },
   "source": [
    "## Text Vectorization from scratch"
   ]
  },
  {
   "cell_type": "markdown",
   "id": "4bd0dd61",
   "metadata": {
    "papermill": {
     "duration": 0.010739,
     "end_time": "2022-12-01T17:57:28.359232",
     "exception": false,
     "start_time": "2022-12-01T17:57:28.348493",
     "status": "completed"
    },
    "tags": []
   },
   "source": [
    "**Code Source: Deep Learning with Python - Francois Chollet**\n",
    "\n",
    "* **The standarize()** and **tokenize()** functions were explaiend above.\n",
    "\n",
    "* **make_vocabulary()** creates indices and stores the vocabulary of the text\n",
    "\n",
    "* **encode()** will return a vectorized array\n",
    "\n",
    "* **decode()** will return a text given a vectorized array, using the vocabulary dictionary{}"
   ]
  },
  {
   "cell_type": "code",
   "execution_count": 8,
   "id": "79be9a98",
   "metadata": {
    "execution": {
     "iopub.execute_input": "2022-12-01T17:57:28.382653Z",
     "iopub.status.busy": "2022-12-01T17:57:28.382048Z",
     "iopub.status.idle": "2022-12-01T17:57:28.391623Z",
     "shell.execute_reply": "2022-12-01T17:57:28.390728Z"
    },
    "papermill": {
     "duration": 0.023717,
     "end_time": "2022-12-01T17:57:28.393834",
     "exception": false,
     "start_time": "2022-12-01T17:57:28.370117",
     "status": "completed"
    },
    "tags": []
   },
   "outputs": [],
   "source": [
    "#Code Source: Deep Learning with Python - Francois Chollet\n",
    "\n",
    "class Vectorizer:\n",
    "    def standardize(self, text):\n",
    "        text = text.lower()\n",
    "        return \"\".join(char for char in text\n",
    "                       if char not in string.punctuation)\n",
    "        return \n",
    "    def tokenize(self, text):\n",
    "        text = self.standardize(text)\n",
    "        return text.split()\n",
    "    def make_vocabulary(self, dataset):\n",
    "        self.vocabulary = {\"\": 0, \"[UNK]\": 1}\n",
    "        for text in dataset:\n",
    "            text = self.standardize(text)\n",
    "            tokens = self.tokenize(text)\n",
    "            for token in tokens:\n",
    "                if token not in self.vocabulary:\n",
    "                    self.vocabulary[token] = len(self.vocabulary)\n",
    "                    self.inverse_vocabulary = dict(\n",
    "                        (v, k) for k, v in self.vocabulary.items())\n",
    "    def encode(self, text):\n",
    "                        text = self.standardize(text)\n",
    "                        tokens = self.tokenize(text)\n",
    "                        return [self.vocabulary.get(token, 1) for token in tokens]\n",
    "    def decode(self, int_sequence):\n",
    "        return \" \".join(\n",
    "            self.inverse_vocabulary.get(i, \"[UNK]\") for i in int_sequence)"
   ]
  },
  {
   "cell_type": "markdown",
   "id": "6d5316a9",
   "metadata": {
    "papermill": {
     "duration": 0.011136,
     "end_time": "2022-12-01T17:57:28.415689",
     "exception": false,
     "start_time": "2022-12-01T17:57:28.404553",
     "status": "completed"
    },
    "tags": []
   },
   "source": [
    "* **Here we created a dataset, then called out our Vectorizer() to make_vocabulary() out of our dataset**"
   ]
  },
  {
   "cell_type": "code",
   "execution_count": 9,
   "id": "014928ef",
   "metadata": {
    "execution": {
     "iopub.execute_input": "2022-12-01T17:57:28.439981Z",
     "iopub.status.busy": "2022-12-01T17:57:28.438399Z",
     "iopub.status.idle": "2022-12-01T17:57:28.444010Z",
     "shell.execute_reply": "2022-12-01T17:57:28.443179Z"
    },
    "papermill": {
     "duration": 0.019171,
     "end_time": "2022-12-01T17:57:28.445819",
     "exception": false,
     "start_time": "2022-12-01T17:57:28.426648",
     "status": "completed"
    },
    "tags": []
   },
   "outputs": [],
   "source": [
    "dataset = ['I am SICk of this. come on just win the game tomorrow',\n",
    "          'Yesterday I lost the bet...',\n",
    "          'Watching the game is fun, but playing it is better.']"
   ]
  },
  {
   "cell_type": "code",
   "execution_count": 10,
   "id": "e468170d",
   "metadata": {
    "execution": {
     "iopub.execute_input": "2022-12-01T17:57:28.470515Z",
     "iopub.status.busy": "2022-12-01T17:57:28.468981Z",
     "iopub.status.idle": "2022-12-01T17:57:28.474570Z",
     "shell.execute_reply": "2022-12-01T17:57:28.473759Z"
    },
    "papermill": {
     "duration": 0.019455,
     "end_time": "2022-12-01T17:57:28.476515",
     "exception": false,
     "start_time": "2022-12-01T17:57:28.457060",
     "status": "completed"
    },
    "tags": []
   },
   "outputs": [],
   "source": [
    "vectorizer = Vectorizer()\n",
    "vectorizer.make_vocabulary(dataset)"
   ]
  },
  {
   "cell_type": "markdown",
   "id": "2a435754",
   "metadata": {
    "papermill": {
     "duration": 0.010488,
     "end_time": "2022-12-01T17:57:28.497966",
     "exception": false,
     "start_time": "2022-12-01T17:57:28.487478",
     "status": "completed"
    },
    "tags": []
   },
   "source": [
    "* **Here we encoded and decoded a new sentence, \"we\" and \"we'll\" was not recognized, so it returned a value of 1 when encoded, and '[UNK]' when decoded**"
   ]
  },
  {
   "cell_type": "code",
   "execution_count": 11,
   "id": "f88c6d11",
   "metadata": {
    "execution": {
     "iopub.execute_input": "2022-12-01T17:57:28.521194Z",
     "iopub.status.busy": "2022-12-01T17:57:28.520374Z",
     "iopub.status.idle": "2022-12-01T17:57:28.527181Z",
     "shell.execute_reply": "2022-12-01T17:57:28.526296Z"
    },
    "papermill": {
     "duration": 0.020247,
     "end_time": "2022-12-01T17:57:28.529062",
     "exception": false,
     "start_time": "2022-12-01T17:57:28.508815",
     "status": "completed"
    },
    "tags": []
   },
   "outputs": [
    {
     "data": {
      "text/plain": [
       "([14, 1, 15, 11, 12, 20, 1, 10, 13],\n",
       " 'yesterday [UNK] lost the game but [UNK] win tomorrow')"
      ]
     },
     "execution_count": 11,
     "metadata": {},
     "output_type": "execute_result"
    }
   ],
   "source": [
    "sentence = \"Yesterday we lost the game, but we'll win tomorrow\"\n",
    "encoded = vectorizer.encode(sentence)\n",
    "decoded = vectorizer.decode(encoded)\n",
    "encoded,decoded"
   ]
  },
  {
   "cell_type": "markdown",
   "id": "e428992f",
   "metadata": {
    "papermill": {
     "duration": 0.010819,
     "end_time": "2022-12-01T17:57:28.550536",
     "exception": false,
     "start_time": "2022-12-01T17:57:28.539717",
     "status": "completed"
    },
    "tags": []
   },
   "source": [
    "*** Here we are using TensorFlow library:**\n",
    "> tensorflow.keras.layers.experimental.preprocessing import TextVectorization\n",
    "\n",
    "*** .adapt() is similar to our .make_vocabulary()**"
   ]
  },
  {
   "cell_type": "code",
   "execution_count": 12,
   "id": "333a0f51",
   "metadata": {
    "_kg_hide-output": true,
    "execution": {
     "iopub.execute_input": "2022-12-01T17:57:28.574191Z",
     "iopub.status.busy": "2022-12-01T17:57:28.573462Z",
     "iopub.status.idle": "2022-12-01T17:57:31.433231Z",
     "shell.execute_reply": "2022-12-01T17:57:31.432132Z"
    },
    "papermill": {
     "duration": 2.873501,
     "end_time": "2022-12-01T17:57:31.435279",
     "exception": false,
     "start_time": "2022-12-01T17:57:28.561778",
     "status": "completed"
    },
    "tags": []
   },
   "outputs": [
    {
     "name": "stderr",
     "output_type": "stream",
     "text": [
      "2022-12-01 17:57:28.657191: I tensorflow/stream_executor/cuda/cuda_gpu_executor.cc:937] successful NUMA node read from SysFS had negative value (-1), but there must be at least one NUMA node, so returning NUMA node zero\n",
      "2022-12-01 17:57:28.742805: I tensorflow/stream_executor/cuda/cuda_gpu_executor.cc:937] successful NUMA node read from SysFS had negative value (-1), but there must be at least one NUMA node, so returning NUMA node zero\n",
      "2022-12-01 17:57:28.743648: I tensorflow/stream_executor/cuda/cuda_gpu_executor.cc:937] successful NUMA node read from SysFS had negative value (-1), but there must be at least one NUMA node, so returning NUMA node zero\n",
      "2022-12-01 17:57:28.745222: I tensorflow/core/platform/cpu_feature_guard.cc:142] This TensorFlow binary is optimized with oneAPI Deep Neural Network Library (oneDNN) to use the following CPU instructions in performance-critical operations:  AVX2 AVX512F FMA\n",
      "To enable them in other operations, rebuild TensorFlow with the appropriate compiler flags.\n",
      "2022-12-01 17:57:28.745609: I tensorflow/stream_executor/cuda/cuda_gpu_executor.cc:937] successful NUMA node read from SysFS had negative value (-1), but there must be at least one NUMA node, so returning NUMA node zero\n",
      "2022-12-01 17:57:28.746603: I tensorflow/stream_executor/cuda/cuda_gpu_executor.cc:937] successful NUMA node read from SysFS had negative value (-1), but there must be at least one NUMA node, so returning NUMA node zero\n",
      "2022-12-01 17:57:28.747547: I tensorflow/stream_executor/cuda/cuda_gpu_executor.cc:937] successful NUMA node read from SysFS had negative value (-1), but there must be at least one NUMA node, so returning NUMA node zero\n",
      "2022-12-01 17:57:30.737284: I tensorflow/stream_executor/cuda/cuda_gpu_executor.cc:937] successful NUMA node read from SysFS had negative value (-1), but there must be at least one NUMA node, so returning NUMA node zero\n",
      "2022-12-01 17:57:30.738133: I tensorflow/stream_executor/cuda/cuda_gpu_executor.cc:937] successful NUMA node read from SysFS had negative value (-1), but there must be at least one NUMA node, so returning NUMA node zero\n",
      "2022-12-01 17:57:30.738874: I tensorflow/stream_executor/cuda/cuda_gpu_executor.cc:937] successful NUMA node read from SysFS had negative value (-1), but there must be at least one NUMA node, so returning NUMA node zero\n",
      "2022-12-01 17:57:30.739492: I tensorflow/core/common_runtime/gpu/gpu_device.cc:1510] Created device /job:localhost/replica:0/task:0/device:GPU:0 with 15401 MB memory:  -> device: 0, name: Tesla P100-PCIE-16GB, pci bus id: 0000:00:04.0, compute capability: 6.0\n",
      "2022-12-01 17:57:31.189432: I tensorflow/compiler/mlir/mlir_graph_optimization_pass.cc:185] None of the MLIR Optimization Passes are enabled (registered 2)\n"
     ]
    },
    {
     "data": {
      "text/plain": [
       "<tf.Tensor: shape=(9,), dtype=int64, numpy=array([ 6,  1, 15,  2,  5, 20,  1,  7,  9])>"
      ]
     },
     "execution_count": 12,
     "metadata": {},
     "output_type": "execute_result"
    }
   ],
   "source": [
    "text_vectorization = TextVectorization(\n",
    "    output_mode ='int')\n",
    "text_vectorization.adapt(dataset)\n",
    "encoded = text_vectorization(sentence)\n",
    "encoded"
   ]
  },
  {
   "cell_type": "code",
   "execution_count": 13,
   "id": "18d8bb98",
   "metadata": {
    "execution": {
     "iopub.execute_input": "2022-12-01T17:57:31.460113Z",
     "iopub.status.busy": "2022-12-01T17:57:31.459315Z",
     "iopub.status.idle": "2022-12-01T17:57:31.465945Z",
     "shell.execute_reply": "2022-12-01T17:57:31.465025Z"
    },
    "papermill": {
     "duration": 0.020923,
     "end_time": "2022-12-01T17:57:31.468043",
     "exception": false,
     "start_time": "2022-12-01T17:57:31.447120",
     "status": "completed"
    },
    "tags": []
   },
   "outputs": [
    {
     "data": {
      "text/plain": [
       "array(['Our Deeds are the Reason of this #earthquake May ALLAH Forgive us all',\n",
       "       'Forest fire near La Ronge Sask. Canada',\n",
       "       \"All residents asked to 'shelter in place' are being notified by officers. No other evacuation or shelter in place orders are expected\",\n",
       "       ...,\n",
       "       'M1.94 [01:04 UTC]?5km S of Volcano Hawaii. http://t.co/zDtoyd8EbJ',\n",
       "       'Police investigating after an e-bike collided with a car in Little Portugal. E-bike rider suffered serious non-life threatening injuries.',\n",
       "       'The Latest: More Homes Razed by Northern California Wildfire - ABC News http://t.co/YmY4rSkQ3d'],\n",
       "      dtype=object)"
      ]
     },
     "execution_count": 13,
     "metadata": {},
     "output_type": "execute_result"
    }
   ],
   "source": [
    "X = train['text'].values\n",
    "y = train['target'].values\n",
    "X"
   ]
  },
  {
   "cell_type": "markdown",
   "id": "7fd88fa2",
   "metadata": {
    "papermill": {
     "duration": 0.011101,
     "end_time": "2022-12-01T17:57:31.490307",
     "exception": false,
     "start_time": "2022-12-01T17:57:31.479206",
     "status": "completed"
    },
    "tags": []
   },
   "source": [
    "### Custom Standarization\n",
    "*** Removes html, lowers text, removes punctuations**"
   ]
  },
  {
   "cell_type": "code",
   "execution_count": 14,
   "id": "98b408fa",
   "metadata": {
    "execution": {
     "iopub.execute_input": "2022-12-01T17:57:31.514110Z",
     "iopub.status.busy": "2022-12-01T17:57:31.513829Z",
     "iopub.status.idle": "2022-12-01T17:57:31.518499Z",
     "shell.execute_reply": "2022-12-01T17:57:31.517553Z"
    },
    "papermill": {
     "duration": 0.018789,
     "end_time": "2022-12-01T17:57:31.520303",
     "exception": false,
     "start_time": "2022-12-01T17:57:31.501514",
     "status": "completed"
    },
    "tags": []
   },
   "outputs": [],
   "source": [
    "def custom_standardization(input_data):\n",
    "    lowercase = tf.strings.lower(input_data)\n",
    "    stripped_html = tf.strings.regex_replace(lowercase, '<br />', ' ')\n",
    "    return tf.strings.regex_replace(stripped_html,\n",
    "                                  '[%s]' % re.escape(string.punctuation),\n",
    "                                  '')"
   ]
  },
  {
   "cell_type": "markdown",
   "id": "cb1be052",
   "metadata": {
    "papermill": {
     "duration": 0.010837,
     "end_time": "2022-12-01T17:57:31.542344",
     "exception": false,
     "start_time": "2022-12-01T17:57:31.531507",
     "status": "completed"
    },
    "tags": []
   },
   "source": [
    "### Train Test Split"
   ]
  },
  {
   "cell_type": "code",
   "execution_count": 15,
   "id": "5ff0e7e4",
   "metadata": {
    "execution": {
     "iopub.execute_input": "2022-12-01T17:57:31.567227Z",
     "iopub.status.busy": "2022-12-01T17:57:31.565582Z",
     "iopub.status.idle": "2022-12-01T17:57:31.574936Z",
     "shell.execute_reply": "2022-12-01T17:57:31.574073Z"
    },
    "papermill": {
     "duration": 0.023601,
     "end_time": "2022-12-01T17:57:31.577031",
     "exception": false,
     "start_time": "2022-12-01T17:57:31.553430",
     "status": "completed"
    },
    "tags": []
   },
   "outputs": [],
   "source": [
    "X_train,X_test,y_train,y_test = train_test_split(X,y,\n",
    "                                                test_size = 0.25,\n",
    "                                                random_state=0,\n",
    "                                                stratify=y)"
   ]
  },
  {
   "cell_type": "markdown",
   "id": "89e7a7a1",
   "metadata": {
    "papermill": {
     "duration": 0.011363,
     "end_time": "2022-12-01T17:57:31.600387",
     "exception": false,
     "start_time": "2022-12-01T17:57:31.589024",
     "status": "completed"
    },
    "tags": []
   },
   "source": [
    "### Text Vectorization Using 'int' as output mode"
   ]
  },
  {
   "cell_type": "code",
   "execution_count": 16,
   "id": "08e4d18e",
   "metadata": {
    "execution": {
     "iopub.execute_input": "2022-12-01T17:57:31.624488Z",
     "iopub.status.busy": "2022-12-01T17:57:31.623745Z",
     "iopub.status.idle": "2022-12-01T17:57:31.632172Z",
     "shell.execute_reply": "2022-12-01T17:57:31.631368Z"
    },
    "papermill": {
     "duration": 0.022589,
     "end_time": "2022-12-01T17:57:31.634092",
     "exception": false,
     "start_time": "2022-12-01T17:57:31.611503",
     "status": "completed"
    },
    "tags": []
   },
   "outputs": [],
   "source": [
    "text_vectorization_int = TextVectorization(standardize=custom_standardization,\n",
    "                                       output_mode = 'int')\n"
   ]
  },
  {
   "cell_type": "code",
   "execution_count": 17,
   "id": "4c147aa9",
   "metadata": {
    "execution": {
     "iopub.execute_input": "2022-12-01T17:57:31.657800Z",
     "iopub.status.busy": "2022-12-01T17:57:31.657510Z",
     "iopub.status.idle": "2022-12-01T17:57:32.025569Z",
     "shell.execute_reply": "2022-12-01T17:57:32.024518Z"
    },
    "papermill": {
     "duration": 0.383187,
     "end_time": "2022-12-01T17:57:32.028290",
     "exception": false,
     "start_time": "2022-12-01T17:57:31.645103",
     "status": "completed"
    },
    "tags": []
   },
   "outputs": [],
   "source": [
    "text_vectorization_int.adapt(X)"
   ]
  },
  {
   "cell_type": "code",
   "execution_count": 18,
   "id": "de71c99f",
   "metadata": {
    "execution": {
     "iopub.execute_input": "2022-12-01T17:57:32.052807Z",
     "iopub.status.busy": "2022-12-01T17:57:32.052498Z",
     "iopub.status.idle": "2022-12-01T17:57:32.116202Z",
     "shell.execute_reply": "2022-12-01T17:57:32.115251Z"
    },
    "papermill": {
     "duration": 0.078571,
     "end_time": "2022-12-01T17:57:32.118503",
     "exception": false,
     "start_time": "2022-12-01T17:57:32.039932",
     "status": "completed"
    },
    "tags": []
   },
   "outputs": [
    {
     "data": {
      "text/plain": [
       "(TensorShape([5709, 31]), TensorShape([1904, 29]))"
      ]
     },
     "execution_count": 18,
     "metadata": {},
     "output_type": "execute_result"
    }
   ],
   "source": [
    "X_train_int = text_vectorization_int(X_train)\n",
    "X_test_int = text_vectorization_int(X_test)\n",
    "\n",
    "\n",
    "X_train_int.shape,X_test_int.shape"
   ]
  },
  {
   "cell_type": "code",
   "execution_count": 19,
   "id": "833cc137",
   "metadata": {
    "execution": {
     "iopub.execute_input": "2022-12-01T17:57:32.142843Z",
     "iopub.status.busy": "2022-12-01T17:57:32.142282Z",
     "iopub.status.idle": "2022-12-01T17:57:32.149394Z",
     "shell.execute_reply": "2022-12-01T17:57:32.148378Z"
    },
    "papermill": {
     "duration": 0.021727,
     "end_time": "2022-12-01T17:57:32.151678",
     "exception": false,
     "start_time": "2022-12-01T17:57:32.129951",
     "status": "completed"
    },
    "tags": []
   },
   "outputs": [
    {
     "data": {
      "text/plain": [
       "(1904, 31)"
      ]
     },
     "execution_count": 19,
     "metadata": {},
     "output_type": "execute_result"
    }
   ],
   "source": [
    "X_test_int = np.hstack((X_test_int, np.zeros([1904,2])))\n",
    "X_test_int.shape"
   ]
  },
  {
   "cell_type": "markdown",
   "id": "213892ca",
   "metadata": {
    "papermill": {
     "duration": 0.011382,
     "end_time": "2022-12-01T17:57:32.174528",
     "exception": false,
     "start_time": "2022-12-01T17:57:32.163146",
     "status": "completed"
    },
    "tags": []
   },
   "source": [
    "# Naive Bayes Classifer!\n",
    "**Let's start a basic algorithm, the Naive Bayes Classifier.** \n",
    "\n",
    "**The Propability of y=1 given all of our features:**\n",
    "> P(x|y) = {1 if P(x|y)>0.5}"
   ]
  },
  {
   "cell_type": "code",
   "execution_count": 20,
   "id": "d27bc25b",
   "metadata": {
    "execution": {
     "iopub.execute_input": "2022-12-01T17:57:32.198241Z",
     "iopub.status.busy": "2022-12-01T17:57:32.197952Z",
     "iopub.status.idle": "2022-12-01T17:57:32.213559Z",
     "shell.execute_reply": "2022-12-01T17:57:32.212447Z"
    },
    "papermill": {
     "duration": 0.030842,
     "end_time": "2022-12-01T17:57:32.216621",
     "exception": false,
     "start_time": "2022-12-01T17:57:32.185779",
     "status": "completed"
    },
    "tags": []
   },
   "outputs": [
    {
     "name": "stdout",
     "output_type": "stream",
     "text": [
      "Accuracy score for Random Forest: 0.43015\n"
     ]
    }
   ],
   "source": [
    "from sklearn.naive_bayes import GaussianNB\n",
    "from sklearn.metrics import accuracy_score\n",
    "\n",
    "gnb = GaussianNB()\n",
    "gnb.fit(X_train_int, y_train)\n",
    "\n",
    "pred = gnb.predict(X_test_int)\n",
    "\n",
    "\n",
    "print(\"Accuracy score for Random Forest:\",round(accuracy_score(y_test, pred),5))"
   ]
  },
  {
   "cell_type": "markdown",
   "id": "1f6e59cb",
   "metadata": {
    "papermill": {
     "duration": 0.011189,
     "end_time": "2022-12-01T17:57:32.239419",
     "exception": false,
     "start_time": "2022-12-01T17:57:32.228230",
     "status": "completed"
    },
    "tags": []
   },
   "source": [
    "**Not the best results here, Let's try building a Neural Network Model.**"
   ]
  },
  {
   "cell_type": "markdown",
   "id": "db691201",
   "metadata": {
    "papermill": {
     "duration": 0.01119,
     "end_time": "2022-12-01T17:57:32.261963",
     "exception": false,
     "start_time": "2022-12-01T17:57:32.250773",
     "status": "completed"
    },
    "tags": []
   },
   "source": [
    "# Building our Neural Network Model"
   ]
  },
  {
   "cell_type": "code",
   "execution_count": 21,
   "id": "1a2e9df5",
   "metadata": {
    "execution": {
     "iopub.execute_input": "2022-12-01T17:57:32.286494Z",
     "iopub.status.busy": "2022-12-01T17:57:32.286195Z",
     "iopub.status.idle": "2022-12-01T17:57:32.331415Z",
     "shell.execute_reply": "2022-12-01T17:57:32.330290Z"
    },
    "papermill": {
     "duration": 0.060638,
     "end_time": "2022-12-01T17:57:32.334016",
     "exception": false,
     "start_time": "2022-12-01T17:57:32.273378",
     "status": "completed"
    },
    "tags": []
   },
   "outputs": [
    {
     "name": "stdout",
     "output_type": "stream",
     "text": [
      "Model: \"mynet\"\n",
      "_________________________________________________________________\n",
      "Layer (type)                 Output Shape              Param #   \n",
      "=================================================================\n",
      "hidden1 (Dense)              (None, 16)                512       \n",
      "_________________________________________________________________\n",
      "output_layer (Dense)         (None, 1)                 17        \n",
      "=================================================================\n",
      "Total params: 529\n",
      "Trainable params: 529\n",
      "Non-trainable params: 0\n",
      "_________________________________________________________________\n"
     ]
    }
   ],
   "source": [
    "np.random.seed(122) #set the seed in numpy\n",
    "tf.random.set_seed(1233)  #set the seed in tensorflow\n",
    "\n",
    "#building the architecture of the model\n",
    "\n",
    "\n",
    "mynet = tf.keras.Sequential([\n",
    "    tf.keras.Input(shape=(31,)),\n",
    "    layers.Dense(units=16, activation='relu', name='hidden1'),\n",
    "    layers.Dense(units=1, activation='sigmoid', name='output_layer')\n",
    "], name='mynet') #name is used in printout (can be different from 'mynet')\n",
    "\n",
    "#compiling the model\n",
    "mynet.compile(optimizer='rmsprop', #root mean square propagation optimizer\n",
    "              loss='binary_crossentropy', #measures model performance/accuracy\n",
    "              metrics=['accuracy']\n",
    "             ) \n",
    "\n",
    "mynet.summary()"
   ]
  },
  {
   "cell_type": "markdown",
   "id": "6f9d0d07",
   "metadata": {
    "papermill": {
     "duration": 0.011174,
     "end_time": "2022-12-01T17:57:32.356822",
     "exception": false,
     "start_time": "2022-12-01T17:57:32.345648",
     "status": "completed"
    },
    "tags": []
   },
   "source": [
    "# Fitting our Training data"
   ]
  },
  {
   "cell_type": "code",
   "execution_count": 22,
   "id": "10693459",
   "metadata": {
    "_kg_hide-output": true,
    "execution": {
     "iopub.execute_input": "2022-12-01T17:57:32.380822Z",
     "iopub.status.busy": "2022-12-01T17:57:32.380544Z",
     "iopub.status.idle": "2022-12-01T17:57:44.803857Z",
     "shell.execute_reply": "2022-12-01T17:57:44.802507Z"
    },
    "papermill": {
     "duration": 12.438294,
     "end_time": "2022-12-01T17:57:44.806438",
     "exception": false,
     "start_time": "2022-12-01T17:57:32.368144",
     "status": "completed"
    },
    "tags": []
   },
   "outputs": [
    {
     "name": "stdout",
     "output_type": "stream",
     "text": [
      "Epoch 1/20\n",
      "179/179 [==============================] - 2s 3ms/step - loss: 781.0867 - accuracy: 0.5201 - val_loss: 386.5309 - val_accuracy: 0.5273\n",
      "Epoch 2/20\n",
      "179/179 [==============================] - 1s 3ms/step - loss: 307.0296 - accuracy: 0.5185 - val_loss: 265.6634 - val_accuracy: 0.5084\n",
      "Epoch 3/20\n",
      "179/179 [==============================] - 0s 3ms/step - loss: 213.5302 - accuracy: 0.5302 - val_loss: 199.7580 - val_accuracy: 0.5294\n",
      "Epoch 4/20\n",
      "179/179 [==============================] - 0s 3ms/step - loss: 156.6914 - accuracy: 0.5351 - val_loss: 149.8792 - val_accuracy: 0.5336\n",
      "Epoch 5/20\n",
      "179/179 [==============================] - 1s 4ms/step - loss: 119.1499 - accuracy: 0.5490 - val_loss: 112.3637 - val_accuracy: 0.5404\n",
      "Epoch 6/20\n",
      "179/179 [==============================] - 1s 3ms/step - loss: 94.3887 - accuracy: 0.5427 - val_loss: 92.1646 - val_accuracy: 0.5299\n",
      "Epoch 7/20\n",
      "179/179 [==============================] - 0s 3ms/step - loss: 76.7539 - accuracy: 0.5458 - val_loss: 79.8858 - val_accuracy: 0.5341\n",
      "Epoch 8/20\n",
      "179/179 [==============================] - 0s 3ms/step - loss: 62.8900 - accuracy: 0.5448 - val_loss: 60.5734 - val_accuracy: 0.5362\n",
      "Epoch 9/20\n",
      "179/179 [==============================] - 1s 3ms/step - loss: 52.2263 - accuracy: 0.5528 - val_loss: 56.9434 - val_accuracy: 0.5336\n",
      "Epoch 10/20\n",
      "179/179 [==============================] - 0s 3ms/step - loss: 44.3419 - accuracy: 0.5565 - val_loss: 43.1577 - val_accuracy: 0.5247\n",
      "Epoch 11/20\n",
      "179/179 [==============================] - 1s 3ms/step - loss: 39.5539 - accuracy: 0.5504 - val_loss: 38.1904 - val_accuracy: 0.5431\n",
      "Epoch 12/20\n",
      "179/179 [==============================] - 1s 3ms/step - loss: 34.9267 - accuracy: 0.5511 - val_loss: 36.9147 - val_accuracy: 0.5357\n",
      "Epoch 13/20\n",
      "179/179 [==============================] - 1s 3ms/step - loss: 31.1500 - accuracy: 0.5540 - val_loss: 44.5879 - val_accuracy: 0.4580\n",
      "Epoch 14/20\n",
      "179/179 [==============================] - 1s 3ms/step - loss: 28.4047 - accuracy: 0.5516 - val_loss: 26.7330 - val_accuracy: 0.5116\n",
      "Epoch 15/20\n",
      "179/179 [==============================] - 1s 3ms/step - loss: 26.0986 - accuracy: 0.5549 - val_loss: 25.3926 - val_accuracy: 0.5625\n",
      "Epoch 16/20\n",
      "179/179 [==============================] - 1s 3ms/step - loss: 25.2160 - accuracy: 0.5444 - val_loss: 24.7288 - val_accuracy: 0.5089\n",
      "Epoch 17/20\n",
      "179/179 [==============================] - 1s 3ms/step - loss: 23.5139 - accuracy: 0.5483 - val_loss: 19.3317 - val_accuracy: 0.5189\n",
      "Epoch 18/20\n",
      "179/179 [==============================] - 1s 3ms/step - loss: 21.3965 - accuracy: 0.5539 - val_loss: 21.1489 - val_accuracy: 0.5089\n",
      "Epoch 19/20\n",
      "179/179 [==============================] - 0s 3ms/step - loss: 21.1927 - accuracy: 0.5484 - val_loss: 15.0628 - val_accuracy: 0.5357\n",
      "Epoch 20/20\n",
      "179/179 [==============================] - 1s 3ms/step - loss: 20.2717 - accuracy: 0.5626 - val_loss: 28.2854 - val_accuracy: 0.5446\n"
     ]
    }
   ],
   "source": [
    "history = mynet.fit(X_train_int, y_train, validation_data = (X_test_int,y_test), epochs = 20)"
   ]
  },
  {
   "cell_type": "code",
   "execution_count": 23,
   "id": "e3c1de86",
   "metadata": {
    "execution": {
     "iopub.execute_input": "2022-12-01T17:57:44.852066Z",
     "iopub.status.busy": "2022-12-01T17:57:44.851334Z",
     "iopub.status.idle": "2022-12-01T17:57:45.038061Z",
     "shell.execute_reply": "2022-12-01T17:57:45.037058Z"
    },
    "papermill": {
     "duration": 0.211257,
     "end_time": "2022-12-01T17:57:45.040563",
     "exception": false,
     "start_time": "2022-12-01T17:57:44.829306",
     "status": "completed"
    },
    "tags": []
   },
   "outputs": [
    {
     "name": "stdout",
     "output_type": "stream",
     "text": [
      "60/60 - 0s - loss: 28.2854 - accuracy: 0.5446\n"
     ]
    }
   ],
   "source": [
    "test_loss, test_acc = mynet.evaluate(X_test_int, y_test, verbose=2)"
   ]
  },
  {
   "cell_type": "markdown",
   "id": "21133c6b",
   "metadata": {
    "papermill": {
     "duration": 0.020978,
     "end_time": "2022-12-01T17:57:45.082783",
     "exception": false,
     "start_time": "2022-12-01T17:57:45.061805",
     "status": "completed"
    },
    "tags": []
   },
   "source": [
    "# Results"
   ]
  },
  {
   "cell_type": "code",
   "execution_count": 24,
   "id": "78d86633",
   "metadata": {
    "execution": {
     "iopub.execute_input": "2022-12-01T17:57:45.126680Z",
     "iopub.status.busy": "2022-12-01T17:57:45.125820Z",
     "iopub.status.idle": "2022-12-01T17:57:45.347932Z",
     "shell.execute_reply": "2022-12-01T17:57:45.347020Z"
    },
    "papermill": {
     "duration": 0.246065,
     "end_time": "2022-12-01T17:57:45.350121",
     "exception": false,
     "start_time": "2022-12-01T17:57:45.104056",
     "status": "completed"
    },
    "tags": []
   },
   "outputs": [
    {
     "data": {
      "image/png": "[encoded data removed]",
      "text/plain": [
       "<Figure size 770.4x523.44 with 1 Axes>"
      ]
     },
     "metadata": {
      "needs_background": "light"
     },
     "output_type": "display_data"
    }
   ],
   "source": [
    "plt.plot(history.history['accuracy'])\n",
    "plt.plot(history.history['val_accuracy'])\n",
    "plt.title('model accuracy')\n",
    "plt.ylabel('accuracy')\n",
    "plt.xlabel('epoch')\n",
    "plt.legend(['train', 'val'], loc='upper left')\n",
    "plt.show()"
   ]
  },
  {
   "cell_type": "markdown",
   "id": "165d6f16",
   "metadata": {
    "papermill": {
     "duration": 0.021219,
     "end_time": "2022-12-01T17:57:45.392838",
     "exception": false,
     "start_time": "2022-12-01T17:57:45.371619",
     "status": "completed"
    },
    "tags": []
   },
   "source": [
    "### As we can see, both our methods preformed horribly. Let's see what we can do to make them better!"
   ]
  },
  {
   "cell_type": "markdown",
   "id": "4293e306",
   "metadata": {
    "papermill": {
     "duration": 0.020954,
     "end_time": "2022-12-01T17:57:45.434886",
     "exception": false,
     "start_time": "2022-12-01T17:57:45.413932",
     "status": "completed"
    },
    "tags": []
   },
   "source": [
    "### Text Vectorization Using different methods.\n",
    "\n",
    "* First, Let's change our output_mode to \"count\", this will output an int array containing a count of that number appearing in that batch, and 0 everywhere else.\n",
    "> output_mode = 'count'\n",
    "* Next, Let's set a limit for our tokens or else we'd be indexing every word or ngrams of words in our vocabulary. Tokens can be thought of as features (vocabulary), with our output_mode being 'count', the number of features will be very large, so we will limit them to the top 20,000, to ignore the words that only occur once or twice. \n",
    "> max_tokens = 20000\n",
    "* Finally, let's set our ngrams to 5. \n",
    "> ngrams = 5\n",
    "\n",
    "**For a quick ngrams explanation:**\n",
    "\n",
    "* Text:\n",
    "> \"hello pretty cat\"\n",
    "\n",
    "* with ngrams = 1, our text will tokenize to:\n",
    "> \"hello\",\"pretty\",\"cat\".\n",
    "\n",
    "* But with ngrams = 2, our text will tokenize to:\n",
    "> \"hello\",\"hello pretty\",\"pretty\",\"pretty cat\", \"cat\", etc...\n"
   ]
  },
  {
   "cell_type": "code",
   "execution_count": 25,
   "id": "6a5c1b91",
   "metadata": {
    "execution": {
     "iopub.execute_input": "2022-12-01T17:57:45.480454Z",
     "iopub.status.busy": "2022-12-01T17:57:45.478717Z",
     "iopub.status.idle": "2022-12-01T17:57:45.487883Z",
     "shell.execute_reply": "2022-12-01T17:57:45.487055Z"
    },
    "papermill": {
     "duration": 0.03366,
     "end_time": "2022-12-01T17:57:45.489844",
     "exception": false,
     "start_time": "2022-12-01T17:57:45.456184",
     "status": "completed"
    },
    "tags": []
   },
   "outputs": [],
   "source": [
    "text_vectorization_count = TextVectorization(standardize=custom_standardization,\n",
    "                                       max_tokens = 20000,\n",
    "                                       output_mode = 'count',\n",
    "                                       ngrams=5)\n"
   ]
  },
  {
   "cell_type": "code",
   "execution_count": 26,
   "id": "64dad44b",
   "metadata": {
    "execution": {
     "iopub.execute_input": "2022-12-01T17:57:45.533487Z",
     "iopub.status.busy": "2022-12-01T17:57:45.533180Z",
     "iopub.status.idle": "2022-12-01T17:57:46.693345Z",
     "shell.execute_reply": "2022-12-01T17:57:46.692296Z"
    },
    "papermill": {
     "duration": 1.184851,
     "end_time": "2022-12-01T17:57:46.695812",
     "exception": false,
     "start_time": "2022-12-01T17:57:45.510961",
     "status": "completed"
    },
    "tags": []
   },
   "outputs": [],
   "source": [
    "text_vectorization_count.adapt(X)"
   ]
  },
  {
   "cell_type": "code",
   "execution_count": 27,
   "id": "c184716a",
   "metadata": {
    "execution": {
     "iopub.execute_input": "2022-12-01T17:57:46.748446Z",
     "iopub.status.busy": "2022-12-01T17:57:46.748082Z",
     "iopub.status.idle": "2022-12-01T17:57:47.164696Z",
     "shell.execute_reply": "2022-12-01T17:57:47.163926Z"
    },
    "papermill": {
     "duration": 0.442929,
     "end_time": "2022-12-01T17:57:47.166805",
     "exception": false,
     "start_time": "2022-12-01T17:57:46.723876",
     "status": "completed"
    },
    "tags": []
   },
   "outputs": [
    {
     "data": {
      "text/plain": [
       "(TensorShape([5709, 20000]), TensorShape([1904, 20000]))"
      ]
     },
     "execution_count": 27,
     "metadata": {},
     "output_type": "execute_result"
    }
   ],
   "source": [
    "X_train_count = text_vectorization_count(X_train)\n",
    "X_test_count = text_vectorization_count(X_test)\n",
    "\n",
    "\n",
    "X_train_count.shape,X_test_count.shape"
   ]
  },
  {
   "cell_type": "markdown",
   "id": "7d6691a9",
   "metadata": {
    "papermill": {
     "duration": 0.021933,
     "end_time": "2022-12-01T17:57:47.211855",
     "exception": false,
     "start_time": "2022-12-01T17:57:47.189922",
     "status": "completed"
    },
    "tags": []
   },
   "source": [
    "# Back to Naive Bayes one last time"
   ]
  },
  {
   "cell_type": "code",
   "execution_count": 28,
   "id": "a0bbb101",
   "metadata": {
    "execution": {
     "iopub.execute_input": "2022-12-01T17:57:47.320081Z",
     "iopub.status.busy": "2022-12-01T17:57:47.319338Z",
     "iopub.status.idle": "2022-12-01T17:57:48.755624Z",
     "shell.execute_reply": "2022-12-01T17:57:48.753648Z"
    },
    "papermill": {
     "duration": 1.492105,
     "end_time": "2022-12-01T17:57:48.758124",
     "exception": false,
     "start_time": "2022-12-01T17:57:47.266019",
     "status": "completed"
    },
    "tags": []
   },
   "outputs": [
    {
     "name": "stdout",
     "output_type": "stream",
     "text": [
      "Accuracy score for Random Forest: 0.75315\n"
     ]
    }
   ],
   "source": [
    "from sklearn.naive_bayes import GaussianNB\n",
    "from sklearn.metrics import accuracy_score\n",
    "\n",
    "gnb = GaussianNB()\n",
    "gnb.fit(X_train_count, y_train)\n",
    "\n",
    "pred = gnb.predict(X_test_count)\n",
    "\n",
    "\n",
    "print(\"Accuracy score for Random Forest:\",round(accuracy_score(y_test, pred),5))"
   ]
  },
  {
   "cell_type": "markdown",
   "id": "26e20970",
   "metadata": {
    "papermill": {
     "duration": 0.021628,
     "end_time": "2022-12-01T17:57:48.802873",
     "exception": false,
     "start_time": "2022-12-01T17:57:48.781245",
     "status": "completed"
    },
    "tags": []
   },
   "source": [
    "**Much Better! Let's try our Neural Network model again, with some changes.**"
   ]
  },
  {
   "cell_type": "markdown",
   "id": "20b7b967",
   "metadata": {
    "papermill": {
     "duration": 0.021368,
     "end_time": "2022-12-01T17:57:48.845844",
     "exception": false,
     "start_time": "2022-12-01T17:57:48.824476",
     "status": "completed"
    },
    "tags": []
   },
   "source": [
    "# Building our new model\n",
    "### Here we added a Dropout Layer for Regularization "
   ]
  },
  {
   "cell_type": "code",
   "execution_count": 29,
   "id": "ec6b9b53",
   "metadata": {
    "execution": {
     "iopub.execute_input": "2022-12-01T17:57:48.891017Z",
     "iopub.status.busy": "2022-12-01T17:57:48.890670Z",
     "iopub.status.idle": "2022-12-01T17:57:48.927921Z",
     "shell.execute_reply": "2022-12-01T17:57:48.926788Z"
    },
    "papermill": {
     "duration": 0.063124,
     "end_time": "2022-12-01T17:57:48.930805",
     "exception": false,
     "start_time": "2022-12-01T17:57:48.867681",
     "status": "completed"
    },
    "tags": []
   },
   "outputs": [
    {
     "name": "stdout",
     "output_type": "stream",
     "text": [
      "Model: \"mynet\"\n",
      "_________________________________________________________________\n",
      "Layer (type)                 Output Shape              Param #   \n",
      "=================================================================\n",
      "hidden1 (Dense)              (None, 16)                320016    \n",
      "_________________________________________________________________\n",
      "dropout (Dropout)            (None, 16)                0         \n",
      "_________________________________________________________________\n",
      "output_layer (Dense)         (None, 1)                 17        \n",
      "=================================================================\n",
      "Total params: 320,033\n",
      "Trainable params: 320,033\n",
      "Non-trainable params: 0\n",
      "_________________________________________________________________\n"
     ]
    }
   ],
   "source": [
    "np.random.seed(122) #set the seed in numpy\n",
    "tf.random.set_seed(1233)  #set the seed in tensorflow\n",
    "\n",
    "#building the architecture of the model\n",
    "\n",
    "\n",
    "mynet = tf.keras.Sequential([\n",
    "    tf.keras.Input(shape=(20000,)),\n",
    "    layers.Dense(units=16, activation='relu', name='hidden1'),\n",
    "    layers.Dropout(0.7),\n",
    "    layers.Dense(units=1, activation='sigmoid', name='output_layer')\n",
    "], name='mynet') #name is used in printout (can be different from 'mynet')\n",
    "\n",
    "#compiling the model\n",
    "mynet.compile(optimizer='rmsprop', #root mean square propagation optimizer\n",
    "              loss='binary_crossentropy', #measures model performance/accuracy\n",
    "              metrics=['accuracy']\n",
    "             ) \n",
    "\n",
    "mynet.summary()"
   ]
  },
  {
   "cell_type": "code",
   "execution_count": 30,
   "id": "ce297700",
   "metadata": {
    "_kg_hide-output": true,
    "execution": {
     "iopub.execute_input": "2022-12-01T17:57:48.975928Z",
     "iopub.status.busy": "2022-12-01T17:57:48.975610Z",
     "iopub.status.idle": "2022-12-01T17:58:10.988170Z",
     "shell.execute_reply": "2022-12-01T17:58:10.987173Z"
    },
    "papermill": {
     "duration": 22.037477,
     "end_time": "2022-12-01T17:58:10.990513",
     "exception": false,
     "start_time": "2022-12-01T17:57:48.953036",
     "status": "completed"
    },
    "tags": []
   },
   "outputs": [
    {
     "name": "stdout",
     "output_type": "stream",
     "text": [
      "Epoch 1/20\n",
      "286/286 [==============================] - 2s 4ms/step - loss: 0.6597 - accuracy: 0.6211 - val_loss: 0.6025 - val_accuracy: 0.7584\n",
      "Epoch 2/20\n",
      "286/286 [==============================] - 1s 3ms/step - loss: 0.5789 - accuracy: 0.7154 - val_loss: 0.5285 - val_accuracy: 0.7789\n",
      "Epoch 3/20\n",
      "286/286 [==============================] - 1s 3ms/step - loss: 0.5339 - accuracy: 0.7528 - val_loss: 0.5072 - val_accuracy: 0.7852\n",
      "Epoch 4/20\n",
      "286/286 [==============================] - 1s 4ms/step - loss: 0.5019 - accuracy: 0.7716 - val_loss: 0.5061 - val_accuracy: 0.7878\n",
      "Epoch 5/20\n",
      "286/286 [==============================] - 1s 4ms/step - loss: 0.4797 - accuracy: 0.7831 - val_loss: 0.5172 - val_accuracy: 0.7731\n",
      "Epoch 6/20\n",
      "286/286 [==============================] - 1s 4ms/step - loss: 0.4726 - accuracy: 0.7881 - val_loss: 0.5071 - val_accuracy: 0.7936\n",
      "Epoch 7/20\n",
      "286/286 [==============================] - 1s 4ms/step - loss: 0.4613 - accuracy: 0.7994 - val_loss: 0.5016 - val_accuracy: 0.8062\n",
      "Epoch 8/20\n",
      "286/286 [==============================] - 1s 4ms/step - loss: 0.4493 - accuracy: 0.8103 - val_loss: 0.5020 - val_accuracy: 0.8151\n",
      "Epoch 9/20\n",
      "286/286 [==============================] - 1s 5ms/step - loss: 0.4457 - accuracy: 0.8161 - val_loss: 0.5078 - val_accuracy: 0.8141\n",
      "Epoch 10/20\n",
      "286/286 [==============================] - 1s 4ms/step - loss: 0.4426 - accuracy: 0.8191 - val_loss: 0.5102 - val_accuracy: 0.8178\n",
      "Epoch 11/20\n",
      "286/286 [==============================] - 1s 4ms/step - loss: 0.4340 - accuracy: 0.8268 - val_loss: 0.5356 - val_accuracy: 0.7952\n",
      "Epoch 12/20\n",
      "286/286 [==============================] - 1s 4ms/step - loss: 0.4396 - accuracy: 0.8320 - val_loss: 0.5251 - val_accuracy: 0.8057\n",
      "Epoch 13/20\n",
      "286/286 [==============================] - 1s 4ms/step - loss: 0.4312 - accuracy: 0.8238 - val_loss: 0.5213 - val_accuracy: 0.8136\n",
      "Epoch 14/20\n",
      "286/286 [==============================] - 1s 4ms/step - loss: 0.4209 - accuracy: 0.8331 - val_loss: 0.5395 - val_accuracy: 0.8072\n",
      "Epoch 15/20\n",
      "286/286 [==============================] - 1s 4ms/step - loss: 0.4195 - accuracy: 0.8339 - val_loss: 0.5364 - val_accuracy: 0.8157\n",
      "Epoch 16/20\n",
      "286/286 [==============================] - 1s 4ms/step - loss: 0.4144 - accuracy: 0.8334 - val_loss: 0.5535 - val_accuracy: 0.8088\n",
      "Epoch 17/20\n",
      "286/286 [==============================] - 1s 4ms/step - loss: 0.4224 - accuracy: 0.8371 - val_loss: 0.5418 - val_accuracy: 0.8193\n",
      "Epoch 18/20\n",
      "286/286 [==============================] - 1s 4ms/step - loss: 0.4164 - accuracy: 0.8373 - val_loss: 0.5453 - val_accuracy: 0.8204\n",
      "Epoch 19/20\n",
      "286/286 [==============================] - 1s 4ms/step - loss: 0.4062 - accuracy: 0.8425 - val_loss: 0.5485 - val_accuracy: 0.8209\n",
      "Epoch 20/20\n",
      "286/286 [==============================] - 1s 4ms/step - loss: 0.4115 - accuracy: 0.8383 - val_loss: 0.5497 - val_accuracy: 0.8235\n"
     ]
    }
   ],
   "source": [
    "history = mynet.fit(X_train_count, y_train, validation_data = (X_test_count,y_test), epochs = 20, batch_size=20)"
   ]
  },
  {
   "cell_type": "code",
   "execution_count": 31,
   "id": "254af36f",
   "metadata": {
    "execution": {
     "iopub.execute_input": "2022-12-01T17:58:11.073418Z",
     "iopub.status.busy": "2022-12-01T17:58:11.072532Z",
     "iopub.status.idle": "2022-12-01T17:58:11.248416Z",
     "shell.execute_reply": "2022-12-01T17:58:11.247475Z"
    },
    "papermill": {
     "duration": 0.219287,
     "end_time": "2022-12-01T17:58:11.250800",
     "exception": false,
     "start_time": "2022-12-01T17:58:11.031513",
     "status": "completed"
    },
    "tags": []
   },
   "outputs": [
    {
     "name": "stdout",
     "output_type": "stream",
     "text": [
      "60/60 - 0s - loss: 0.5497 - accuracy: 0.8235\n"
     ]
    }
   ],
   "source": [
    "test_loss, test_acc = mynet.evaluate(X_test_count, y_test, verbose=2)"
   ]
  },
  {
   "cell_type": "code",
   "execution_count": 32,
   "id": "783d942b",
   "metadata": {
    "execution": {
     "iopub.execute_input": "2022-12-01T17:58:11.333927Z",
     "iopub.status.busy": "2022-12-01T17:58:11.333499Z",
     "iopub.status.idle": "2022-12-01T17:58:11.556440Z",
     "shell.execute_reply": "2022-12-01T17:58:11.555485Z"
    },
    "papermill": {
     "duration": 0.266863,
     "end_time": "2022-12-01T17:58:11.558628",
     "exception": false,
     "start_time": "2022-12-01T17:58:11.291765",
     "status": "completed"
    },
    "tags": []
   },
   "outputs": [
    {
     "data": {
      "image/png": "[encoded data removed]",
      "text/plain": [
       "<Figure size 770.4x523.44 with 1 Axes>"
      ]
     },
     "metadata": {
      "needs_background": "light"
     },
     "output_type": "display_data"
    }
   ],
   "source": [
    "plt.plot(history.history['accuracy'])\n",
    "plt.plot(history.history['val_accuracy'])\n",
    "plt.title('model accuracy')\n",
    "plt.ylabel('accuracy')\n",
    "plt.xlabel('epoch')\n",
    "plt.legend(['train', 'val'], loc='upper left')\n",
    "plt.show()"
   ]
  },
  {
   "cell_type": "markdown",
   "id": "52bd5eae",
   "metadata": {
    "papermill": {
     "duration": 0.040322,
     "end_time": "2022-12-01T17:58:11.639969",
     "exception": false,
     "start_time": "2022-12-01T17:58:11.599647",
     "status": "completed"
    },
    "tags": []
   },
   "source": [
    "## Much Better!\n",
    "### What else can be done?\n",
    "\n",
    "Next, I would love to learn more about transformers, and word Embeddings. Transformers are very popular in NLP, and could potentially increase our accuracy! NLP and Computer Vision are two fields in the deep learning world that I am very interested in. But first, I must master the foundation of all the basic algorithms. Thank you!\n"
   ]
  }
 ],
 "metadata": {
  "kernelspec": {
   "display_name": "Python 3",
   "language": "python",
   "name": "python3"
  },
  "language_info": {
   "codemirror_mode": {
    "name": "ipython",
    "version": 3
   },
   "file_extension": ".py",
   "mimetype": "text/x-python",
   "name": "python",
   "nbconvert_exporter": "python",
   "pygments_lexer": "ipython3",
   "version": "3.7.12"
  },
  "papermill": {
   "default_parameters": {},
   "duration": 61.47757,
   "end_time": "2022-12-01T17:58:14.967134",
   "environment_variables": {},
   "exception": null,
   "input_path": "__notebook__.ipynb",
   "output_path": "__notebook__.ipynb",
   "parameters": {},
   "start_time": "2022-12-01T17:57:13.489564",
   "version": "2.3.4"
  }
 },
 "nbformat": 4,
 "nbformat_minor": 5
}
